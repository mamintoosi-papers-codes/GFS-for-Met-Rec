{
 "cells": [
  {
   "cell_type": "markdown",
   "metadata": {
    "id": "c7kOSf97BXZA"
   },
   "source": [
    "https://github.com/mamintoosi/FS-in-Bio-Graphs"
   ]
  },
  {
   "cell_type": "code",
   "execution_count": null,
   "metadata": {
    "colab": {
     "base_uri": "https://localhost:8080/"
    },
    "id": "5xgj1FAAC28m",
    "outputId": "978240a0-f281-4fa9-bcfc-9124db32cf53"
   },
   "outputs": [],
   "source": [
    "# Install required packages.\n",
    "!pip install matplotlib_venn\n",
    "!pip install ml_metrics"
   ]
  },
  {
   "cell_type": "code",
   "execution_count": null,
   "metadata": {
    "colab": {
     "base_uri": "https://localhost:8080/"
    },
    "id": "IhXQ3I7XBV11",
    "outputId": "65f00754-d91b-40e5-c9a7-669bc061a2ae"
   },
   "outputs": [],
   "source": [
    "!git clone https://github.com/mamintoosi/FS-in-Bio-Graphs.git"
   ]
  },
  {
   "cell_type": "code",
   "execution_count": null,
   "metadata": {
    "colab": {
     "base_uri": "https://localhost:8080/"
    },
    "id": "W3gS6tEhCAa4",
    "outputId": "4e65c0d0-b71e-4fb4-aa05-bb0c07be2b75"
   },
   "outputs": [],
   "source": [
    "%cd FS-in-Bio-Graphs/"
   ]
  },
  {
   "cell_type": "code",
   "execution_count": 7,
   "metadata": {},
   "outputs": [],
   "source": [
    "import pathlib\n",
    "path = pathlib.Path('tmp')\n",
    "path.mkdir(parents=True, exist_ok=True)"
   ]
  },
  {
   "cell_type": "code",
   "execution_count": null,
   "metadata": {},
   "outputs": [],
   "source": [
    "# %run src/main_stats.py --dataset_name Stomach\n",
    "%run src/main_stats.py --dataset_name Breast"
   ]
  },
  {
   "cell_type": "code",
   "execution_count": null,
   "metadata": {},
   "outputs": [],
   "source": [
    "# wdf['Met'].value_counts().max()\n",
    "# ax = sns.countplot(data = wdf, x='Met', order=wdf['Met'].value_counts('Met').iloc[:10].index, palette=['#99FF44'])\n",
    "# ax.tick_params(axis='x', rotation=90)\n",
    "# ax.set(xlabel='10 Most frequent Metabolites')\n",
    "# ax.set(ylabel='Number of Plants having each Met')\n",
    "# sns.color_palette(\"flare\", as_cmap=True)\n",
    "#  palette=\"Set3\"\n",
    "# plt.setp(g.get_xticklabels(), rotation=90)\n",
    "# ,color=\"salmon\"\n",
    "%reload_ext autoreload\n",
    "%autoreload 2\n",
    " \n",
    "from src.bio_graph_utils import df_bar_plot\n",
    "# df_bar_plot(wdf, 'results/AC_bar_charts')\n",
    "# df_bar_plot(true_df, 'results/stomach_bar_charts')\n",
    "# df_bar_plot(true_df, 'results/Wound_healing_bar_charts')\n",
    "df_bar_plot(true_df, 'results/Breast_bar_charts')"
   ]
  },
  {
   "cell_type": "code",
   "execution_count": null,
   "metadata": {},
   "outputs": [],
   "source": [
    "%run src/draw_graph.py"
   ]
  },
  {
   "cell_type": "code",
   "execution_count": null,
   "metadata": {},
   "outputs": [],
   "source": [
    "%%time\n",
    "%run src/main_features.py --dataset_name breast"
   ]
  },
  {
   "cell_type": "code",
   "execution_count": null,
   "metadata": {
    "colab": {
     "base_uri": "https://localhost:8080/"
    },
    "id": "N9BJY1Z_OUrU",
    "outputId": "7dc64d71-ec80-458c-ce26-14b6d86e200c"
   },
   "outputs": [],
   "source": [
    "%%time\n",
    "%run src/main_features.py --dataset_name Stomach"
   ]
  },
  {
   "cell_type": "code",
   "execution_count": null,
   "metadata": {},
   "outputs": [],
   "source": [
    "wdf"
   ]
  },
  {
   "cell_type": "code",
   "execution_count": null,
   "metadata": {},
   "outputs": [],
   "source": [
    "for subset_idx in indices:\n",
    "    f = [f_names[i] for i in subset_idx]\n",
    "    print(f)\n",
    "# f, best_idx"
   ]
  },
  {
   "cell_type": "code",
   "execution_count": null,
   "metadata": {},
   "outputs": [],
   "source": [
    "%run src/create_intersect_tables --dataset_name Stomach"
   ]
  },
  {
   "cell_type": "code",
   "execution_count": null,
   "metadata": {},
   "outputs": [],
   "source": [
    "%run src/create_intersect_tables --dataset_name Breast"
   ]
  },
  {
   "cell_type": "code",
   "execution_count": null,
   "metadata": {
    "colab": {
     "base_uri": "https://localhost:8080/",
     "height": 17
    },
    "id": "JktzgDmbOv0J",
    "outputId": "908883b8-8064-4fc1-fc4f-599942d4ccf8"
   },
   "outputs": [],
   "source": [
    "# from google.colab import files\n",
    "# files.download(score_file_name) \n",
    "# files.download(score_png_file_name) \n",
    "# files.download(ON_ong_file_name) \n",
    "# files.download(RT_ong_file_name) "
   ]
  },
  {
   "cell_type": "code",
   "execution_count": null,
   "metadata": {},
   "outputs": [],
   "source": [
    "gf_df.iloc[0,0]"
   ]
  },
  {
   "cell_type": "code",
   "execution_count": null,
   "metadata": {},
   "outputs": [],
   "source": [
    "d = subG.degree()\n",
    "print(d)\n",
    "d = subG.degree(weight='weight')\n",
    "print(d)"
   ]
  },
  {
   "cell_type": "code",
   "execution_count": null,
   "metadata": {},
   "outputs": [],
   "source": [
    "dfct_subG.head()"
   ]
  },
  {
   "cell_type": "code",
   "execution_count": null,
   "metadata": {},
   "outputs": [],
   "source": [
    "print('Number of Metabolites in connected subG of AC: ', len(dfct_subG.columns))\n",
    "second_graph_edges = list(true_df[edge_objects].unique())\n",
    "print('Number of Metabolites in Wound healing: ',len(second_graph_edges))\n",
    "intersected_edges = set(dfct_subG.columns).intersection(set(second_graph_edges))\n",
    "print('Number of intersection Meabolites:', len(intersected_edges))"
   ]
  },
  {
   "cell_type": "code",
   "execution_count": null,
   "metadata": {},
   "outputs": [],
   "source": [
    "dfct_subG_cp = dfct_subG.copy()\n",
    "# dfct_subG_cp.head()\n"
   ]
  },
  {
   "cell_type": "code",
   "execution_count": null,
   "metadata": {},
   "outputs": [],
   "source": [
    "print(dfct_subG_cp.loc['Angelica furcijuga'].sum())\n",
    "for row in range(dfct_subG_cp.shape[0]):\n",
    "    for e in intersected_edges:\n",
    "        if dfct_subG_cp.iloc[row][e] != 0:\n",
    "            dfct_subG_cp.iloc[row][e] += 1\n",
    "# dfct_subG_cp.loc['Angelica furcijuga','C00000113']\n",
    "print(dfct_subG_cp.loc['Angelica furcijuga'].sum())"
   ]
  },
  {
   "cell_type": "markdown",
   "metadata": {},
   "source": [
    "فقط ده گیاه مشترک در دو فایل داریم و نود متابولیت مشترک.\n",
    "الان از متابولیت‌های فایل دوم هیچ استفاده‌ای نداریم. "
   ]
  },
  {
   "cell_type": "code",
   "execution_count": null,
   "metadata": {},
   "outputs": [],
   "source": [
    "print('Number of Plants in connected subG of AC: ',len(dfct_subG.index.values)) \n",
    "second_graph_nodes = list(true_df[node_objects].unique())\n",
    "print('Number of Plants in Wound healing: ',len(second_graph_nodes))\n",
    "print('Number of intersection Plants:',len(set(dfct_subG.index.values).intersection(set(second_graph_nodes))))\n",
    "# len(dfct.index.values)"
   ]
  },
  {
   "cell_type": "code",
   "execution_count": null,
   "metadata": {},
   "outputs": [],
   "source": [
    "edges,weights = zip(*nx.get_edge_attributes(subG,'weight').items())\n",
    "print(edges[:4])\n",
    "print(weights[:4])"
   ]
  },
  {
   "cell_type": "code",
   "execution_count": null,
   "metadata": {},
   "outputs": [],
   "source": [
    "# subG['Angelica furcijuga']\n",
    "list1 = list(dfct_subG.loc['Angelica furcijuga'])\n",
    "list2 = list(dfct_subG.loc['Camellia sinensis'])\n",
    "list3 = [sum(x) for x in zip(list1, list2)]\n",
    "indices = [i for i, x in enumerate(list3) if x == 2]\n",
    "len(indices)\n",
    "# دو یعنی در دو متابولیت مشترک بوده‌اند"
   ]
  },
  {
   "cell_type": "code",
   "execution_count": null,
   "metadata": {},
   "outputs": [],
   "source": [
    "edges,weights = zip(*nx.get_edge_attributes(G,'weight').items())\n",
    "print(edges[:4])\n",
    "print(weights[:4])"
   ]
  },
  {
   "cell_type": "code",
   "execution_count": null,
   "metadata": {},
   "outputs": [],
   "source": [
    "wdf[node_objects].value_counts()"
   ]
  },
  {
   "cell_type": "code",
   "execution_count": null,
   "metadata": {},
   "outputs": [],
   "source": [
    "# df.head()\n",
    "wdf[node_objects]"
   ]
  }
 ],
 "metadata": {
  "accelerator": "GPU",
  "colab": {
   "collapsed_sections": [],
   "name": "OverlappingClusterGCN.ipynb",
   "provenance": []
  },
  "kernelspec": {
   "display_name": "Python 3",
   "language": "python",
   "name": "python3"
  },
  "language_info": {
   "codemirror_mode": {
    "name": "ipython",
    "version": 3
   },
   "file_extension": ".py",
   "mimetype": "text/x-python",
   "name": "python",
   "nbconvert_exporter": "python",
   "pygments_lexer": "ipython3",
   "version": "3.7.11"
  }
 },
 "nbformat": 4,
 "nbformat_minor": 2
}
