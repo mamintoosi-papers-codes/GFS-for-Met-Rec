{
 "cells": [
  {
   "cell_type": "markdown",
   "metadata": {
    "id": "c7kOSf97BXZA"
   },
   "source": [
    "https://github.com/mamintoosi/FS-in-Bio-Graphs"
   ]
  },
  {
   "cell_type": "code",
   "execution_count": null,
   "metadata": {
    "colab": {
     "base_uri": "https://localhost:8080/"
    },
    "id": "ZT1qA9rBBkJP",
    "outputId": "8b03613a-5ccc-4b07-c763-09008584c6bb"
   },
   "outputs": [],
   "source": [
    "import os, time\n",
    "# from time import gmtime, strftime\n",
    "if hasattr(time, 'tzset'):\n",
    "    os.environ['TZ'] = 'Asia/Tehran'\n",
    "    time.tzset()\n",
    "print(time.strftime('%X'))\n"
   ]
  },
  {
   "cell_type": "code",
   "execution_count": null,
   "metadata": {
    "colab": {
     "base_uri": "https://localhost:8080/"
    },
    "id": "5xgj1FAAC28m",
    "outputId": "978240a0-f281-4fa9-bcfc-9124db32cf53"
   },
   "outputs": [],
   "source": [
    "# Install required packages."
   ]
  },
  {
   "cell_type": "code",
   "execution_count": null,
   "metadata": {
    "colab": {
     "base_uri": "https://localhost:8080/"
    },
    "id": "IhXQ3I7XBV11",
    "outputId": "65f00754-d91b-40e5-c9a7-669bc061a2ae"
   },
   "outputs": [],
   "source": [
    "# !git clone https://github.com/mamintoosi/FS-in-Bio-Graphs.git"
   ]
  },
  {
   "cell_type": "code",
   "execution_count": null,
   "metadata": {
    "colab": {
     "base_uri": "https://localhost:8080/"
    },
    "id": "W3gS6tEhCAa4",
    "outputId": "4e65c0d0-b71e-4fb4-aa05-bb0c07be2b75"
   },
   "outputs": [],
   "source": [
    "# %cd FS-in-Bio-Graphs/"
   ]
  },
  {
   "cell_type": "code",
   "execution_count": null,
   "metadata": {},
   "outputs": [],
   "source": [
    "# %run src/main_stats.py --dataset_name Stomach\n",
    "%run src/main_stats.py --dataset_name Wound_healing"
   ]
  },
  {
   "cell_type": "code",
   "execution_count": null,
   "metadata": {},
   "outputs": [],
   "source": [
    "# wdf['Met'].value_counts().max()\n",
    "# ax = sns.countplot(data = wdf, x='Met', order=wdf['Met'].value_counts('Met').iloc[:10].index, palette=['#99FF44'])\n",
    "# ax.tick_params(axis='x', rotation=90)\n",
    "# ax.set(xlabel='10 Most frequent Metabolites')\n",
    "# ax.set(ylabel='Number of Plants having each Met')\n",
    "# sns.color_palette(\"flare\", as_cmap=True)\n",
    "#  palette=\"Set3\"\n",
    "# plt.setp(g.get_xticklabels(), rotation=90)\n",
    "# ,color=\"salmon\"\n",
    "%reload_ext autoreload\n",
    "%autoreload 2\n",
    " \n",
    "from src.bio_graph_utils import df_bar_plot\n",
    "# df_bar_plot(wdf, 'results/AC_bar_charts')\n",
    "# df_bar_plot(true_df, 'results/stomach_bar_charts')\n",
    "df_bar_plot(true_df, 'results/Wound_healing_bar_charts.png')"
   ]
  },
  {
   "cell_type": "code",
   "execution_count": 1,
   "metadata": {},
   "outputs": [
    {
     "name": "stdout",
     "output_type": "stream",
     "text": [
      "Table info:  (5392, 2)\n",
      "Number of unique nodes (Plants) in main file:  3251\n"
     ]
    },
    {
     "data": {
      "application/vnd.jupyter.widget-view+json": {
       "model_id": "ba6493fc29b3401a91a7ea7c615dc270",
       "version_major": 2,
       "version_minor": 0
      },
      "text/plain": [
       "HBox(children=(FloatProgress(value=0.0, max=1.0), HTML(value='')))"
      ]
     },
     "metadata": {},
     "output_type": "display_data"
    },
    {
     "name": "stdout",
     "output_type": "stream",
     "text": [
      "Number of intersected Meabolites: 272\n",
      "\n"
     ]
    }
   ],
   "source": [
    "%run src/draw_graph.py"
   ]
  },
  {
   "cell_type": "code",
   "execution_count": 16,
   "metadata": {},
   "outputs": [],
   "source": [
    "import pickle\n",
    "from pathlib import Path\n",
    "\n",
    "# obj0, obj1, obj2 are created here...\n",
    "objs_file_name = \"tmp/\"+Path(working_file_name).stem+\"_\"+Path(GT_file_name).stem+\\\n",
    "                \"_\"+node_objects+\"_\"+edge_objects+\".pkl\"\n",
    "# Saving the objects:\n",
    "with open(objs_file_name, 'wb') as f:  # Python 3: open(..., 'wb')\n",
    "    pickle.dump([working_file_name, GT_file_name, node_objects,\\\n",
    "                edge_objects,G,dfct,bow,subG], f)\n",
    "\n",
    "# Getting back the objects:\n",
    "# with open('objs.pkl','rb') as f:  # Python 3: open(..., 'rb')\n",
    "#     obj0, obj1, obj2 = pickle.load(f)"
   ]
  },
  {
   "cell_type": "code",
   "execution_count": null,
   "metadata": {},
   "outputs": [],
   "source": [
    "print(len(subG))\n",
    "fig = plt.figure(figsize=(40, 40)) \n",
    "# nx.draw(subG, node_size=30, with_labels=True) \n",
    "# plt.axis('equal')\n",
    "# plt.show()\n",
    "# fig.savefig('waka.svg') "
   ]
  },
  {
   "cell_type": "code",
   "execution_count": 2,
   "metadata": {},
   "outputs": [],
   "source": [
    "A = nx.adjacency_matrix(subG)"
   ]
  },
  {
   "cell_type": "code",
   "execution_count": 5,
   "metadata": {},
   "outputs": [],
   "source": [
    "AD =  A.todense().astype(int)"
   ]
  },
  {
   "cell_type": "code",
   "execution_count": 30,
   "metadata": {},
   "outputs": [],
   "source": [
    "# list(subG.nodes())\n",
    "# fh = open(\"subg.csv\", \"wb\")\n",
    "# nx.write_adjlist(subG,fh, delimiter=\",\")"
   ]
  },
  {
   "cell_type": "code",
   "execution_count": 54,
   "metadata": {},
   "outputs": [],
   "source": [
    "import csv\n",
    "nodes_list = list(subG.nodes())\n",
    "with open('subg.csv', 'w') as f:\n",
    "      \n",
    "    # using csv.writer method from CSV package\n",
    "    write = csv.writer(f)\n",
    "      \n",
    "    write.writerow(nodes_list)\n",
    "    for i in range(len(nodes_list)):\n",
    "        row = []\n",
    "        row.append(nodes_list[i])\n",
    "        row += list(np.array(AD[0])[0])\n",
    "\n",
    "        write.writerow(row)\n",
    "# i = 0\n",
    "# row = []\n",
    "# row.append(nodes_list[i])\n",
    "# row.append(list(np.array(AD[0])[0]))\n",
    "# row"
   ]
  },
  {
   "cell_type": "code",
   "execution_count": 62,
   "metadata": {},
   "outputs": [],
   "source": [
    "with open('subg2.csv', 'w') as f:\n",
    "    f.write(\" , \")\n",
    "    f.write(','.join(nodes_list))\n",
    "    f.write(\"\\n\")\n",
    "    for i in range(len(nodes_list)):\n",
    "        row = []\n",
    "        row.append(nodes_list[i])\n",
    "        row += list(np.array(AD[i])[0])\n",
    "        lst_str = ','.join(map(str, row))\n",
    "        f.write(lst_str)\n",
    "        f.write(\"\\n\")"
   ]
  },
  {
   "cell_type": "code",
   "execution_count": 63,
   "metadata": {},
   "outputs": [],
   "source": [
    "# # list(np.array(AD[0])[0])\n",
    "# i = 0\n",
    "# row = []\n",
    "# row.append(nodes_list[i])\n",
    "# row += list(np.array(AD[0])[0])\n",
    "# row\n",
    "# ','.join(nodes_list)"
   ]
  },
  {
   "cell_type": "code",
   "execution_count": 33,
   "metadata": {},
   "outputs": [],
   "source": [
    " adj_list_to_file(subG,'tst.txt')"
   ]
  },
  {
   "cell_type": "code",
   "execution_count": 20,
   "metadata": {},
   "outputs": [],
   "source": [
    "from numpy import savetxt\n",
    "# # define data\n",
    "# data = asarray([[0, 1, 2, 3, 4, 5, 6, 7, 8, 9]])\n",
    "# save to csv file\n",
    "savetxt('data.csv', AD,fmt='%i', delimiter=',')#,header='true')"
   ]
  },
  {
   "cell_type": "code",
   "execution_count": null,
   "metadata": {},
   "outputs": [],
   "source": [
    "%%time\n",
    "%run src/main_features.py --dataset_name breast"
   ]
  },
  {
   "cell_type": "code",
   "execution_count": null,
   "metadata": {
    "colab": {
     "base_uri": "https://localhost:8080/"
    },
    "id": "N9BJY1Z_OUrU",
    "outputId": "7dc64d71-ec80-458c-ce26-14b6d86e200c"
   },
   "outputs": [],
   "source": [
    "%%time\n",
    "%run src/main_features.py --dataset_name stomach"
   ]
  },
  {
   "cell_type": "code",
   "execution_count": null,
   "metadata": {},
   "outputs": [],
   "source": [
    "wdf"
   ]
  },
  {
   "cell_type": "code",
   "execution_count": null,
   "metadata": {},
   "outputs": [],
   "source": [
    "%%time\n",
    "%run src/main_features.py --dataset_name Wound_healing"
   ]
  },
  {
   "cell_type": "code",
   "execution_count": null,
   "metadata": {},
   "outputs": [],
   "source": [
    "f = [f_names[i] for i in indices[-1]]\n",
    "f, best_idx"
   ]
  },
  {
   "cell_type": "code",
   "execution_count": null,
   "metadata": {
    "colab": {
     "base_uri": "https://localhost:8080/",
     "height": 17
    },
    "id": "JktzgDmbOv0J",
    "outputId": "908883b8-8064-4fc1-fc4f-599942d4ccf8"
   },
   "outputs": [],
   "source": [
    "# from google.colab import files\n",
    "# files.download(score_file_name) \n",
    "# files.download(score_png_file_name) \n",
    "# files.download(ON_ong_file_name) \n",
    "# files.download(RT_ong_file_name) "
   ]
  },
  {
   "cell_type": "code",
   "execution_count": null,
   "metadata": {},
   "outputs": [],
   "source": [
    "gf_df.iloc[0,0]"
   ]
  },
  {
   "cell_type": "code",
   "execution_count": null,
   "metadata": {},
   "outputs": [],
   "source": [
    "d = subG.degree()\n",
    "print(d)\n",
    "d = subG.degree(weight='weight')\n",
    "print(d)"
   ]
  },
  {
   "cell_type": "code",
   "execution_count": null,
   "metadata": {},
   "outputs": [],
   "source": [
    "dfct_subG.head()"
   ]
  },
  {
   "cell_type": "code",
   "execution_count": null,
   "metadata": {},
   "outputs": [],
   "source": [
    "print('Number of Metabolites in connected subG of AC: ', len(dfct_subG.columns))\n",
    "second_graph_edges = list(true_df[edge_objects].unique())\n",
    "print('Number of Metabolites in Wound healing: ',len(second_graph_edges))\n",
    "intersected_edges = set(dfct_subG.columns).intersection(set(second_graph_edges))\n",
    "print('Number of intersection Meabolites:', len(intersected_edges))"
   ]
  },
  {
   "cell_type": "code",
   "execution_count": null,
   "metadata": {},
   "outputs": [],
   "source": [
    "dfct_subG_cp = dfct_subG.copy()\n",
    "# dfct_subG_cp.head()\n"
   ]
  },
  {
   "cell_type": "code",
   "execution_count": null,
   "metadata": {},
   "outputs": [],
   "source": [
    "print(dfct_subG_cp.loc['Angelica furcijuga'].sum())\n",
    "for row in range(dfct_subG_cp.shape[0]):\n",
    "    for e in intersected_edges:\n",
    "        if dfct_subG_cp.iloc[row][e] != 0:\n",
    "            dfct_subG_cp.iloc[row][e] += 1\n",
    "# dfct_subG_cp.loc['Angelica furcijuga','C00000113']\n",
    "print(dfct_subG_cp.loc['Angelica furcijuga'].sum())"
   ]
  },
  {
   "cell_type": "markdown",
   "metadata": {},
   "source": [
    "فقط ده گیاه مشترک در دو فایل داریم و نود متابولیت مشترک.\n",
    "الان از متابولیت‌های فایل دوم هیچ استفاده‌ای نداریم. "
   ]
  },
  {
   "cell_type": "code",
   "execution_count": null,
   "metadata": {},
   "outputs": [],
   "source": [
    "print('Number of Plants in connected subG of AC: ',len(dfct_subG.index.values)) \n",
    "second_graph_nodes = list(true_df[node_objects].unique())\n",
    "print('Number of Plants in Wound healing: ',len(second_graph_nodes))\n",
    "print('Number of intersection Plants:',len(set(dfct_subG.index.values).intersection(set(second_graph_nodes))))\n",
    "# len(dfct.index.values)"
   ]
  },
  {
   "cell_type": "code",
   "execution_count": null,
   "metadata": {},
   "outputs": [],
   "source": [
    "edges,weights = zip(*nx.get_edge_attributes(subG,'weight').items())\n",
    "print(edges[:4])\n",
    "print(weights[:4])"
   ]
  },
  {
   "cell_type": "code",
   "execution_count": null,
   "metadata": {},
   "outputs": [],
   "source": [
    "# subG['Angelica furcijuga']\n",
    "list1 = list(dfct_subG.loc['Angelica furcijuga'])\n",
    "list2 = list(dfct_subG.loc['Camellia sinensis'])\n",
    "list3 = [sum(x) for x in zip(list1, list2)]\n",
    "indices = [i for i, x in enumerate(list3) if x == 2]\n",
    "len(indices)\n",
    "# دو یعنی در دو متابولیت مشترک بوده‌اند"
   ]
  },
  {
   "cell_type": "code",
   "execution_count": null,
   "metadata": {},
   "outputs": [],
   "source": [
    "edges,weights = zip(*nx.get_edge_attributes(G,'weight').items())\n",
    "print(edges[:4])\n",
    "print(weights[:4])"
   ]
  },
  {
   "cell_type": "code",
   "execution_count": null,
   "metadata": {},
   "outputs": [],
   "source": [
    "wdf[node_objects].value_counts()"
   ]
  },
  {
   "cell_type": "code",
   "execution_count": null,
   "metadata": {},
   "outputs": [],
   "source": [
    "# df.head()\n",
    "wdf[node_objects]"
   ]
  },
  {
   "cell_type": "code",
   "execution_count": null,
   "metadata": {
    "colab": {
     "base_uri": "https://localhost:8080/"
    },
    "id": "1YAARrinOuSs",
    "outputId": "2a61654e-31a8-4e8c-a93c-b7e28c5426f1"
   },
   "outputs": [],
   "source": [
    "import os, time\n",
    "# from time import gmtime, strftime\n",
    "if hasattr(time, 'tzset'):\n",
    "    os.environ['TZ'] = 'Asia/Tehran'\n",
    "    time.tzset()\n",
    "print(time.strftime('%X'))"
   ]
  }
 ],
 "metadata": {
  "accelerator": "GPU",
  "colab": {
   "collapsed_sections": [],
   "name": "OverlappingClusterGCN.ipynb",
   "provenance": []
  },
  "kernelspec": {
   "display_name": "Python 3",
   "language": "python",
   "name": "python3"
  },
  "language_info": {
   "codemirror_mode": {
    "name": "ipython",
    "version": 3
   },
   "file_extension": ".py",
   "mimetype": "text/x-python",
   "name": "python",
   "nbconvert_exporter": "python",
   "pygments_lexer": "ipython3",
   "version": "3.7.6"
  }
 },
 "nbformat": 4,
 "nbformat_minor": 2
}
