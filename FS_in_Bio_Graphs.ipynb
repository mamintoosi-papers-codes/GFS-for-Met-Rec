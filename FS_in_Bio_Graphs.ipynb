{
  "cells": [
    {
      "cell_type": "markdown",
      "metadata": {
        "id": "c7kOSf97BXZA"
      },
      "source": [
        "https://github.com/mamintoosi/Overlapping-Cluster-GCN"
      ]
    },
    {
      "cell_type": "code",
      "execution_count": null,
      "metadata": {
        "colab": {
          "base_uri": "https://localhost:8080/"
        },
        "id": "ZT1qA9rBBkJP",
        "outputId": "8b03613a-5ccc-4b07-c763-09008584c6bb"
      },
      "outputs": [],
      "source": [
        "import os, time\n",
        "# from time import gmtime, strftime\n",
        "if hasattr(time, 'tzset'):\n",
        "    os.environ['TZ'] = 'Asia/Tehran'\n",
        "    time.tzset()\n",
        "print(time.strftime('%X'))\n"
      ]
    },
    {
      "cell_type": "code",
      "execution_count": null,
      "metadata": {
        "colab": {
          "base_uri": "https://localhost:8080/"
        },
        "id": "5xgj1FAAC28m",
        "outputId": "978240a0-f281-4fa9-bcfc-9124db32cf53"
      },
      "outputs": [],
      "source": [
        "# Install required packages."
      ]
    },
    {
      "cell_type": "code",
      "execution_count": null,
      "metadata": {
        "colab": {
          "base_uri": "https://localhost:8080/"
        },
        "id": "IhXQ3I7XBV11",
        "outputId": "65f00754-d91b-40e5-c9a7-669bc061a2ae"
      },
      "outputs": [],
      "source": [
        "# !git clone https://github.com/mamintoosi/Overlapping-Cluster-GCN.git"
      ]
    },
    {
      "cell_type": "code",
      "execution_count": null,
      "metadata": {
        "colab": {
          "base_uri": "https://localhost:8080/"
        },
        "id": "W3gS6tEhCAa4",
        "outputId": "4e65c0d0-b71e-4fb4-aa05-bb0c07be2b75"
      },
      "outputs": [],
      "source": [
        "# %cd Overlapping-Cluster-GCN/"
      ]
    },
    {
      "cell_type": "code",
      "execution_count": null,
      "metadata": {
        "colab": {
          "base_uri": "https://localhost:8080/"
        },
        "id": "N9BJY1Z_OUrU",
        "outputId": "7dc64d71-ec80-458c-ce26-14b6d86e200c"
      },
      "outputs": [],
      "source": [
        "%%time\n",
        "%run src/feature_selection.py --dataset-name stomach      \n"
      ]
    },
    {
      "cell_type": "code",
      "execution_count": null,
      "metadata": {
        "colab": {
          "base_uri": "https://localhost:8080/",
          "height": 17
        },
        "id": "JktzgDmbOv0J",
        "outputId": "908883b8-8064-4fc1-fc4f-599942d4ccf8"
      },
      "outputs": [],
      "source": [
        "# from google.colab import files\n",
        "# files.download(score_file_name) \n",
        "# files.download(score_png_file_name) \n",
        "# files.download(ON_ong_file_name) \n",
        "# files.download(RT_ong_file_name) "
      ]
    },
    {
      "cell_type": "code",
      "execution_count": null,
      "metadata": {
        "colab": {
          "base_uri": "https://localhost:8080/"
        },
        "id": "1YAARrinOuSs",
        "outputId": "2a61654e-31a8-4e8c-a93c-b7e28c5426f1"
      },
      "outputs": [],
      "source": [
        "import os, time\n",
        "# from time import gmtime, strftime\n",
        "if hasattr(time, 'tzset'):\n",
        "    os.environ['TZ'] = 'Asia/Tehran'\n",
        "    time.tzset()\n",
        "print(time.strftime('%X'))"
      ]
    }
  ],
  "metadata": {
    "accelerator": "GPU",
    "colab": {
      "collapsed_sections": [],
      "name": "OverlappingClusterGCN.ipynb",
      "provenance": []
    },
    "kernelspec": {
      "display_name": "Python 3",
      "name": "python3"
    },
    "language_info": {
      "name": "python"
    }
  },
  "nbformat": 4,
  "nbformat_minor": 2
}
