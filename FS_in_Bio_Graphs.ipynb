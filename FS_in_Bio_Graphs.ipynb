{
  "cells": [
    {
      "cell_type": "markdown",
      "metadata": {
        "id": "c7kOSf97BXZA"
      },
      "source": [
        "https://github.com/mamintoosi/FS-in-Bio-Graphs"
      ]
    },
    {
      "cell_type": "code",
      "execution_count": 1,
      "metadata": {
        "colab": {
          "base_uri": "https://localhost:8080/"
        },
        "id": "5xgj1FAAC28m",
        "outputId": "acfe5ada-a083-4b13-9aa2-40e5cae73f78"
      },
      "outputs": [
        {
          "output_type": "stream",
          "name": "stdout",
          "text": [
            "Requirement already satisfied: matplotlib_venn in /usr/local/lib/python3.7/dist-packages (0.11.7)\n",
            "Requirement already satisfied: matplotlib in /usr/local/lib/python3.7/dist-packages (from matplotlib_venn) (3.2.2)\n",
            "Requirement already satisfied: numpy in /usr/local/lib/python3.7/dist-packages (from matplotlib_venn) (1.21.6)\n",
            "Requirement already satisfied: scipy in /usr/local/lib/python3.7/dist-packages (from matplotlib_venn) (1.4.1)\n",
            "Requirement already satisfied: cycler>=0.10 in /usr/local/lib/python3.7/dist-packages (from matplotlib->matplotlib_venn) (0.11.0)\n",
            "Requirement already satisfied: python-dateutil>=2.1 in /usr/local/lib/python3.7/dist-packages (from matplotlib->matplotlib_venn) (2.8.2)\n",
            "Requirement already satisfied: pyparsing!=2.0.4,!=2.1.2,!=2.1.6,>=2.0.1 in /usr/local/lib/python3.7/dist-packages (from matplotlib->matplotlib_venn) (3.0.8)\n",
            "Requirement already satisfied: kiwisolver>=1.0.1 in /usr/local/lib/python3.7/dist-packages (from matplotlib->matplotlib_venn) (1.4.2)\n",
            "Requirement already satisfied: typing-extensions in /usr/local/lib/python3.7/dist-packages (from kiwisolver>=1.0.1->matplotlib->matplotlib_venn) (4.1.1)\n",
            "Requirement already satisfied: six>=1.5 in /usr/local/lib/python3.7/dist-packages (from python-dateutil>=2.1->matplotlib->matplotlib_venn) (1.15.0)\n",
            "Collecting ml_metrics\n",
            "  Downloading ml_metrics-0.1.4.tar.gz (5.0 kB)\n",
            "Requirement already satisfied: numpy in /usr/local/lib/python3.7/dist-packages (from ml_metrics) (1.21.6)\n",
            "Requirement already satisfied: pandas in /usr/local/lib/python3.7/dist-packages (from ml_metrics) (1.3.5)\n",
            "Requirement already satisfied: python-dateutil>=2.7.3 in /usr/local/lib/python3.7/dist-packages (from pandas->ml_metrics) (2.8.2)\n",
            "Requirement already satisfied: pytz>=2017.3 in /usr/local/lib/python3.7/dist-packages (from pandas->ml_metrics) (2022.1)\n",
            "Requirement already satisfied: six>=1.5 in /usr/local/lib/python3.7/dist-packages (from python-dateutil>=2.7.3->pandas->ml_metrics) (1.15.0)\n",
            "Building wheels for collected packages: ml-metrics\n",
            "  Building wheel for ml-metrics (setup.py) ... \u001b[?25l\u001b[?25hdone\n",
            "  Created wheel for ml-metrics: filename=ml_metrics-0.1.4-py3-none-any.whl size=7845 sha256=a376b51e2c13f33935c056fca8ad7e34bb3567b07414d96a23b852734035fa52\n",
            "  Stored in directory: /root/.cache/pip/wheels/56/41/5b/0c6d42b3604a5c823d8922564c4708f84962fa7f2f4facfa6d\n",
            "Successfully built ml-metrics\n",
            "Installing collected packages: ml-metrics\n",
            "Successfully installed ml-metrics-0.1.4\n"
          ]
        }
      ],
      "source": [
        "# Install required packages.\n",
        "!pip install matplotlib_venn\n",
        "!pip install ml_metrics"
      ]
    },
    {
      "cell_type": "code",
      "execution_count": 2,
      "metadata": {
        "colab": {
          "base_uri": "https://localhost:8080/"
        },
        "id": "IhXQ3I7XBV11",
        "outputId": "ca36ec34-2867-480e-ab95-65bd95d988dd"
      },
      "outputs": [
        {
          "output_type": "stream",
          "name": "stdout",
          "text": [
            "Cloning into 'FS-in-Bio-Graphs'...\n",
            "remote: Enumerating objects: 162, done.\u001b[K\n",
            "remote: Counting objects: 100% (43/43), done.\u001b[K\n",
            "remote: Compressing objects: 100% (35/35), done.\u001b[K\n",
            "remote: Total 162 (delta 16), reused 32 (delta 8), pack-reused 119\u001b[K\n",
            "Receiving objects: 100% (162/162), 10.58 MiB | 23.65 MiB/s, done.\n",
            "Resolving deltas: 100% (58/58), done.\n"
          ]
        }
      ],
      "source": [
        "!git clone https://github.com/mamintoosi/FS-in-Bio-Graphs.git"
      ]
    },
    {
      "cell_type": "code",
      "execution_count": 3,
      "metadata": {
        "colab": {
          "base_uri": "https://localhost:8080/"
        },
        "id": "W3gS6tEhCAa4",
        "outputId": "2872d84f-41d3-478e-b8e1-46823e5d42e1"
      },
      "outputs": [
        {
          "output_type": "stream",
          "name": "stdout",
          "text": [
            "/content/FS-in-Bio-Graphs\n"
          ]
        }
      ],
      "source": [
        "%cd FS-in-Bio-Graphs/"
      ]
    },
    {
      "cell_type": "code",
      "execution_count": 4,
      "metadata": {
        "id": "145-QxWNpW7a"
      },
      "outputs": [],
      "source": [
        "import pathlib\n",
        "path = pathlib.Path('tmp')\n",
        "path.mkdir(parents=True, exist_ok=True)"
      ]
    },
    {
      "cell_type": "code",
      "execution_count": 5,
      "metadata": {
        "id": "BMBYPnY0pW7b"
      },
      "outputs": [],
      "source": [
        "# %run src/main_stats.py --dataset_name Stomach\n",
        "%run src/main_stats.py --dataset_name Breast"
      ]
    },
    {
      "cell_type": "code",
      "execution_count": 6,
      "metadata": {
        "id": "MITBn2LBpW7c",
        "outputId": "dddc0149-7a3e-4b96-8c68-37d952d52a92",
        "colab": {
          "base_uri": "https://localhost:8080/"
        }
      },
      "outputs": [
        {
          "output_type": "stream",
          "name": "stdout",
          "text": [
            "Number of unique Metabolites:  7416\n",
            "Min تعداد تکرار یک متابولیت در گیاهان:  1\n",
            "Max تعداد تکرار یک متابولیت در گیاهان:  61\n",
            "Avg تعداد تکرار یک متابولیت در گیاهان:  2\n",
            "Mode تعداد تکرار یک متابولیت در گیاهان:  1\n",
            "Number of unique Plants:  403\n",
            "Min Number of Plants having each Metabolite:  1\n",
            "Max Number of Plants having each Metabolite:  627\n",
            "Avg Number of Plants having each Metabolite:  31\n",
            "Mode Number of Plants having each Metabolite:  1\n"
          ]
        }
      ],
      "source": [
        "# wdf['Met'].value_counts().max()\n",
        "# ax = sns.countplot(data = wdf, x='Met', order=wdf['Met'].value_counts('Met').iloc[:10].index, palette=['#99FF44'])\n",
        "# ax.tick_params(axis='x', rotation=90)\n",
        "# ax.set(xlabel='10 Most frequent Metabolites')\n",
        "# ax.set(ylabel='Number of Plants having each Met')\n",
        "# sns.color_palette(\"flare\", as_cmap=True)\n",
        "#  palette=\"Set3\"\n",
        "# plt.setp(g.get_xticklabels(), rotation=90)\n",
        "# ,color=\"salmon\"\n",
        "%reload_ext autoreload\n",
        "%autoreload 2\n",
        " \n",
        "from src.bio_graph_utils import df_bar_plot\n",
        "# df_bar_plot(wdf, 'results/AC_bar_charts')\n",
        "# df_bar_plot(true_df, 'results/stomach_bar_charts')\n",
        "# df_bar_plot(true_df, 'results/Wound_healing_bar_charts')\n",
        "df_bar_plot(true_df, 'results/Breast_bar_charts')"
      ]
    },
    {
      "cell_type": "code",
      "execution_count": 7,
      "metadata": {
        "id": "XS7Pcs8EpW7f",
        "outputId": "6a4e0815-f7c4-4b4b-89d6-04327b445127",
        "colab": {
          "base_uri": "https://localhost:8080/",
          "height": 102,
          "referenced_widgets": [
            "263efa2deb4b412a9de38e366099cf20",
            "cf8127d5ef164fcd900efd22a1a3b846",
            "33a897e829534a37a08b2d3134ba3aa1",
            "c2965ba233f04347a2e3bdaa0117d66d",
            "a4e712c0a8d649eeb3fbc9c0b2e54f6a",
            "9e013eabde084c249e80c5f2b0d2b53d",
            "14e0179a174a4581ace36ae0dbbf7b92",
            "483fa2d1b983435c811e86b74ca70729",
            "27526bec3bc540c9985cf0a15311c319",
            "d096e3e7d3b84188ac1591e458aca835",
            "b2d240a050eb4315ad22213285344a4a"
          ]
        }
      },
      "outputs": [
        {
          "output_type": "stream",
          "name": "stdout",
          "text": [
            "Table info:  (5392, 2)\n",
            "Number of unique nodes (Plants) in main file:  3251\n"
          ]
        },
        {
          "output_type": "display_data",
          "data": {
            "text/plain": [
              "  0%|          | 0/1 [00:00<?, ?it/s]"
            ],
            "application/vnd.jupyter.widget-view+json": {
              "version_major": 2,
              "version_minor": 0,
              "model_id": "263efa2deb4b412a9de38e366099cf20"
            }
          },
          "metadata": {}
        },
        {
          "output_type": "stream",
          "name": "stdout",
          "text": [
            "Number of intersected Meabolites: 272\n"
          ]
        }
      ],
      "source": [
        "%run src/draw_graph.py"
      ]
    },
    {
      "cell_type": "code",
      "execution_count": 8,
      "metadata": {
        "id": "TTe1LPmVpW7g",
        "outputId": "4ae482dd-8af4-4128-e088-d19c4bf59bfb",
        "colab": {
          "base_uri": "https://localhost:8080/",
          "height": 169,
          "referenced_widgets": [
            "94f10a28de9e4bbfba9242fc53a3e595",
            "819a1687db3042cc96758f96527ffef5",
            "03cd24485f95470b9c2714be7a5d9106",
            "3d63db797086464398f1eaca6ed0e75b",
            "c762f9469eb54b55961ad9d13353b8fb",
            "2b69b714579c4e32abf25ed1b992d711",
            "b7e644e79dd64934a213e9723168b721",
            "e02c7987ef044655b9214d0c6a7f3b22",
            "3388b34a0913495aaa3167a494f6eee7",
            "7b7ab6a8be834a7181ec91196e2919de",
            "6f865f24f58f4cca84cadf805126399d",
            "3a11269db2c3487ea286695148c47668",
            "f3360cf85a774bd99c4c7350fef5ac94",
            "cabf5f89c59f48ae8cf6724eb4c78f0d",
            "1c4cbfa2be62490d9e9cd3785590336e",
            "9b725839ec184718a3037055fbeec0aa",
            "d4f38355b5414f44880c07dfd2457886",
            "cd65bd96efbb4514ba73cd57a687bfe8",
            "233e3c525a6245728a83ba540f755ae8",
            "43ad9cbd143845899be17f12afc59287",
            "87668fe6f3ff458ba709bcfbb34a6aa9",
            "25fcef136bd54b22a3a31ea383a1c4c0"
          ]
        }
      },
      "outputs": [
        {
          "output_type": "stream",
          "name": "stdout",
          "text": [
            "Table info:  (5392, 2)\n",
            "Number of unique nodes (Plants) in main file:  3251\n"
          ]
        },
        {
          "output_type": "display_data",
          "data": {
            "text/plain": [
              "  0%|          | 0/1 [00:00<?, ?it/s]"
            ],
            "application/vnd.jupyter.widget-view+json": {
              "version_major": 2,
              "version_minor": 0,
              "model_id": "94f10a28de9e4bbfba9242fc53a3e595"
            }
          },
          "metadata": {}
        },
        {
          "output_type": "stream",
          "name": "stdout",
          "text": [
            "Number of intersected Meabolites: 324\n"
          ]
        },
        {
          "output_type": "display_data",
          "data": {
            "text/plain": [
              "  0%|          | 0/6 [00:00<?, ?it/s]"
            ],
            "application/vnd.jupyter.widget-view+json": {
              "version_major": 2,
              "version_minor": 0,
              "model_id": "3a11269db2c3487ea286695148c47668"
            }
          },
          "metadata": {}
        },
        {
          "output_type": "stream",
          "name": "stdout",
          "text": [
            "CPU times: user 7min 3s, sys: 6.48 s, total: 7min 10s\n",
            "Wall time: 7min 3s\n"
          ]
        }
      ],
      "source": [
        "%%time\n",
        "%run src/main_features.py --dataset_name breast"
      ]
    },
    {
      "cell_type": "code",
      "execution_count": 9,
      "metadata": {
        "colab": {
          "base_uri": "https://localhost:8080/",
          "height": 169,
          "referenced_widgets": [
            "f95abd9ac8444d118a8ee2533a25fa18",
            "1ee63aa4d1bb44c3975c865de0bb5fa4",
            "40d1c14249914f0f8e1f007183637ac1",
            "dc04f9e49ae849fab2459a75a7962f88",
            "a59371df45b849d8a9ab1c1f3287b725",
            "ff5042e44727461eb5a089aa693330ae",
            "9d8844b1f69840d9b79053c9dd237e41",
            "d94063ab37d54030bc0b05981ebe98d8",
            "50dd89f23bba4c958ebbe1e7fef0bbc4",
            "6706d3f9ad9642068e9a24b7c2d1c35f",
            "d6c066f124da45bdb1e2f3c2d3d24b15",
            "80c58d19a32b406585add84c87dc5f0d",
            "dccc2c01339e4bd88c2d157cf2639686",
            "34a3850b73c84c24a460ad67e5c310d5",
            "e536692ee7744933adbae66858d03899",
            "ea996032d4d447d6a0a84f02671ce1eb",
            "066fca39537d4283893ba509131c2884",
            "45c1b8f0bcc646d3b44750a333d6441b",
            "8b77d3702fa14e23a997c28eaf96c062",
            "8a7e2a3a40ec44d69b359db9e8724bd8",
            "4334d1471c2c4628ba42dd0ed1dba1ae",
            "a70f7d01f3314fa6964fea582c577c7a"
          ]
        },
        "id": "N9BJY1Z_OUrU",
        "outputId": "6ecc47e5-6234-4405-904f-32b23d8d8467"
      },
      "outputs": [
        {
          "output_type": "stream",
          "name": "stdout",
          "text": [
            "Table info:  (5392, 2)\n",
            "Number of unique nodes (Plants) in main file:  3251\n"
          ]
        },
        {
          "output_type": "display_data",
          "data": {
            "text/plain": [
              "  0%|          | 0/1 [00:00<?, ?it/s]"
            ],
            "application/vnd.jupyter.widget-view+json": {
              "version_major": 2,
              "version_minor": 0,
              "model_id": "f95abd9ac8444d118a8ee2533a25fa18"
            }
          },
          "metadata": {}
        },
        {
          "output_type": "stream",
          "name": "stdout",
          "text": [
            "Number of intersected Meabolites: 272\n"
          ]
        },
        {
          "output_type": "display_data",
          "data": {
            "text/plain": [
              "  0%|          | 0/6 [00:00<?, ?it/s]"
            ],
            "application/vnd.jupyter.widget-view+json": {
              "version_major": 2,
              "version_minor": 0,
              "model_id": "80c58d19a32b406585add84c87dc5f0d"
            }
          },
          "metadata": {}
        },
        {
          "output_type": "stream",
          "name": "stdout",
          "text": [
            "CPU times: user 6min 35s, sys: 6.48 s, total: 6min 41s\n",
            "Wall time: 6min 35s\n"
          ]
        }
      ],
      "source": [
        "%%time\n",
        "%run src/main_features.py --dataset_name Stomach"
      ]
    },
    {
      "cell_type": "code",
      "execution_count": 10,
      "metadata": {
        "id": "8P8ij6eWpW7h",
        "outputId": "97040722-b920-4daa-9810-f5a772971e3a",
        "colab": {
          "base_uri": "https://localhost:8080/",
          "height": 423
        }
      },
      "outputs": [
        {
          "output_type": "execute_result",
          "data": {
            "text/plain": [
              "            Met                    Plant\n",
              "0     C00000113     Arabidopsis thaliana\n",
              "1     C00000152     Arabidopsis thaliana\n",
              "2     C00000615     Arabidopsis thaliana\n",
              "3     C00000911     Arabidopsis thaliana\n",
              "4     C00000982     Arabidopsis thaliana\n",
              "...         ...                      ...\n",
              "5387  C00051087        Citrus tachibana \n",
              "5388  C00051138        Citrus tachibana \n",
              "5389  C00051211       Vernonia lasiopus \n",
              "5390  C00051328        Citrus paradisi x\n",
              "5391  C00051584  Chrysosplenium grayanum\n",
              "\n",
              "[5392 rows x 2 columns]"
            ],
            "text/html": [
              "\n",
              "  <div id=\"df-2738925f-c868-4d89-973b-d6e957b22955\">\n",
              "    <div class=\"colab-df-container\">\n",
              "      <div>\n",
              "<style scoped>\n",
              "    .dataframe tbody tr th:only-of-type {\n",
              "        vertical-align: middle;\n",
              "    }\n",
              "\n",
              "    .dataframe tbody tr th {\n",
              "        vertical-align: top;\n",
              "    }\n",
              "\n",
              "    .dataframe thead th {\n",
              "        text-align: right;\n",
              "    }\n",
              "</style>\n",
              "<table border=\"1\" class=\"dataframe\">\n",
              "  <thead>\n",
              "    <tr style=\"text-align: right;\">\n",
              "      <th></th>\n",
              "      <th>Met</th>\n",
              "      <th>Plant</th>\n",
              "    </tr>\n",
              "  </thead>\n",
              "  <tbody>\n",
              "    <tr>\n",
              "      <th>0</th>\n",
              "      <td>C00000113</td>\n",
              "      <td>Arabidopsis thaliana</td>\n",
              "    </tr>\n",
              "    <tr>\n",
              "      <th>1</th>\n",
              "      <td>C00000152</td>\n",
              "      <td>Arabidopsis thaliana</td>\n",
              "    </tr>\n",
              "    <tr>\n",
              "      <th>2</th>\n",
              "      <td>C00000615</td>\n",
              "      <td>Arabidopsis thaliana</td>\n",
              "    </tr>\n",
              "    <tr>\n",
              "      <th>3</th>\n",
              "      <td>C00000911</td>\n",
              "      <td>Arabidopsis thaliana</td>\n",
              "    </tr>\n",
              "    <tr>\n",
              "      <th>4</th>\n",
              "      <td>C00000982</td>\n",
              "      <td>Arabidopsis thaliana</td>\n",
              "    </tr>\n",
              "    <tr>\n",
              "      <th>...</th>\n",
              "      <td>...</td>\n",
              "      <td>...</td>\n",
              "    </tr>\n",
              "    <tr>\n",
              "      <th>5387</th>\n",
              "      <td>C00051087</td>\n",
              "      <td>Citrus tachibana</td>\n",
              "    </tr>\n",
              "    <tr>\n",
              "      <th>5388</th>\n",
              "      <td>C00051138</td>\n",
              "      <td>Citrus tachibana</td>\n",
              "    </tr>\n",
              "    <tr>\n",
              "      <th>5389</th>\n",
              "      <td>C00051211</td>\n",
              "      <td>Vernonia lasiopus</td>\n",
              "    </tr>\n",
              "    <tr>\n",
              "      <th>5390</th>\n",
              "      <td>C00051328</td>\n",
              "      <td>Citrus paradisi x</td>\n",
              "    </tr>\n",
              "    <tr>\n",
              "      <th>5391</th>\n",
              "      <td>C00051584</td>\n",
              "      <td>Chrysosplenium grayanum</td>\n",
              "    </tr>\n",
              "  </tbody>\n",
              "</table>\n",
              "<p>5392 rows × 2 columns</p>\n",
              "</div>\n",
              "      <button class=\"colab-df-convert\" onclick=\"convertToInteractive('df-2738925f-c868-4d89-973b-d6e957b22955')\"\n",
              "              title=\"Convert this dataframe to an interactive table.\"\n",
              "              style=\"display:none;\">\n",
              "        \n",
              "  <svg xmlns=\"http://www.w3.org/2000/svg\" height=\"24px\"viewBox=\"0 0 24 24\"\n",
              "       width=\"24px\">\n",
              "    <path d=\"M0 0h24v24H0V0z\" fill=\"none\"/>\n",
              "    <path d=\"M18.56 5.44l.94 2.06.94-2.06 2.06-.94-2.06-.94-.94-2.06-.94 2.06-2.06.94zm-11 1L8.5 8.5l.94-2.06 2.06-.94-2.06-.94L8.5 2.5l-.94 2.06-2.06.94zm10 10l.94 2.06.94-2.06 2.06-.94-2.06-.94-.94-2.06-.94 2.06-2.06.94z\"/><path d=\"M17.41 7.96l-1.37-1.37c-.4-.4-.92-.59-1.43-.59-.52 0-1.04.2-1.43.59L10.3 9.45l-7.72 7.72c-.78.78-.78 2.05 0 2.83L4 21.41c.39.39.9.59 1.41.59.51 0 1.02-.2 1.41-.59l7.78-7.78 2.81-2.81c.8-.78.8-2.07 0-2.86zM5.41 20L4 18.59l7.72-7.72 1.47 1.35L5.41 20z\"/>\n",
              "  </svg>\n",
              "      </button>\n",
              "      \n",
              "  <style>\n",
              "    .colab-df-container {\n",
              "      display:flex;\n",
              "      flex-wrap:wrap;\n",
              "      gap: 12px;\n",
              "    }\n",
              "\n",
              "    .colab-df-convert {\n",
              "      background-color: #E8F0FE;\n",
              "      border: none;\n",
              "      border-radius: 50%;\n",
              "      cursor: pointer;\n",
              "      display: none;\n",
              "      fill: #1967D2;\n",
              "      height: 32px;\n",
              "      padding: 0 0 0 0;\n",
              "      width: 32px;\n",
              "    }\n",
              "\n",
              "    .colab-df-convert:hover {\n",
              "      background-color: #E2EBFA;\n",
              "      box-shadow: 0px 1px 2px rgba(60, 64, 67, 0.3), 0px 1px 3px 1px rgba(60, 64, 67, 0.15);\n",
              "      fill: #174EA6;\n",
              "    }\n",
              "\n",
              "    [theme=dark] .colab-df-convert {\n",
              "      background-color: #3B4455;\n",
              "      fill: #D2E3FC;\n",
              "    }\n",
              "\n",
              "    [theme=dark] .colab-df-convert:hover {\n",
              "      background-color: #434B5C;\n",
              "      box-shadow: 0px 1px 3px 1px rgba(0, 0, 0, 0.15);\n",
              "      filter: drop-shadow(0px 1px 2px rgba(0, 0, 0, 0.3));\n",
              "      fill: #FFFFFF;\n",
              "    }\n",
              "  </style>\n",
              "\n",
              "      <script>\n",
              "        const buttonEl =\n",
              "          document.querySelector('#df-2738925f-c868-4d89-973b-d6e957b22955 button.colab-df-convert');\n",
              "        buttonEl.style.display =\n",
              "          google.colab.kernel.accessAllowed ? 'block' : 'none';\n",
              "\n",
              "        async function convertToInteractive(key) {\n",
              "          const element = document.querySelector('#df-2738925f-c868-4d89-973b-d6e957b22955');\n",
              "          const dataTable =\n",
              "            await google.colab.kernel.invokeFunction('convertToInteractive',\n",
              "                                                     [key], {});\n",
              "          if (!dataTable) return;\n",
              "\n",
              "          const docLinkHtml = 'Like what you see? Visit the ' +\n",
              "            '<a target=\"_blank\" href=https://colab.research.google.com/notebooks/data_table.ipynb>data table notebook</a>'\n",
              "            + ' to learn more about interactive tables.';\n",
              "          element.innerHTML = '';\n",
              "          dataTable['output_type'] = 'display_data';\n",
              "          await google.colab.output.renderOutput(dataTable, element);\n",
              "          const docLink = document.createElement('div');\n",
              "          docLink.innerHTML = docLinkHtml;\n",
              "          element.appendChild(docLink);\n",
              "        }\n",
              "      </script>\n",
              "    </div>\n",
              "  </div>\n",
              "  "
            ]
          },
          "metadata": {},
          "execution_count": 10
        }
      ],
      "source": [
        "wdf"
      ]
    },
    {
      "cell_type": "code",
      "execution_count": 11,
      "metadata": {
        "id": "IWeA6sIbpW7i",
        "outputId": "ec7cfe88-fd01-47e2-c8ec-4e656bc8aea2",
        "colab": {
          "base_uri": "https://localhost:8080/"
        }
      },
      "outputs": [
        {
          "output_type": "stream",
          "name": "stdout",
          "text": [
            "['degree']\n",
            "['degree_cent']\n",
            "['betweenness']\n",
            "['closeness']\n",
            "['eccentricity']\n",
            "['eigenvector']\n",
            "['degree', 'degree_cent']\n",
            "['degree', 'betweenness']\n",
            "['degree', 'closeness']\n",
            "['degree', 'eccentricity']\n",
            "['degree', 'eigenvector']\n",
            "['degree_cent', 'betweenness']\n",
            "['degree_cent', 'closeness']\n",
            "['degree_cent', 'eccentricity']\n",
            "['degree_cent', 'eigenvector']\n",
            "['betweenness', 'closeness']\n",
            "['betweenness', 'eccentricity']\n",
            "['betweenness', 'eigenvector']\n",
            "['closeness', 'eccentricity']\n",
            "['closeness', 'eigenvector']\n",
            "['eccentricity', 'eigenvector']\n",
            "['degree', 'degree_cent', 'betweenness']\n",
            "['degree', 'degree_cent', 'closeness']\n",
            "['degree', 'degree_cent', 'eccentricity']\n",
            "['degree', 'degree_cent', 'eigenvector']\n",
            "['degree', 'betweenness', 'closeness']\n",
            "['degree', 'betweenness', 'eccentricity']\n",
            "['degree', 'betweenness', 'eigenvector']\n",
            "['degree', 'closeness', 'eccentricity']\n",
            "['degree', 'closeness', 'eigenvector']\n",
            "['degree', 'eccentricity', 'eigenvector']\n",
            "['degree_cent', 'betweenness', 'closeness']\n",
            "['degree_cent', 'betweenness', 'eccentricity']\n",
            "['degree_cent', 'betweenness', 'eigenvector']\n",
            "['degree_cent', 'closeness', 'eccentricity']\n",
            "['degree_cent', 'closeness', 'eigenvector']\n",
            "['degree_cent', 'eccentricity', 'eigenvector']\n",
            "['betweenness', 'closeness', 'eccentricity']\n",
            "['betweenness', 'closeness', 'eigenvector']\n",
            "['betweenness', 'eccentricity', 'eigenvector']\n",
            "['closeness', 'eccentricity', 'eigenvector']\n",
            "['degree', 'degree_cent', 'betweenness', 'closeness']\n",
            "['degree', 'degree_cent', 'betweenness', 'eccentricity']\n",
            "['degree', 'degree_cent', 'betweenness', 'eigenvector']\n",
            "['degree', 'degree_cent', 'closeness', 'eccentricity']\n",
            "['degree', 'degree_cent', 'closeness', 'eigenvector']\n",
            "['degree', 'degree_cent', 'eccentricity', 'eigenvector']\n",
            "['degree', 'betweenness', 'closeness', 'eccentricity']\n",
            "['degree', 'betweenness', 'closeness', 'eigenvector']\n",
            "['degree', 'betweenness', 'eccentricity', 'eigenvector']\n",
            "['degree', 'closeness', 'eccentricity', 'eigenvector']\n",
            "['degree_cent', 'betweenness', 'closeness', 'eccentricity']\n",
            "['degree_cent', 'betweenness', 'closeness', 'eigenvector']\n",
            "['degree_cent', 'betweenness', 'eccentricity', 'eigenvector']\n",
            "['degree_cent', 'closeness', 'eccentricity', 'eigenvector']\n",
            "['betweenness', 'closeness', 'eccentricity', 'eigenvector']\n",
            "['degree', 'degree_cent', 'betweenness', 'closeness', 'eccentricity']\n",
            "['degree', 'degree_cent', 'betweenness', 'closeness', 'eigenvector']\n",
            "['degree', 'degree_cent', 'betweenness', 'eccentricity', 'eigenvector']\n",
            "['degree', 'degree_cent', 'closeness', 'eccentricity', 'eigenvector']\n",
            "['degree', 'betweenness', 'closeness', 'eccentricity', 'eigenvector']\n",
            "['degree_cent', 'betweenness', 'closeness', 'eccentricity', 'eigenvector']\n",
            "['degree', 'degree_cent', 'betweenness', 'closeness', 'eccentricity', 'eigenvector']\n"
          ]
        }
      ],
      "source": [
        "for subset_idx in indices:\n",
        "    f = [f_names[i] for i in subset_idx]\n",
        "    print(f)\n",
        "# f, best_idx"
      ]
    },
    {
      "cell_type": "code",
      "execution_count": 12,
      "metadata": {
        "id": "QzX_LeCmpW7i",
        "outputId": "3ba70e0f-92e7-41ad-e1e4-9c8dc33e18dc",
        "colab": {
          "base_uri": "https://localhost:8080/"
        }
      },
      "outputs": [
        {
          "output_type": "stream",
          "name": "stdout",
          "text": [
            "Worst Recom List:\n",
            "Phellodendron amurense 0\n",
            "Arabidopsis thaliana 0\n",
            "Glehnia littoralis  0\n",
            "Ziziphus jujuba 0\n",
            "Galanthus caucasicus  0\n",
            "Nelumbo nucifera  0\n",
            "Morus alba  0\n",
            "Juniperus thurifera 0\n",
            "Juniperus phoenicea 0\n",
            "Punica granatum 1\n",
            "Salvia officinalis 1\n",
            "Narcissus tazetta 0\n",
            "Phyllanthus emblica  0\n",
            "Trifolium pratense 1\n",
            "Papaver somniferum  0\n",
            "Artemisia annua 0\n",
            "Orthosiphon stamineus  0\n",
            "Diospyros kaki 1\n",
            "Camellia sinensis 1\n",
            "Taxus baccata  0\n"
          ]
        }
      ],
      "source": [
        "%run src/create_intersect_tables --dataset_name Stomach"
      ]
    },
    {
      "cell_type": "code",
      "execution_count": 13,
      "metadata": {
        "id": "rx93dfCKpW7i",
        "outputId": "82f1440e-c839-4607-ae99-51f60885ee1d",
        "colab": {
          "base_uri": "https://localhost:8080/"
        }
      },
      "outputs": [
        {
          "output_type": "stream",
          "name": "stdout",
          "text": [
            "Worst Recom List:\n",
            "Opuntia dellenii 0\n",
            "Tsuga heterophylla  0\n",
            "Phellodendron japonicum 0\n",
            "Ferula foetida  0\n",
            "Ferula assafoetida  0\n",
            "Ferula assa-foetida  0\n",
            "Angelica gigas  0\n",
            "Falcaria vulgaris 0\n",
            "Aeschynanthus bracteatus  0\n",
            "Ligusticum jeholense  0\n",
            "Phellodendron amurense 1\n",
            "Phebalium clavatum 0\n",
            "Chamaecyparis formosensis 0\n",
            "Angelica furcijuga 0\n",
            "Ligusticum brachylobum  0\n",
            "Ligusticum chuanxiong 0\n",
            "Macaranga triloba 0\n",
            "Inula britannica  0\n",
            "Phleum pratense  0\n",
            "Corydalis decumbens  0\n"
          ]
        }
      ],
      "source": [
        "%run src/create_intersect_tables --dataset_name Breast"
      ]
    },
    {
      "cell_type": "code",
      "execution_count": 14,
      "metadata": {
        "id": "JktzgDmbOv0J"
      },
      "outputs": [],
      "source": [
        "# from google.colab import files\n",
        "# files.download(score_file_name) \n",
        "# files.download(score_png_file_name) \n",
        "# files.download(ON_ong_file_name) \n",
        "# files.download(RT_ong_file_name) "
      ]
    },
    {
      "cell_type": "code",
      "execution_count": 15,
      "metadata": {
        "id": "0AtpXu51pW7j",
        "outputId": "6afb07ca-6089-4892-bf7c-7610094276df",
        "colab": {
          "base_uri": "https://localhost:8080/"
        }
      },
      "outputs": [
        {
          "output_type": "execute_result",
          "data": {
            "text/plain": [
              "0.420353982300885"
            ]
          },
          "metadata": {},
          "execution_count": 15
        }
      ],
      "source": [
        "gf_df.iloc[0,0]"
      ]
    },
    {
      "cell_type": "code",
      "execution_count": 16,
      "metadata": {
        "id": "Bd2Tqx9_pW7j",
        "outputId": "a28d4645-aebd-454c-e9b9-68d9b76ec2d6",
        "colab": {
          "base_uri": "https://localhost:8080/"
        }
      },
      "outputs": [
        {
          "output_type": "stream",
          "name": "stdout",
          "text": [
            "[('Abelmoschus manihot ', 344), ('Abies alba ', 50), ('Abies amabilis', 292), ('Abies lasiocarpa', 43), ('Abrus precatorius ', 125), ('Acacia adunca', 374), ('Acacia aroma ', 124), ('Acacia baileyana', 243), ('Acacia binervata', 243), ('Acacia calamifolia', 243), ('Acacia cardiophylla', 243), ('Acacia catechu ', 43), ('Acacia caven ', 177), ('Acacia chrysotricha', 243), ('Acacia clunies-rossiae', 243), ('Acacia concurrens', 243), ('Acacia constablei', 243), ('Acacia constricta', 49), ('Acacia cultriformis', 243), ('Acacia cyanophylla', 199), ('Acacia dealbata', 376), ('Acacia deanei', 243), ('Acacia decurrens', 243), ('Acacia elata', 243), ('Acacia falciformis', 243), ('Acacia farnesiana ', 125), ('Acacia filicifolia', 243), ('Acacia fimbriata', 243), ('Acacia furcatispina', 146), ('Acacia holosericea ', 243), ('Acacia horrida ', 125), ('Acacia irrorata', 243), ('Acacia kettlewelliae', 243), ('Acacia lanigera', 243), ('Acacia leucoclada', 243), ('Acacia longifolia', 418), ('Acacia mabellae', 243), ('Acacia mearnsii ', 243), ('Acacia melanoxylon', 374), ('Acacia mellifera ', 401), ('Acacia mollifolia', 243), ('Acacia neovernicosa', 49), ('Acacia neriifolia', 243), ('Acacia nilotica ', 250), ('Acacia obtusifolia', 243), ('Acacia oshanesii', 243), ('Acacia oswaldii', 243), ('Acacia parramattensis', 243), ('Acacia polyacantha', 125), ('Acacia praecox', 219), ('Acacia pycnantha', 243), ('Acacia retinodes', 243), ('Acacia rhodoxylon', 45), ('Acacia rigens', 243), ('Acacia saligna', 125), ('Acacia seyal ', 125), ('Acacia sieberiana ', 125), ('Acacia silvestris', 243), ('Acacia terminalis', 243), ('Acacia tortilis ', 125), ('Acacia trachyphloia', 243), ('Acacia trineura', 203), ('Acacia verniciflua', 243), ('Acacia vestita', 243), ('Acangelisia gusanlung', 113), ('Acanthus ilicifolius ', 177), ('Acer ginnala', 13), ('Acer rubrum', 132), ('Achillea clavennae', 21), ('Achillea conferta', 41), ('Achillea fragrantissima ', 61), ('Achillea holosericea', 15), ('Achillea millefolium', 313), ('Achillea moschata', 61), ('Achillea santolina ', 41), ('Achillea sibirica', 21), ('Acinos suaveolens', 8), ('Acorus calamus ', 74), ('Acorus tatarinowii ', 61), ('Acronychia laurifolia ', 13), ('Acronychia spp.', 13), ('Actaea racemosa ', 255), ('Actinidia arguta ', 158), ('Actinidia callosa', 158), ('Actinidia chinensis ', 158), ('Actinidia chrysantha', 158), ('Actinidia deliciosa ', 158), ('Actinidia eriantha', 158), ('Actinidia glaucophylla', 158), ('Actinidia latifolia ', 158), ('Actinidia polygana', 158), ('Adansonia digitata ', 270), ('Adenocarpus decorticans', 243), ('Adenocarpus foliolosus', 243), ('Adenocaulon adhaerescens', 158), ('Adiantum monochlamys', 119), ('Adiantum spp.', 22), ('Adina cordifolia', 49), ('Adina racemosa', 230), ('Adonis spp.', 108), ('Adonis vernalis ', 15), ('Aegiceras corniculatum', 2), ('Aegle marmelos ', 271), ('Aeschynanthus bracteatus ', 159), ('Aeschynomene americana', 158), ('Aesculus hippocastanum ', 16), ('Aframomum giganteum', 62), ('Afzelia bella ', 43), ('Agapanthus africanus ', 45), ('Agastache rugosus', 40), ('Agathis spp.', 44), ('Ageratum conyzoides ', 19), ('Aglaia forbesii ', 203), ('Agrimonia pilosa', 386), ('Ailanthus altissima ', 15), ('Ailanthus excelsa', 6), ('Ailanthus triphylla', 5), ('Ajuga decumbens ', 21), ('Ajuga iva ', 98), ('Ajuga remota ', 177), ('Akebia lagerocemora', 23), ('Akebia quinata ', 23), ('Akebia trifoliata ', 23), ('Alangium longiflorum', 6), ('Albizia procera ', 38), ('Albizzia lebbeck', 67), ('Alkanna orientalis', 177), ('Allanblackia floribunda ', 142), ('Allanblackia monticola', 210), ('Allium ascalonicum ', 45), ('Allium cepa', 166), ('Allium chinense ', 47), ('Allium neapolitanum ', 14), ('Allium sativum ', 30), ('Allium spp.', 4), ('Allium tuberosum ', 4), ('Allium victorialis', 4), ('Alnus oregana', 104), ('Aloe ferox ', 26), ('Aloe spp. ', 26), ('Aloe vera', 92), ('Alphitonia excelsa', 155), ('Alphitonia petriei', 270), ('Alphitonia whitei', 155), ('Alphitonia whitei Braid', 155), ('Alphitonia zizyphoides ', 155), ('Alphonsea mollis', 60), ('Alpinia blepharocalyx ', 72), ('Alpinia galanga', 71), ('Alpinia officinarum ', 61), ('Alpinia speciosa', 19), ('Alstonia boonei ', 203), ('Althaea nudiflora', 66), ('Althaea rosea ', 66), ('Amaryllis belladona', 55), ('Amaryllis belladonna', 3), ('Amberboa tubuliflora', 5), ('Amentotaxus yunnanensis', 77), ('Ammi majus', 146), ('Ammocharis coranica ', 61), ('Ammocharis tinneana ', 55), ('Ampelopsis brevipedunculata ', 55), ('Ampelopsis grossedentata', 85), ('Ampelopsis japonica ', 125), ('Amphicarpaea bracteata', 243), ('Amsonia ciliata', 119), ('Anabaena sp.', 12), ('Anacardium occidentale ', 68), ('Anadenanthera colubrine', 203), ('Ananas comosus ', 33), ('Anaxagorea luzonensis', 362), ('Ancistrocladus abbreviatus', 27), ('Andira inermis ', 255), ('Andrographis paniculata ', 307), ('Andropogon schoenanthus ', 26), ('Anemone rivularis ', 155), ('Anemopsis californica', 13), ('Anethum graveolens ', 40), ('Anethum spp.', 69), ('Angelica acutiloba', 112), ('Angelica archangelica ', 51), ('Angelica dahurica', 91), ('Angelica furcijuga', 426), ('Angelica gigas ', 123), ('Angelica glabra', 17), ('Angelica keiskei ', 12), ('Angelica komarovii', 48), ('Angelica pachycarpa', 26), ('Angelica pubescens', 102), ('Angelica sinensis ', 142), ('Angelica spp.', 48), ('Angelica taiwaniana', 51), ('Angelica ursina', 48), ('Aniba canelilla ', 14), ('Anisocycla racemosa', 60), ('Anisomeles indica ', 9), ('Annona bullata', 2), ('Annona cherimola ', 60), ('Annona cherimolia ', 75), ('Annona crassiflora ', 177), ('Annona dioica', 60), ('Annona foetida', 60), ('Annona glabra ', 62), ('Annona montana', 60), ('Annona monticola', 201), ('Annona muricata', 70), ('Annona purpurea ', 99), ('Annona reticulata ', 61), ('Annona senegalensis ', 60), ('Annona squamosa', 63), ('Annona tomentosa', 177), ('Annona warmingiana', 177), ('Anomianthus dulcis ', 49), ('Anthemis altissima ', 275), ('Anthemis macedonica', 2), ('Anthemis nobilis ', 227), ('Anthriscus sylvestris ', 49), ('Anthurium spp.', 8), ('Anthurium versicolor', 139), ('Anthyllis onobrychioides', 119), ('Anthyllis subsimplex', 108), ('Antirrhinum graniticum', 15), ('Antizoma angustifolia', 14), ('Apios americana ', 243), ('Apis mellifera ligustica ', 49), ('Apium graveolens ', 47), ('Apocynum lancifolium', 177), ('Apocynum venetum ', 269), ('Aquilaria agallocha', 60), ('Arabidopsis thaliana', 730), ('Arachis glabrata', 158), ('Arachis hypogaea ', 413), ('Aralia cordata ', 18), ('Aralia elata ', 6), ('Araliopsis tabouensis', 6), ('Araucaria angustifolia', 20), ('Araucaria cunninghamii ', 47), ('Araucaria spp.', 44), ('Arbutus unedo ', 9), ('Arctium lappa ', 193), ('Arctium leiospermum', 63), ('Arctium minus ', 63), ('Arctium tomentosum ', 63), ('Ardisia colorata', 410), ('Arenaria kansuensis', 98), ('Argemone mexicana ', 183), ('Argemone spp.', 113), ('Argemone subfusiformia', 113), ('Argemone subfusiformis', 113), ('Aristea spp.', 27), ('Aristolochia chilensis', 14), ('Aristolochia cinnabarina', 15), ('Aristolochia clematis', 15), ('Aristolochia debilis ', 15), ('Aristolochia elegans ', 15), ('Aristolochia heterophylla', 99), ('Aristolochia indica ', 15), ('Aristolochia kaempferi', 15), ('Aristolochia kunmingensis', 15), ('Aristolochia longa ', 15), ('Aristolochia manchuriensis', 151), ('Aristolochia maurorum', 15), ('Aristolochia mollissima ', 15), ('Aristolochia ponticum', 15), ('Aristolochia pubescens', 15), ('Aristolochia spp.', 15), ('Aristolochia tubiflora', 15), ('Arnica chamissonis', 39), ('Arnica montana', 275), ('Arracacia xanthorrhiza ', 107), ('Artabotrys hexapetalus ', 60), ('Artabotrys uncinatus ', 81), ('Artemisia abrotanum ', 21), ('Artemisia annua', 326), ('Artemisia argyi ', 55), ('Artemisia austriaca', 41), ('Artemisia aygyi', 18), ('Artemisia brevifoli', 10), ('Artemisia brevifolia', 10), ('Artemisia campestris', 112), ('Artemisia capillaris ', 377), ('Artemisia dracunculus ', 9), ('Artemisia giraldii', 41), ('Artemisia glutinosa', 65), ('Artemisia klotzschiana', 61), ('Artemisia mesatlantica', 11), ('Artemisia minor', 158), ('Artemisia mongolica', 41), ('Artemisia scoparia', 279), ('Artemisia sieversiana ', 41), ('Artemisia spp. ', 233), ('Artemisia verlotiorum', 41), ('Artemisia vestita ', 130), ('Artocarpus dadah ', 4), ('Artocarpus fretessi', 4), ('Artocarpus integrifolia ', 10), ('Arum maculatum', 155), ('Aruncus diocus', 227), ('Asanthus thyrsiflora', 119), ('Asarum canadense ', 15), ('Asarum forbesii', 61), ('Asarum heteropoides', 19), ('Asarum heterotropoides', 40), ('Asarum sieboldii ', 121), ('Ascarina lucida', 275), ('Asimina longifolia', 1), ('Asimina triloba ', 4), ('Asparagus officinalis', 137), ('Asperula odorata ', 7), ('Asphodelus microcarpus ', 26), ('Aster salignus', 239), ('Asteropyrum cavaleriei', 113), ('Astilbe odontophylla', 12), ('Astilbe thunbergii', 12), ('Astragalus arguricus', 158), ('Astragalus brachycarpus', 119), ('Astragalus centralpinus', 39), ('Astragalus ciceroides', 158), ('Astragalus complanatus ', 89), ('Astragalus flexus', 158), ('Astragalus floccosifolius', 158), ('Astragalus levieri', 158), ('Astragalus onobrychis', 158), ('Astragalus quisqualis', 158), ('Astragalus saganlugensis', 158), ('Astrantia major ', 31), ('Atalantia ceylanica', 48), ('Atalantia monophylla ', 4), ('Athrotaxis selaginoides', 9), ('Atrabotrys maingayi', 60), ('Austrocedrus chilensis ', 31), ('Austrocylindropuntia subulata', 6), ('Averrhoa carambola', 19), ('Baccharis eleagnoides', 25), ('Baccharis magellanica', 14), ('Baccharis spp.', 65), ('Baccharis tucumanensis', 18), ('Baccharis viminea', 49), ('Balanophora abbreviata B1', 76), ('Balanophora japonica ', 271), ('Ballota hirsuta', 18), ('Baptisia alba', 243), ('Baptisia australis', 243), ('Baptisia bracteata', 243), ('Baptisia calycosa', 243), ('Baptisia cinerea', 243), ('Baptisia lanceolata', 243), ('Baptisia lecontei', 243), ('Baptisia megacarpa', 243), ('Baptisia nuttalliana', 243), ('Baptisia perfoliata', 243), ('Baptisia spp.', 190), ('Baptisia tinctoria ', 243), ('Bauhinia guianensis ', 65), ('Bauhinia manca', 45), ('Bauhinia vahlii', 328), ('Begonia nantoensis', 233), ('Beilschmiedia erythrophloia', 203), ('Beilschmiedia zenkeri', 155), ('Bellis perennis ', 39), ('Berberis actinacantha', 10), ('Berberis aemulans', 135), ('Berberis amurensis ', 10), ('Berberis aquifolium', 113), ('Berberis aristata ', 113), ('Berberis brandisiana', 135), ('Berberis candidula', 135), ('Berberis crataegina ', 38), ('Berberis croatica', 113), ('Berberis darwinii ', 118), ('Berberis densiflora', 113), ('Berberis diaphana', 113), ('Berberis dubia', 113), ('Berberis glauca ', 38), ('Berberis heterobotrys', 113), ('Berberis iliensis', 118), ('Berberis integerrima', 113), ('Berberis japonica', 38), ('Berberis julianae', 113), ('Berberis koreana', 6), ('Berberis nervosa', 113), ('Berberis numularis', 113), ('Berberis oblonga', 113), ('Berberis poirettii', 135), ('Berberis potaninii', 113), ('Berberis pruinosa', 113), ('Berberis pseudanubalata', 113), ('Berberis rigidifolia', 113), ('Berberis sibirica ', 38), ('Berberis spp.', 113), ('Berberis stenophylla', 113), ('Berberis thunbergii ', 135), ('Berberis turcomanica', 118), ('Berberis valdiviana', 10), ('Berberis vulgaris', 140), ('Berberis wilsonae', 113), ('Berberis wilsoniae', 113), ('Berchemia floribunda ', 26), ('Bersama swinyi', 203), ('Beta vulgaris', 141), ('Betula alba', 104), ('Betula middendorfii', 119), ('Betula platyphylla ', 124), ('Betula utilis ', 155), ('Bidens spp.', 3), ('Bituminaria bituminosa ', 85), ('Bituminaria morisiana', 30), ('Blechnum orientale ', 239), ('Blumea balsamifera ', 77), ('Blumea glomerata', 19), ('Bocagea sp.nov.', 177), ('Bocconia arborea', 35), ('Bocconia frutescens ', 35), ('Boehmeria holosericea', 269), ('Boehmeria platanifolia', 62), ('Boehmeria tricuspis', 269), ('Boenninghausenia albiflora ', 22), ('Boenninghausenia japonica ', 4), ('Boesenbergia rotunda', 26), ('Bolusanthus speciosus ', 14), ('Bombax malabaricum ', 13), ('Borassus flabellifer ', 12), ('Boschniakia rossica', 9), ('Boswellia carterii', 40), ('Bowdichia nitida', 243), ('Brachyclados megalanthus', 48), ('Brachylaena ramiflora', 203), ('Brachystola magna', 6), ('Brainea insignis', 158), ('Brassica carinata', 106), ('Brassica carinata Y line ', 43), ('Brassica hirta ', 78), ('Brassica napus ', 12), ('Brassica oleracea', 152), ('Brassica rutabaga', 12), ('Brassica spp.', 33), ('Brickellia arguta', 39), ('Brickellia californica', 25), ('Brickellia scoparia', 41), ('Brickellia spp.', 21), ('Brickellia vernicosa', 8), ('Bridelia ferruginea ', 85), ('Bridelia micrantha ', 125), ('Bromelia pinguin ', 21), ('Brosimum acutifolium ', 56), ('Broussonetia papyrifera ', 173), ('Broussonetia papyrigera', 26), ('Bruguiera gymnorhiza', 4), ('Bruguiera parviflora ', 203), ('Brunfelsia grandiflora', 122), ('Brunsvigia josephinae', 10), ('Brunsvigia littoralis', 55), ('Brunsvigia radulosa', 59), ('Bulbophyllum vaginatum', 66), ('Bupleurum chinense ', 287), ('Bupleurum rotundifolia', 177), ('Bupleurum rotundifolium', 201), ('Bupleurum salicifolium', 63), ('Bupleurum scorzonerifolium ', 15), ('Bursaria spinosa ', 16), ('Bursera graveolens ', 203), ('Bursera microphylla', 31), ('Bursera morelensis', 31), ('Bursera permollis', 31), ('Bursera schlechtendalii', 15), ('Bursera simaruba ', 15), ('Byrsonima microphylla', 230), ('Cachrys buchorica', 26), ('Caesalpinia decapetala ', 203), ('Caesalpinia pulcherrima', 354), ('Caesalpinia sappan ', 125), ('Cajanus cajan ', 262), ('Cajanus scarabaeoides', 243), ('Calendula officinalis ', 211), ('Calicotome spinosa', 243), ('Calicotome villosa ', 243), ('Callicarpa pilosissima', 21), ('Calligonum leucocladum', 467), ('Callitris columellaris ', 31), ('Callitris drummondii', 26), ('Calocedrus formosana', 15), ('Calocedrus microlepic', 44), ('Calophyllum apetalum ', 3), ('Calophyllum blancoi', 4), ('Calophyllum bracteatum', 17), ('Calophyllum brasiliense ', 1), ('Calophyllum caledonicum', 25), ('Calophyllum fragrans', 9), ('Calophyllum inophyllum ', 66), ('Calophyllum membranaceum ', 3), ('Calophyllum pinetorum', 46), ('Calophyllum polyanthum', 139), ('Calophyllum pulcherrimum', 17), ('Calophyllum thwaitesii', 17), ('Calophyllum tomentosum', 17), ('Calophyllum trapezifolium', 17), ('Calophyllum walkeri', 17), ('Calopogonium caeruleum', 243), ('Calycopteris floribunda ', 8), ('Camellia assamica', 30), ('Camellia irawadiensis', 30), ('Camellia irrawadiensisia', 24), ('Camellia kissi ', 37), ('Camellia ptilophylla', 24), ('Camellia sinensis', 503), ('Camellia taliensis', 37), ('Camellia thea ', 30), ('Camellia toliensis', 37), ('Campanula glomerata', 292), ('Camptosema rubicundum', 243), ('Camptotheca acuminata ', 432), ('Cananga latifolia', 66), ('Canarium album ', 125), ('Canavalia eurycarpa', 243), ('Canavalia gladiata ', 243), ('Cannabis sativa ', 61), ('Cannomois virgata', 119), ('Canscora decussata ', 21), ('Capparis himalayensis', 67), ('Capparis spinosa ', 98), ('Capsicum annuum', 33), ('Caragana frutex', 85), ('Caragana jubata', 85), ('Cardaria draba ', 3), ('Cardiopetalum calophyllum', 60), ('Carduus micropterus', 63), ('Carissa edulis ', 7), ('Carpesium longifolium', 16), ('Carum carvi', 214), ('Carya pecan', 177), ('Cassia acutifolia ', 26), ('Cassia alata', 62), ('Cassia angolensis ', 62), ('Cassia fastuosa', 62), ('Cassia fistula ', 43), ('Cassia javanica ', 62), ('Cassia mimosoides ', 26), ('Cassia obtusifolia ', 77), ('Cassia occidentalis ', 77), ('Cassia quinquangula', 6), ('Cassia quinquangulata', 3), ('Cassia senna ', 26), ('Cassia siamea', 230), ('Cassia speciosa', 263), ('Cassia tora', 81), ('Cassia torosa', 62), ('Cassytha filiformis ', 127), ('Castanea mollissima ', 13), ('Casuarina cunninghamiana', 29), ('Casuarina equisetifolia', 206), ('Catalpa bignonioides', 18), ('Catalpa ovata ', 136), ('Cedrela toona ', 9), ('Celastrus orbiculatus ', 7), ('Celastrus scandens', 7), ('Celtis philippinensis', 104), ('Centaurea alexandrina', 63), ('Centaurea americana', 63), ('Centaurea bella', 63), ('Centaurea bracteata', 158), ('Centaurea calcitrapa ', 63), ('Centaurea cuneifolia', 63), ('Centaurea cyanus ', 63), ('Centaurea cynaroides', 63), ('Centaurea dealbata', 63), ('Centaurea dimorpha', 63), ('Centaurea gigantea', 275), ('Centaurea granata', 41), ('Centaurea macrocephala', 41), ('Centaurea maculosa', 63), ('Centaurea melitensis', 63), ('Centaurea phrygia', 63), ('Centaurea pseudoscabiosa', 49), ('Centaurea regia', 63), ('Centaurea ruthenica', 63), ('Centaurea scabiosa ', 63), ('Centaurea scoparia', 63), ('Centaurea solstitialis', 237), ('Centaurea sphaerocephala', 63), ('Centaurea spp.', 82), ('Centipeda minima ', 203), ('Cephaelis acuminata ', 6), ('Cephaelis ipecacuanha ', 6), ('Cephalaria kotschyi', 119), ('Cephalaria nachiczevanica', 119), ('Cephalotaxus drupacea ', 4), ('Cephalotaxus fortunei', 50), ('Cephalotaxus hainanensis', 14), ('Cephalotaxus hainensis', 2), ('Cephalotaxus harringtonia', 31), ('Cephalotaxus koreana', 43), ('Cephalotaxus sinensis', 5), ('Cephalotaxus wilsoniana', 5), ('Ceramium rubrum', 33), ('Ceratocapnos palaestinus', 16), ('Ceratostigma plumbaginoides', 27), ('Ceratostigma willmottianum', 296), ('Cereus grandiflorus ', 39), ('Ceriops tagal ', 286), ('Cestrum nocturnum ', 61), ('Ceterach officinarum ', 22), ('Ceterach sp.', 22), ('Chaenomeles sinensis', 183), ('Chaerophyllum hirsutum', 291), ('Chaerophyllum maculatum', 7), ('Chamaecrista mimosoides ', 62), ('Chamaecrista nomame', 62), ('Chamaecrista pumila', 62), ('Chamaecyparis formosensis', 228), ('Chamaecyparis obtusa', 21), ('Chamaecyparis pisifera', 55), ('Cheilanthes argentea', 25), ('Cheilanthes kaulfussii', 49), ('Chelidonium japonicum', 35), ('Chelidonium major ', 16), ('Chelidonium majus', 153), ('Chelidonium spp.', 113), ('Chenopodium graveolens', 49), ('Chlorophora tinctoria', 10), ('Chloroxylon swietenia ', 4), ('Choerospondias axillaris ', 125), ('Chonemorpha grandiflora', 14), ('Chromolaena arnottiana', 41), ('Chrysanthemum boreale', 66), ('Chrysanthemum indicum', 122), ('Chrysanthemum leucanthemum', 15), ('Chrysanthemum morifolium ', 122), ('Chrysosplenium grayanum', 1), ('Chrysosplenium japonicum', 21), ('Chrysosplenium tosaense', 21), ('Chrysothamnus humilis', 65), ('Chrysothamnus viscidiflorus', 65), ('Chuquiraga ulicina', 203), ('Cibotium barometz ', 158), ('Cicer arietinum ', 473), ('Cichorium endivia ', 10), ('Cichorium intybus ', 311), ('Cichorium pumilum ', 10), ('Cicuta virosa', 1), ('Cimicifuga dahurica ', 227), ('Cimicifuga foetida ', 227), ('Cimicifuga heracleifolia ', 98), ('Cinchona cuprea', 158), ('Cinchona ledgeriana', 8), ('Cinchona spp.', 8), ('Cinnamomum camphora', 62), ('Cinnamomum glanduliferum ', 19), ('Cinnamomum illicioides', 68), ('Cinnamomum japonicum ', 61), ('Cinnamomum parthenoxylum', 61), ('Cinnamomum spp.', 61), ('Cinnamomum subavenium', 159), ('Cinnamomum tamala ', 61), ('Cinnamomum tenuifolium', 115), ('Cirsium brevistylum', 25), ('Cirsium canum', 63), ('Cirsium setosum', 122), ('Cirsium vulgare ', 63), ('Cissampelos sympodialis', 60), ('Cistus creticus ', 78), ('Cistus populifolius', 49), ('Cistus salviifolius ', 17), ('Citrullus colocynthis ', 122), ('Citrus aurantium', 133), ('Citrus decumana ', 22), ('Citrus grandis', 93), ('Citrus hassaku ', 21), ('Citrus jambhiri', 11), ('Citrus limon ', 326), ('Citrus limonia ', 125), ('Citrus macroptera ', 6), ('Citrus madurensis', 2), ('Citrus maxima ', 37), ('Citrus medica', 41), ('Citrus meyeri', 48), ('Citrus mitis', 19), ('Citrus natsudaidai ', 33), ('Citrus nobilis ', 19), ('Citrus paradisi ', 51), ('Citrus reticulata', 132), ('Citrus sinensis', 77), ('Citrus spp.', 216), ('Citrus sudachi ', 133), ('Citrus sulcata ', 1), ('Citrus tachibana ', 1), ('Citrus tamurana ', 2), ('Citrus tangerina ', 59), ('Citrus tankan', 19), ('Citrus unshiu', 95), ('Clausena anisata ', 51), ('Clausena excavata ', 45), ('Cleidion spiciflorum ', 23), ('Cleistopholis patens', 60), ('Cleome icosandra ', 9), ('Clermontia fauriei', 155), ('Clibadium spp.', 269), ('Clinacanthus nutans ', 108), ('Clinopodium chinense', 31), ('Clitoria falcata', 243), ('Clitoria ternatea ', 414), ('Clivia miniata ', 55), ('Clusia nemorosa ', 155), ('Cneoridium dumosum', 10), ('Cnicus benedictus ', 63), ('Cnidium monnieri ', 51), ('Coccoloba excoriata', 270), ('Cocculus laurifolius', 38), ('Cochlospermum gillivraei', 65), ('Codium fragile ', 26), ('Codonopsis pilosula ', 98), ('Coffea arabica ', 272), ('Coffea canephora ', 37), ('Coffea dewevrei', 37), ('Coffea eugeniodes', 37), ('Coffea excelsa', 30), ('Coffea kianjavatensis', 37), ('Coffea liberica ', 37), ('Coffea racemosa', 37), ('Coffea salvatrix', 37), ('Coffea spp', 30), ('Cola acuminata ', 37), ('Cola spp.', 37), ('Colchicum luteum', 33), ('Coleogyne ramosissima', 177), ('Coleus blumei ', 43), ('Colubrina faralaotra', 136), ('Combretum quadrangulare ', 244), ('Combretum yunnanensis', 29), ('Commelina communis', 319), ('Commiphora dalzielii', 203), ('Commiphora myrrha ', 71), ('Conioselinum vaginatum', 19), ('Conium maculatum ', 158), ('Conoclinium greggii', 19), ('Conospermum teretifolium', 11), ('Convallaria keiskei ', 269), ('Conyza aegyptica', 67), ('Conyza blinii', 158), ('Conyza filaginoides', 177), ('Conyza newii ', 26), ('Conyza schimperi', 98), ('Coptis chinensis ', 209), ('Coptis deltoidea ', 113), ('Coptis gulinensis', 113), ('Coptis japonica ', 113), ('Coptis linearisepala', 113), ('Coptis omeiensis', 113), ('Coptis spp.', 113), ('Coptis teetoides', 113), ('Corbicula japonica ', 33), ('Corbicula sandai ', 33), ('Coreopsis grandiflora', 3), ('Coriandrum sativum ', 40), ('Coriaria sinica ', 125), ('Cornus florida', 155), ('Cornus officinalis ', 125), ('Coronilla coronata', 85), ('Coronilla glauca', 85), ('Coronilla juncea', 85), ('Coronilla minima', 85), ('Coronilla repanda ', 85), ('Coronilla scorpioides', 85), ('Coronilla valentina', 85), ('Coronilla viminalis', 85), ('Corydalis amunca', 113), ('Corydalis claviculata', 14), ('Corydalis decumbens ', 98), ('Corydalis intermedia', 113), ('Corydalis ledebouriana', 113), ('Corydalis longicalcarata', 113), ('Corydalis ophiocarpa', 144), ('Corydalis remota', 113), ('Corydalis solida ', 113), ('Corydalis spp.', 113), ('Corydalis yanhusuo ', 113), ('Corylus avellana ', 104), ('Coscinium fenestratum ', 118), ('Costus speciosus ', 13), ('Costus spicatus ', 226), ('Cotinus coggygria', 125), ('Cotoneaster simonsii', 122), ('Couepia polyandra', 155), ('Cousinia hystrix', 63), ('Coussarea paniculata', 286), ('Cowania mexicana ', 196), ('Crataegus cuneata ', 230), ('Crataegus hupehensis', 219), ('Crataegus kansuensis', 219), ('Crataegus maximowiczii ', 219), ('Crataegus oxyacantha ', 243), ('Crataegus pinnatifida', 558), ('Crataegus sanguinea ', 219), ('Crataegus scabrifolia', 225), ('Cratoxylum cochinchinense', 7), ('Cratoxylum formosum', 119), ('Crinum amabile ', 55), ('Crinum asiaticum', 59), ('Crinum bulbispermum', 55), ('Crinum delagoense', 55), ('Crinum giganteum', 55), ('Crinum glaucum ', 59), ('Crinum jagus ', 59), ('Crinum latifolium ', 55), ('Crinum lugardiae', 55), ('Crinum macowanii ', 59), ('Crinum macrantherum', 3), ('Crinum moorei', 55), ('Crinum pratense', 55), ('Crinum scabrum', 55), ('Crinum yemense', 55), ('Crithmum maritimum ', 31), ('Crocus sativus ', 66), ('Crossopetalum gaumeri ', 7), ('Crotalaria assamica ', 320), ('Crotalaria cephalotes', 15), ('Crotalaria crispata', 15), ('Crotalaria cunninghamii ', 15), ('Crotalaria juncea ', 243), ('Crotalaria micans', 108), ('Crotalaria mysorensis', 15), ('Crotalaria nana', 15), ('Crotalaria pallida ', 404), ('Crotalaria paulina', 15), ('Crotalaria quinquefolia', 15), ('Crotalaria recta', 15), ('Crotalaria retusa ', 15), ('Crotalaria rotundifolia', 108), ('Crotalaria sagittalis', 15), ('Crotalaria scassellatii', 15), ('Crotalaria sessiliflora ', 15), ('Crotalaria spectabilis', 15), ('Crotalaria stipularia', 15), ('Crotalaria verrucosa ', 108), ('Croton lechleri ', 17), ('Croton nepetaefolius', 13), ('Croton oblongifolius', 4), ('Croton tonkinensis', 289), ('Croton zambesicus', 222), ('Cruciata taurica', 177), ('Cryptomeria japonica', 25), ('Cryptotaenia japonica ', 40), ('Cucumis sativus', 368), ('Cudrania cochinchinensis', 351), ('Cudrania tricuspidata', 18), ('Cullen corylifolium', 126), ('Cullen drupaceum', 85), ('Cullen obtusifolium ', 85), ('Cullen plicatum', 85), ('Cunila angustifolia', 41), ('Cunila incana', 51), ('Cunonia macrophylla', 138), ('Cupressus cashmeriana', 51), ('Cupressus funebris', 12), ('Cupressus lusitanica ', 63), ('Cupressus sempervirens ', 12), ('Cupressus spp.', 44), ('Curculigo orchioides', 55), ('Curcuma aeruginosa ', 22), ('Curcuma aromatica ', 13), ('Curcuma chuanyujin', 13), ('Curcuma doestica', 13), ('Curcuma domestica ', 66), ('Curcuma heyneana ', 13), ('Curcuma kwangsiensis ', 13), ('Curcuma longa ', 13), ('Curcuma mangga', 246), ('Curcuma soloensis ', 13), ('Curcuma spp.', 13), ('Curcuma xanthorrhiza ', 13), ('Curcuma zanthorrhiza ', 13), ('Curcuma zedoaria', 13), ('Cuscuta australis ', 230), ('Cuscuta chinensis ', 119), ('Cuscuta japonica ', 33), ('Cyathea podophylla', 21), ('Cyathea spp.', 108), ('Cycas beddomei ', 44), ('Cycas revoluta ', 44), ('Cyclea barbata', 38), ('Cymbopogon distans', 26), ('Cymbopogon martinii ', 26), ('Cynanchum thesioides ', 98), ('Cynara cardunculus ', 63), ('Cynara scolymus ', 8), ('Cynoglossum officinale ', 12), ('Cyperus rotundus', 155), ('Cyprinus carpio ', 33), ('Cypripedium macranthos', 49), ('Cyrtanthus pallidus', 55), ('Cytisus albus', 243), ('Cytisus baeticus', 243), ('Cytisus commutatus', 243), ('Cytisus eriocarpus', 108), ('Cytisus fontanesii', 243), ('Cytisus hirsutus', 108), ('Cytisus proliferus', 243), ('Cytisus ratisbonensis', 243), ('Cytisus scoparius ', 511), ('Cytisus striatus', 243), ('Dacrydium franklinii', 13), ('Dahlia spp', 68), ('Dahlia variabilis ', 45), ('Dalbergia barretoana', 23), ('Dalbergia ecastaphyllum ', 78), ('Dalbergia odorifera ', 45), ('Dalbergia parviflora ', 8), ('Dalbergia sericea', 147), ('Dalbergia stevensonii', 134), ('Damnacanthus indicus', 8), ('Daphne feddei', 66), ('Daphne odora', 19), ('Daphne oleoides ', 3), ('Daphne tangutica', 12), ('Daphniphyllum oldhami', 17), ('Datura innoxia ', 158), ('Datura stramonium', 16), ('Daucus carot', 18), ('Daucus carota', 95), ('Davidsonia pruriens ', 278), ('Debregeasia longifolia ', 125), ('Decussocarpus wallichianus', 9), ('Deguelia hatschbachii', 203), ('Delphinium denudatum', 8), ('Delphinium yunnanense ', 61), ('Dendranthema grandiflorum', 33), ('Dendrobium densiflorum', 65), ('Derris oblonga', 298), ('Derris scandens ', 246), ('Descurainia sophia', 201), ('Desmanthodium spp.', 269), ('Desmodium gangeticum ', 243), ('Desmodium triflorum ', 108), ('Desmodium uncinatum', 243), ('Desmos longifolia', 60), ('Dianthus chinensis ', 61), ('Dicentra peregrina', 35), ('Dicentra pusilla', 8), ('Dicentra spectabilis', 35), ('Dichapetalum gelonioides', 155), ('Dichrocephala bicolor ', 158), ('Dicranopteris linearis', 177), ('Dicranostigma franchetianum', 46), ('Dicranostigma lactucoides', 35), ('Dicranostigma leptopodum', 35), ('Dictamnus angustifolius', 177), ('Dictamnus hispanicus ', 85), ('Didymochlaena truncatula', 7), ('Digitalis ferruginea ', 8), ('Digitalis lanata ', 21), ('Digitalis purpurea ', 177), ('Digitalis thapsi ', 44), ('Dillenia indica ', 125), ('Dionaea muscipula', 27), ('Dioon spp.', 44), ('Dioscorea althaeoides', 13), ('Dioscorea bulbifera', 12), ('Dioscorea collettii', 21), ('Dioscorea dregeana', 10), ('Dioscorea futschauensis ', 21), ('Dioscorea gracillima', 13), ('Dioscorea panthaica ', 13), ('Dioscorea parviflora', 13), ('Dioscorea pseudojaponica', 21), ('Dioscorea rotundata ', 12), ('Dioscorea spongiosa', 21), ('Dioscorea spp.', 13), ('Dioscorea villosa ', 12), ('Dioscorea zingiberensis', 13), ('Diospyros abyssinica ', 288), ('Diospyros acuta', 203), ('Diospyros alboflavescens', 155), ('Diospyros argentea', 286), ('Diospyros bipindensis', 286), ('Diospyros buxifolia ', 286), ('Diospyros canaliculata', 304), ('Diospyros candalleana', 286), ('Diospyros castanea', 286), ('Diospyros cauliflora', 286), ('Diospyros chevalieri', 286), ('Diospyros chloroxylon ', 185), ('Diospyros cinnabarina', 403), ('Diospyros consolatae', 286), ('Diospyros cordifolia ', 203), ('Diospyros cornii', 270), ('Diospyros crassiflora', 286), ('Diospyros curranii', 286), ('Diospyros dendo', 286), ('Diospyros diepenhorstii ', 270), ('Diospyros discolor ', 286), ('Diospyros ebenum ', 304), ('Diospyros ehretioides ', 270), ('Diospyros elliptifolia', 304), ('Diospyros embryopteris ', 286), ('Diospyros eriantha', 304), ('Diospyros evena', 286), ('Diospyros exsculpta', 286), ('Diospyros ferrea', 155), ('Diospyros fragrans', 288), ('Diospyros gabunensis', 286), ('Diospyros gilleti', 155), ('Diospyros gracilescens', 288), ('Diospyros gracilipes', 27), ('Diospyros greeniway', 270), ('Diospyros guianensis ', 286), ('Diospyros hebecarpa', 27), ('Diospyros hirsuta', 286), ('Diospyros hoyleana', 286), ('Diospyros ismailii', 286), ('Diospyros iturensis', 286), ('Diospyros kaki', 591), ('Diospyros kamerunensis', 288), ('Diospyros leucomelas', 183), ('Diospyros longiflora', 288), ('Diospyros lotus ', 304), ('Diospyros mafiensis', 270), ('Diospyros maingayi', 286), ('Diospyros malanonilau', 183), ('Diospyros mannii', 288), ('Diospyros maritima', 304), ('Diospyros melanoxylon ', 286), ('Diospyros mespiliformis ', 286), ('Diospyros monobuttensis', 286), ('Diospyros montana ', 288), ('Diospyros moonii', 286), ('Diospyros morrisiana ', 286), ('Diospyros natalensis', 270), ('Diospyros obliquifolia', 288), ('Diospyros oppositifolia', 203), ('Diospyros palmeri', 155), ('Diospyros peregrina ', 286), ('Diospyros pseudo-malabarica', 286), ('Diospyros quaesita', 286), ('Diospyros rheophytica', 203), ('Diospyros rhodocalyx ', 203), ('Diospyros rhombifolia', 177), ('Diospyros sanza-minika', 286), ('Diospyros siamang', 304), ('Diospyros siamensis ', 286), ('Diospyros siderophylla', 304), ('Diospyros singaporensis', 286), ('Diospyros spinescens', 288), ('Diospyros spp.', 40), ('Diospyros sumatrana', 286), ('Diospyros sylvatica', 305), ('Diospyros thwaitesii', 286), ('Diospyros tomentosa ', 286), ('Diospyros toposia ', 203), ('Diospyros verrucosa', 183), ('Diospyros virginiana ', 288), ('Diospyros walkeri', 304), ('Diospyros wallichii', 304), ('Diospyros zenkeri', 286), ('Diphylleia grayi', 26), ('Diphylleia sinensis', 33), ('Diphysa robinoides', 11), ('Diploknema butyracea', 85), ('Dipogon lignosus', 243), ('Dipsacus asper ', 158), ('Dipteryx odorata ', 55), ('Dirca occidentalis', 10), ('Disepalum pulchrum', 60), ('Disporopsis aspera', 24), ('Dodonaea viscosa ', 239), ('Dolichos biflorus ', 30), ('Dorstenia angusticornis', 203), ('Dorstenia asaroides', 85), ('Dorstenia bahiensis', 85), ('Dorstenia barnimiana', 85), ('Dorstenia brasiliensis ', 85), ('Dorstenia bryonifolia', 85), ('Dorstenia cayapiaa', 85), ('Dorstenia contrajerva ', 85), ('Dorstenia drakena ', 85), ('Dorstenia excentria', 85), ('Dorstenia gigas', 17), ('Dorstenia heringerii', 85), ('Dorstenia lindeniana', 85), ('Dorstenia poinsettifolia ', 33), ('Dorstenia psilurus ', 85), ('Dorstenia turbinata', 85), ('Dracaena draco ', 57), ('Drosera peltata', 27), ('Drosera rotundifolia ', 27), ('Drynaria fortunei ', 22), ('Dryobalanops aromatica ', 23), ('Dryopteris crassirhizoma ', 22), ('Drypetes molunduana', 23), ('Drypetes tessmanniana', 203), ('Dunbaria villosa', 243), ('Duranta repens ', 33), ('Durio kutejensis ', 15), ('Dysosma difformis', 15), ('Dysosma furfuracea', 15), ('Dysosma guangxiensis', 15), ('Dysosma majorensis', 33), ('Dysosma pleiantha ', 42), ('Dysosma veitchii', 33), ('Dysosma versipellis', 15), ('Dysoxylum malabaricum', 203), ('Echinops grijsii', 40), ('Echinospartum horridum', 243), ('Elateriospermum tapos ', 44), ('Elephantopus scaber ', 203), ('Elsholtzia bodinieri ', 49), ('Elsholtzia ciliata ', 26), ('Elsholtzia rugulosa', 343), ('Emblica officinalis ', 138), ('Enantia chlorantha ', 60), ('Engelhardia roxburghiana', 15), ('Enkianthus cernuus', 270), ('Entada scandens ', 203), ('Ephedra equisetina ', 66), ('Epigaea asiatica', 270), ('Epilobium hirsutum ', 125), ('Epimedium acuminatum', 67), ('Epimedium brevicornum ', 177), ('Epimedium davidii', 67), ('Epimedium dolichostemen', 67), ('Epimedium fargesii', 67), ('Epimedium franchetii', 67), ('Epimedium koreanum ', 343), ('Epimedium leishanense', 67), ('Epimedium leptorrhizum', 67), ('Epimedium membranaceum', 67), ('Epimedium myrianthum', 67), ('Epimedium pauciflorum', 67), ('Epimedium pubescens ', 67), ('Epimedium sagittatum ', 337), ('Epimedium stellatum', 67), ('Epimedium zhenbaense', 67), ('Epimedium zhushanense', 67), ('Equisetum arvense ', 177), ('Equisetum hiemale', 391), ('Equisetum sylvaticum', 177), ('Equsetum arvense ', 66), ('Erica arborea', 230), ('Erinacea anthyllis', 243), ('Eriobotrya japonica ', 326), ('Eriocaulon buergerianum', 160), ('Eriodictyon sessilifolium', 49), ('Eriodictyon trichocalyx', 21), ('Eriolaena hookeriana', 203), ('Eriosema glomeratum ', 243), ('Eriosema nutans', 243), ('Eriosema psoraleoides', 243), ('Erodium stephanianum', 26), ('Ervatamia heyneana ', 14), ('Erycibe expansa ', 252), ('Erycibe obtusifolia ', 9), ('Erycibe schimidtii', 122), ('Eryngium yuccifolium', 158), ('Erysimum perofskianum', 2), ('Erythrina burttii', 243), ('Erythrina crista-galli ', 38), ('Erythrina indica ', 265), ('Erythrina latissima', 263), ('Erythrina orientalis', 38), ('Erythrina senegalensis ', 4), ('Erythrina variegata', 174), ('Escallonia spp.', 49), ('Eschscholtzia california', 113), ('Esenbeckia yaxhoob', 261), ('Eskemukerjea megacarpum', 304), ('Etlingera elatior', 275), ('Eucalyptus camaldulensis', 155), ('Eucalyptus citriodora ', 224), ('Eucalyptus globulus ', 197), ('Eucalyptus macathurii', 43), ('Eucalyptus mackliana', 43), ('Eucalyptus maculata', 66), ('Eucalyptus maideni', 177), ('Eucalyptus robusta ', 125), ('Eucalyptus spp. ', 43), ('Eucharis grandiflora', 55), ('Euchresta formosana', 340), ('Euchresta horsfeldii', 17), ('Euchresta japonica ', 2), ('Euclea divinorum ', 230), ('Euclea natalensis ', 230), ('Euclea spp.', 15), ('Eucommia ulmoides', 388), ('Eucryphia cordifolia', 12), ('Eucryphia spp.', 119), ('Eugenia caryophyllata ', 61), ('Eugenia crebrinervis', 29), ('Eugenia edulis ', 125), ('Eugenia gustavioides', 29), ('Eugenia jambolana ', 323), ('Eugenia sandwicensis', 274), ('Euodia spp.', 13), ('Euonymus sacrosancta', 119), ('Eupatorium altissimum', 41), ('Eupatorium coelestinum', 19), ('Eupatorium leucolepsis', 19), ('Eupatorium lindleyanum ', 119), ('Eupatorium macrocephalum', 203), ('Eupatorium microphyllum', 41), ('Euphorbia chamaesyce', 177), ('Euphorbia guyoniana', 8), ('Euphorbia helioscopia', 26), ('Euphorbia hirta ', 29), ('Euphorbia humifusa ', 125), ('Euphorbia larica', 376), ('Euphorbia lathyris ', 119), ('Euphorbia lunulata ', 235), ('Euphorbia magalanta', 177), ('Euphorbia micractina', 155), ('Euphorbia palustris', 85), ('Euphorbia paralias', 104), ('Euphorbia peplus ', 8), ('Euphorbia portlandica', 203), ('Euphorbia segetalis ', 8), ('Euphorbia spp.', 67), ('Euphorbia stepposa', 85), ('Euphorbia supina', 309), ('Euphorbia supina Rafin', 309), ('Euphorbia tinctoria ', 67), ('Euphorbia virgata', 177), ('Eurycoma longifolia', 14), ('Eurycoma longifolida', 14), ('Evodia lepta ', 6), ('Evodia mellifolia', 113), ('Evodia rutaecarpa ', 40), ('Evodia spp.', 113), ('Evodiopanax spp.', 22), ('Evolvulus alsinoides ', 158), ('Excoecaria cochinchinensis', 125), ('Eysenhardtia platycarpa', 290), ('Eysenhardtia subcoriacea', 119), ('Fagara chalybea', 35), ('Fagara heitzii', 203), ('Fagara mayu', 120), ('Fagara spp.', 14), ('Fagara tessmannii', 316), ('Fagara xanthoxyloides', 45), ('Fagonia alba', 39), ('Fagonia arabica ', 39), ('Fagonia taeckholmiana', 39), ('Fagopyrum cymosum ', 122), ('Falcaria vulgaris', 346), ('Feronia limonia ', 85), ('Ferula assa-foetida ', 98), ('Ferula assafoetida ', 98), ('Ferula foetida ', 98), ('Ferula sumbul ', 48), ('Ferula syreitschikowii', 48), ('Ferulago capillaris', 26), ('Fibraurea chloroleuca', 10), ('Ficus arica', 85), ('Ficus beecheyana', 24), ('Ficus carica ', 317), ('Ficus cordata', 243), ('Ficus cunninghamii', 26), ('Ficus eriobotryoides', 26), ('Ficus hirta ', 85), ('Ficus microcarpa ', 203), ('Ficus nymphaeifolia ', 243), ('Ficus rasemosa', 203), ('Ficus ruficaulis', 177), ('Ficus septica ', 259), ('Ficus simplicissima ', 85), ('Ficus sycomorus ', 107), ('Firmiana simplex ', 30), ('Fissistigma glaucescens ', 60), ('Fitzroya patagonica', 12), ('Flemingia chappar', 45), ('Flemingia macrophylla ', 243), ('Flemingia philippinensis', 243), ('Flemingia stricta ', 297), ('Flemingia strobilifera ', 265), ('Flindersia australis', 43), ('Flindersia laevicarpa', 215), ('Flourensia resinosa', 49), ('Flourensia riparia', 14), ('Foeniculum vulgare ', 162), ('Forsythia intermedia', 220), ('Forsythia koreana', 63), ('Forsythia ovata', 63), ('Forsythia suspensa ', 103), ('Forsythia viridissima ', 237), ('Fortunella japonica ', 26), ('Fortunella margaria', 11), ('Fortunella margarita ', 19), ('Fortunella sp.', 22), ('Fragaria spp.', 48), ('Fraxinus bungeana', 16), ('Fraxinus mandshurica ', 16), ('Fraxinus ornus ', 16), ('Fraxinus paxiana', 16), ('Fraxinus rhynchophylla ', 16), ('Fraxinus spp.', 16), ('Fraxinus stylosa ', 16), ('Fraxinus szaboana ', 16), ('Fritillaria cirrhosa ', 24), ('Fumaria officinalis ', 21), ('Fumaria schramii', 35), ('Gaillardia aristata', 177), ('Galactia glaucophylla', 108), ('Galactia jussiaeana', 243), ('Galanthus caucasicus ', 174), ('Galanthus elewesii', 55), ('Galanthus nivalis ', 55), ('Galanthus woronowii', 55), ('Galium mollugo', 2), ('Galium spp.', 7), ('Galium verum ', 122), ('Garcinia bancana', 203), ('Garcinia cowa ', 7), ('Garcinia densivenia', 125), ('Garcinia dulcis ', 380), ('Garcinia echinocarpa', 7), ('Garcinia fusca', 7), ('Garcinia hombroniana', 108), ('Garcinia jasminoides', 122), ('Garcinia linii', 27), ('Garcinia livingstonei ', 44), ('Garcinia mangostana', 20), ('Garcinia multiflora ', 65), ('Garcinia polyantha', 17), ('Garcinia spp.', 21), ('Garcinia subelliptica', 10), ('Garcinia terpnophylla', 7), ('Garcinia vilersiana ', 203), ('Garcinia xanthochymus ', 117), ('Gastrodia elata ', 9), ('Genista acanthoclada', 243), ('Genista albida', 243), ('Genista anglica', 243), ('Genista canariensis', 243), ('Genista corsica', 38), ('Genista cupanii', 243), ('Genista depressa', 243), ('Genista ephedroides', 243), ('Genista hispanica', 243), ('Genista hystrix', 243), ('Genista linifolia', 243), ('Genista lobelii', 243), ('Genista microphylla', 243), ('Genista monspessulana', 243), ('Genista morisii', 243), ('Genista obtusiramea', 243), ('Genista pulchella', 243), ('Genista radiata', 243), ('Genista sagittalis', 243), ('Genista salzmannii', 243), ('Genista scorpius', 243), ('Genista sericea', 243), ('Genista sessilifolia', 243), ('Genista spartioides', 243), ('Genista stenopetala', 243), ('Genista subcapitata', 243), ('Genista tinctoria ', 243), ('Genista triacanthos', 243), ('Genista tridens', 243), ('Genista tridentata', 243), ('Genista ulicina', 243), ('Gentiana lutea ', 203), ('Gentiana pyrenaica', 177), ('Gentiana scabra ', 203), ('Geranium macrorrhizum', 125), ('Geranium niveum ', 119), ('Geranium pratense ', 125), ('Geranium sibiricum ', 138), ('Geranium thunbergii ', 138), ('Geranium wilfordii', 119), ('Ginkgo biloba ', 242), ('Glaucium arabicum', 113), ('Glaucium corniculatum', 16), ('Glaucium fimbrilligerum', 35), ('Glaucium fimbrilligerum Boiss.', 35), ('Glaucium squamigerum', 46), ('Glaucium vitellinum', 16), ('Gleditsia japonica', 275), ('Gleditsia sinensis', 275), ('Gleditsia triacanthos ', 108), ('Glehnia littoralis ', 582), ('Glochidion eriocarpum', 207), ('Glochidion hohenackeri', 5), ('Glochidion macrophylla', 5), ('Glochidion puberum ', 207), ('Glochidion zeylanicaum', 5), ('Glycine canescens', 257), ('Glycine clandestina', 257), ('Glycine falcata', 257), ('Glycine latifolia', 257), ('Glycine max ', 597), ('Glycine tabacina', 257), ('Glycine tomentella', 257), ('Glycydendron amazonicum', 5), ('Glycyrrhiza aspera', 11), ('Glycyrrhiza echinata ', 108), ('Glycyrrhiza eurycarpa', 5), ('Glycyrrhiza glabra', 502), ('Glycyrrhiza glara', 45), ('Glycyrrhiza inflata', 50), ('Glycyrrhiza kansuensis', 11), ('Glycyrrhiza pallidiflora', 45), ('Glycyrrhiza spp.', 47), ('Glycyrrhiza uralensis ', 499), ('Glycyrrhiza yunnanensis', 47), ('Glyptostrobus lineatus', 12), ('Goniothalamus amuyon', 60), ('Goniothalamus scortephanine', 60), ('Goniothalamus thwaitesii', 155), ('Goniothalamus topis', 60), ('Gonocaryum calleryanum ', 203), ('Gossypium barbadense ', 394), ('Gossypium herbaceum ', 183), ('Gossypium hirsutum ', 183), ('Gossypium mexicanum', 8), ('Gossypium sp. ', 8), ('Guaiacum officinale ', 4), ('Guaiacum sanctum', 4), ('Guarea macrophylla', 9), ('Guatteria australis', 177), ('Guatteria boliviana', 2), ('Guatteria multivenia', 60), ('Guatteria notabilis', 177), ('Guatteria oliviformis', 60), ('Guatteria rupestris', 177), ('Guatteria villosissima', 177), ('Guatteriopsis friesiana', 60), ('Guazuma ulmifolia ', 17), ('Gustavia hexapetala ', 155), ('Gutierrezia grandis', 119), ('Gutierrezia wrightii', 201), ('Gymnadenia conopsea', 136), ('Gynerium sagittatum ', 196), ('Gynostemma pentaphyllum ', 108), ('Gypsophila struthium ', 155), ('Haemanthus kalbreyeri', 6), ('Halophila johnsonii', 85), ('Hamelia patens ', 8), ('Haplopappus canescens', 85), ('Haplopappus foliosus', 292), ('Haplophragma adenophyllum', 13), ('Haplophyllum bucharicum', 18), ('Haplophyllum buxbaumii', 18), ('Haplophyllum cappadocicum', 24), ('Haplophyllum dauricum', 18), ('Haplophyllum glabrinum', 39), ('Haplophyllum obtusifolium', 18), ('Haplophyllum patavinum', 172), ('Haplophyllum popovii', 18), ('Haplophyllum ptilostylum', 63), ('Haplophyllum spp.', 13), ('Haplophyllum tuberculatum', 24), ('Hardenbergia violacea', 243), ('Harpagophytum procumbens ', 182), ('Harpalyce brasiliana', 155), ('Harungana madagascariensis ', 270), ('Hebe parviflora', 177), ('Hedera helix ', 24), ('Hedyotis capitellata ', 8), ('Hedysarum multijugum', 155), ('Hedysarum sericeum', 269), ('Helianthus annuus', 173), ('Helianthus heterophyllus', 48), ('Helichrysum arenarium ', 65), ('Helichrysum bracteatum', 65), ('Helichrysum forskahlii ', 23), ('Helichrysum graveolen', 65), ('Helichrysum herbaceum ', 1), ('Helichrysum spp.', 67), ('Helicteres angustifolia ', 188), ('Helicteres isora', 64), ('Heliotropium arbainense', 12), ('Heliotropium curassavicum ', 12), ('Heliotropium europaeum ', 12), ('Heliotropium hirsutum', 12), ('Heliotropium lasiocarpum', 12), ('Heliotropium olgae', 12), ('Heliotropium pycnophyllum', 49), ('Hemidesmus indicus ', 203), ('Henriettella fascicularis', 155), ('Heracleum asperum', 57), ('Heracleum candicans', 42), ('Heracleum canescens', 48), ('Heracleum dissectum', 48), ('Heracleum granatense', 57), ('Heracleum lanatum', 96), ('Heracleum levskovii', 85), ('Heracleum moellendorffii', 57), ('Heracleum pinnatum', 48), ('Heracleum ponticum', 57), ('Heracleum pyrenaicum', 17), ('Heracleum rapula', 26), ('Heracleum sphondylium ', 57), ('Heracleum spp.', 57), ('Heracleum woroschiklowii', 57), ('Hernandia nymphaeifolia ', 40), ('Hernandia ovigera ', 40), ('Hesperis matronalis ', 61), ('Heterogaura heterandra', 177), ('Hibiscus mutabilis ', 177), ('Hibiscus sabdariffa', 207), ('Hibiscus syriacus ', 9), ('Hibiscus taiwanensis', 272), ('Hibiscus tiliaceus ', 11), ('Hippeastrum equestre', 59), ('Hippeastrum vittatum', 55), ('Hippomane mancinella ', 10), ('Hippophae mancinella', 10), ('Hippophae rhamnoides ', 317), ('Hoita macrostachya', 85), ('Houttuynia cordata ', 394), ('Houttuynia emeiensis', 40), ('Hovenia dulcis ', 43), ('Hugonia tomentosa', 26), ('Humulus japonicus', 108), ('Humulus lupulus ', 13), ('Huperzia selago', 98), ('Hydrangea chinensis', 30), ('Hydrastis canadensis ', 235), ('Hylomecon japonica', 46), ('Hymenocallis cayamansis', 10), ('Hymenocallis expansa', 8), ('Hymenocallis litroralis', 8), ('Hymenocallis littorale', 8), ('Hymenocallis littoralis ', 63), ('Hymenocallis sonorensis', 8), ('Hymenocallis speciosa', 8), ('Hymenocallis tubiflora ', 59), ('Hymenocallis x festalis', 55), ('Hymenodictyon excelsum ', 16), ('Hyoscyamus niger', 9), ('Hypecoum leptocarpum ', 35), ('Hypericum ascyron ', 271), ('Hypericum barbatum', 119), ('Hypericum calycinum', 2), ('Hypericum calycunum', 2), ('Hypericum curvisepalum', 119), ('Hypericum elodioides', 119), ('Hypericum faberi', 119), ('Hypericum forrestii', 119), ('Hypericum hirsutum', 197), ('Hypericum japonicum ', 269), ('Hypericum lancasteri', 119), ('Hypericum laricifolium', 158), ('Hypericum linarioides', 119), ('Hypericum maculatum', 119), ('Hypericum patulum', 120), ('Hypericum perforatum', 454), ('Hypericum rumeliacum', 119), ('Hypericum sampsonii ', 373), ('Hypericum scabrum ', 435), ('Hypericum subsessile', 119), ('Hypericum tetrapterum', 119), ('Hypericum thasium', 177), ('Hypericum wightianum', 119), ('Hypocalyptus sophoroides', 85), ('Hypochoeris cretensis', 14), ('Hypoestes purpurea ', 122), ('Hyptis tomentosa', 31), ('Hyptis verticillata ', 47), ('Hyssopus spp.', 14), ('Ilex chinensis ', 158), ('Ilex cornuta ', 233), ('Ilex latifolia ', 203), ('Ilex paraguariensis ', 37), ('Ilex paraguayensis', 30), ('Illigera luzonensis', 60), ('Indigofera tetrantha', 177), ('Intsia bijuga ', 147), ('Intsia palembanica', 85), ('Inula britannica ', 474), ('Inula grandis', 14), ('Inula helenium ', 14), ('Inula henium', 14), ('Inula japonica ', 14), ('Inula racemosa ', 14), ('Inula royleana', 14), ('Inula salicina ', 14), ('Ipomoea cairica ', 71), ('Ipomoea nil ', 122), ('Ipomoea njil', 122), ('Isatis tinctoria ', 125), ('Ismene calithina', 10), ('Isodon leucophyllus', 218), ('Isodon melissoides', 1), ('Isodon oresbia', 108), ('Isodon oresbius', 108), ('Ixeris chinensis ', 10), ('Jasminum lanceolarium ', 183), ('Jatropha curcas ', 4), ('Jatropha elliptica ', 3), ('Jatropha gossypiifolia', 3), ('Jatropha macrorhiza', 1), ('Jatropha multifida ', 12), ('Juglans mandshurica ', 125), ('Juglans regia ', 226), ('Juniperus bermudiana', 31), ('Juniperus chinensis ', 57), ('Juniperus communis ', 35), ('Juniperus formosana', 25), ('Juniperus lucayana', 43), ('Juniperus occidentalis', 44), ('Juniperus phoenicea', 86), ('Juniperus procera ', 31), ('Juniperus rigida', 68), ('Juniperus sabina', 49), ('Juniperus silicicola', 31), ('Juniperus spp.', 66), ('Juniperus thurifera', 86), ('Juniperus virginiana ', 26), ('Jurinea alata', 63), ('Justicia ciliata', 10), ('Justicia diffusa', 10), ('Justicia hayatai', 24), ('Justicia heterocarpa ', 21), ('Justicia neesii', 10), ('Justicia pectoralis ', 18), ('Justicia procumbens', 24), ('Kadsura heteroclita ', 70), ('Kadsura interior', 4), ('Kadsura japonica ', 3), ('Kalanchoe blossfeldiana', 177), ('Karwinskia spp.', 67), ('Kennedia coccinea', 243), ('Kennedia nigricans', 243), ('Kennedia procurrens', 243), ('Kennedia rubicunda', 243), ('Kerria japonica', 8), ('Kielmeyera coriacea', 14), ('Kigelia pinnata ', 11), ('Kunzea ambigua', 29), ('Kunzea ericoides', 85), ('Kyllinga brevifolia ', 108), ('Lablab purpureus ', 243), ('Laburnum anagyroides ', 243), ('Lactuca canadensis ', 10), ('Lactuca indica ', 275), ('Lactuca laciniata', 10), ('Lactuca sariola', 10), ('Lactuca sativa ', 10), ('Lactuca serriola ', 10), ('Lactuca virosa ', 10), ('Lagenaria indica', 125), ('Lagophylla glandulosa', 61), ('Lannea coromandelica ', 10), ('Lantana camara', 26), ('Lappula intermedia', 12), ('Larix decidua ', 211), ('Larix kaempferi', 8), ('Larix spp.', 108), ('Larrea spp.', 4), ('Larrea tridentata ', 4), ('Lasianthus gardneri', 203), ('Lathyrus aphaca ', 85), ('Lathyrus chrysanthus', 119), ('Lathyrus montanus ', 14), ('Lathyrus nissolia', 14), ('Lathyrus spp.', 254), ('Launaea arborescens', 203), ('Laurelia sempervirens', 38), ('Laurus nobilis', 108), ('Lens esculenta ', 136), ('Leontice albertii', 17), ('Leontodon autumnalis', 122), ('Lepidium draba', 3), ('Leptarrhena pyrolifolia', 292), ('Leptolaena diospyroidea', 313), ('Leptolaena pauciflora', 313), ('Leptothyrsa sprucei', 48), ('Lespedeza bicolor ', 565), ('Lespedeza capitata', 108), ('Lespedeza cuneata ', 108), ('Lespedeza cyrtobotrya', 309), ('Lespedeza davidii', 2), ('Lespedeza hedysaroides', 108), ('Lespedeza juncea', 342), ('Lespedeza spp.', 108), ('Lettowianthus stellatus', 60), ('Leucojium autumnale', 55), ('Leucojum aestivum', 59), ('Leucojum vernum', 55), ('Leucothoe grayana', 270), ('Levisticum officinale ', 283), ('Liatris cylindrica', 14), ('Liatris laevigata', 203), ('Libertia caerulescens', 7), ('Libocedrus bidwillii', 31), ('Libocedrus decurrens', 31), ('Libocedrus spp.', 31), ('Libocedrus yateensis', 15), ('Ligularia dentata', 203), ('Ligularia dentata Hara ', 203), ('Ligularia odontomanes', 203), ('Ligularia sagitta', 203), ('Ligusticum brachylobum ', 98), ('Ligusticum chuanxiong', 227), ('Ligusticum jeholense ', 115), ('Ligusticum multivittatum ', 154), ('Ligusticum scoticum ', 19), ('Ligusticum sinense', 115), ('Ligusticum spp.', 31), ('Ligustrum lucidum ', 23), ('Lilium brownii', 62), ('Lilium brownii var.viridulum ', 62), ('Limaciopsis loangensis', 38), ('Lindelofia spectabilis', 15), ('Lindelofia stylosa', 31), ('Lindera obtusiloba', 1), ('Linum album', 33), ('Linum austriacum', 18), ('Linum boissieri', 26), ('Linum catharticum ', 26), ('Linum flavum', 26), ('Linum mucronatum', 26), ('Linum usitatissimum ', 10), ('Lippia dulcis', 64), ('Lippia javanica ', 61), ('Lippia sidoides', 23), ('Liquidambar formosana ', 40), ('Liriodendron tulipifera ', 60), ('Lithospermum erythrorhizon ', 158), ('Litsea cubeba ', 14), ('Litsea glauca', 12), ('Lolium perenne ', 21), ('Lonicera confusa ', 122), ('Lonicera fulvotomentosa', 239), ('Lonicera hypoglauca ', 122), ('Lonicera implexa ', 122), ('Lonicera japonica ', 362), ('Lonicera similis', 239), ('Loranthus parasiticus', 203), ('Loropetalum chinense ', 238), ('Lotus corniculatus ', 269), ('Lotus japonicus', 410), ('Lotus maritimus', 85), ('Lupinus albus', 39), ('Lupinus arboreus', 342), ('Lupinus arcticus', 243), ('Lupinus elegans', 243), ('Lupinus luteus ', 445), ('Lupinus mutabilis', 243), ('Lupinus nanus', 243), ('Lupinus pilosus', 243), ('Lupinus sericeus', 342), ('Lupinus subcarnosus', 391), ('Lupinus texensis', 391), ('Luvunga sarmentosa', 203), ('Lychnis flos-cuculi', 108), ('Lycium chinense', 209), ('Lycopersicon esculentum', 32), ('Lycopersicon pimpinellifolium', 3), ('Lycopodium japonicum ', 98), ('Lycoris aurea ', 55), ('Lycoris longituba', 6), ('Lycoris radiata ', 63), ('Lycoris sanguinea', 59), ('Lygodium japonicum ', 66), ('Lyonia ovalifolia ', 12), ('Lysimachia christinae ', 177), ('Lysimachia mauritiana', 119), ('Lysimachia nummularia ', 177), ('Lythrum salicaria ', 269), ('Maackia amurensis ', 252), ('Macaranga barteri', 138), ('Macaranga conifera', 17), ('Macaranga triloba', 117), ('Macleaya cordata ', 144), ('Macleaya microcarpa', 35), ('Maclura tinctoria ', 113), ('Macrococculus pomiferus', 40), ('Macroptilium bracteatum', 243), ('Macroptilium lathyroides', 243), ('Macroptilium martii', 243), ('Magnolia abovata', 60), ('Magnolia biondii ', 113), ('Magnolia coco ', 60), ('Magnolia grandiflora ', 60), ('Magnolia liliflora ', 61), ('Magnolia obovata ', 60), ('Magnolia officinalis ', 40), ('Magnolia salicifolia ', 33), ('Mahonia aquifolium', 113), ('Mahonia bealei ', 113), ('Mahonia bodinieri', 113), ('Mahonia confusa', 113), ('Mahonia eurybracteata', 113), ('Mahonia fortunei ', 113), ('Mahonia gracilipes', 113), ('Mahonia japonica ', 135), ('Mahonia siamensis', 38), ('Mahonia spp.', 113), ('Mahonia veitchiorum', 113), ('Maize bran', 136), ('Mallotus furetianus ', 125), ('Malus doumeri', 115), ('Malus x domestica', 6), ('Malva silvestris ', 136), ('Mammea africana ', 22), ('Mammea americana', 19), ('Mammea harmandii ', 3), ('Mandragora autumnalis ', 179), ('Mangifera indica ', 143), ('Manilkara zapota', 125), ('Mansonia altissima', 4), ('Mansonia gagei', 4), ('Mappia foetida', 14), ('Marah oreganus', 177), ('Markhamia stipulata ', 13), ('Marrubium thessalum', 18), ('Marrubium trachyticum', 18), ('Marrubium velutinum', 201), ('Marsdenia cundurango ', 122), ('Marsypianthes chamaedrys ', 203), ('Matayba arborescens ', 9), ('Matricaria chamomilla ', 21), ('Matteuccia struthiopteris ', 122), ('Maytenus chiapensis', 104), ('Maytenus cinfertiflorus', 21), ('Maytenus cuzcoina', 230), ('Maytenus heterophylla ', 5), ('Meconopsis cambrica', 14), ('Medicago arabica', 85), ('Medicago blancheana', 85), ('Medicago cancellata', 85), ('Medicago cretacea', 85), ('Medicago doliata', 85), ('Medicago falcata', 85), ('Medicago glomerata', 85), ('Medicago hybrida', 85), ('Medicago intertexta', 85), ('Medicago laciniata', 85), ('Medicago lupulina ', 85), ('Medicago medicaginoides', 108), ('Medicago monantha', 97), ('Medicago monspeliaca', 85), ('Medicago murex', 85), ('Medicago orbicularis ', 85), ('Medicago polyceratia', 85), ('Medicago polymorpha ', 190), ('Medicago radiata', 103), ('Medicago rotata', 103), ('Medicago sativa ', 537), ('Medicago scutellata ', 85), ('Medicago spp.', 73), ('Medicago truncatula', 185), ('Melaleuca ericifolia', 183), ('Melaleuca leucadendron ', 174), ('Melastoma intermedium', 125), ('Melia azedarach ', 21), ('Melicope leptococca', 13), ('Melicope micrococca', 177), ('Melicope semecarpifolia', 18), ('Melicope spp.', 13), ('Melilotus alba ', 30), ('Melilotus italica', 85), ('Melilotus messanensis', 197), ('Melilotus officinalis ', 243), ('Melilotus suaveolens ', 16), ('Melilotus sulcatus', 85), ('Melilotus wolgicus', 85), ('Melissa officinalis ', 31), ('Mentha aquatica', 8), ('Mentha haplocalyx ', 212), ('Mentha longifolia ', 55), ('Mentha piperita', 286), ('Mentha pulegium ', 41), ('Mentha spicata ', 15), ('Mentha spp. ', 21), ('Menyanthes trifoliata', 140), ('Merrillia caloxylon', 41), ('Merrilliodendron megacarpum', 14), ('Mesua ferrea', 23), ('Mesua racemosa', 3), ('Mesua salicina', 17), ('Mesua thwaitesii', 17), ('Metasequoia glyptostroboides', 51), ('Michelia compressa', 2), ('Miconia cabucu', 125), ('Miconia myriantha', 138), ('Micranthemum umbrosum', 26), ('Micromeria albanica', 65), ('Mikania hirsutissima ', 49), ('Miliusa cuneata', 60), ('Miliusa velutina ', 60), ('Millettia brandisiana', 65), ('Millettia dielsiana ', 243), ('Millettia pinnata', 1), ('Millettia racemosa ', 95), ('Millettia usaramensis', 45), ('Millettia zechiana', 177), ('Mimosa hostilis ', 65), ('Mimulus moschatus', 49), ('Mitragyna hirsuta', 12), ('Mitrephora glabra', 60), ('Mollinedia marliae', 21), ('Momordica charantia', 12), ('Montezuma speciosissima', 8), ('Morinda citrifolia', 30), ('Morinda parvifolia', 10), ('Morinda umbellata ', 7), ('Morus alba ', 575), ('Morus australis ', 159), ('Morus cathayana', 2), ('Morus insignis', 180), ('Morus mongolica ', 5), ('Morus serrata ', 10), ('Morus spp.', 5), ('Morus tinctoria', 10), ('Mosla chinensis', 61), ('Mosla dianthera ', 40), ('Mosla scabra', 2), ('Mostuea brunonis', 14), ('Mucuna pruriens ', 243), ('Muehlenbeckia tamnifolia ', 62), ('Muntingia calabura ', 45), ('Murraya paniculata ', 178), ('Murraya siamensis', 4), ('Myodocarpus gracilis', 31), ('Myrciaria cauliflora ', 29), ('Myrica nagi ', 95), ('Myrica rubra ', 407), ('Myristica fragrans ', 78), ('Myrsine africana ', 64), ('Myrtus communis ', 39), ('Nandina domestica ', 113), ('Nandina spp.', 113), ('Naravelia zeylandica', 113), ('Narcissus bujei', 10), ('Narcissus folli', 55), ('Narcissus poeticus', 55), ('Narcissus pseudonarcissus', 59), ('Narcissus spp', 6), ('Narcissus tazetta', 120), ('Narcissus tortuous', 55), ('Nectandra membranacea', 14), ('Nectandra polita', 13), ('Nectandra salicifolia', 14), ('Nelumbo nucifera ', 328), ('Neolitsea acuminatissima', 75), ('Neolitsea konishii', 14), ('Neonotonia wightii', 243), ('Neorautanenia amboensis', 243), ('Nepenthes insignis', 27), ('Nepeta cadmea', 31), ('Nepeta cataria ', 61), ('Nepeta pungens', 18), ('Nepeta saturejoides', 18), ('Nerium oleander ', 155), ('Newbouldia laevis ', 11), ('Nicotiana bonariensis', 61), ('Nicotiana tabacum', 129), ('Nigella sativa', 19), ('Niphogeton ternata ', 65), ('Nothapodytes foetida', 14), ('Nothapodytes nimmoniana', 14), ('Nothofagus antarctica', 85), ('Nothofagus dombeyi ', 43), ('Notholirion hyacinthinum', 136), ('Notopterygium forbesii ', 40), ('Notopterygium incisum ', 168), ('Nuxia sphaerocephala ', 223), ('Nyctanthes arbor-tristis', 209), ('Nymphaea caerulea', 405), ('Nymphaea odorata ', 85), ('Ochna obtusata', 177), ('Ochrocarpos punctatus', 1), ('Ocimum americanum', 51), ('Ocimum basilicum ', 383), ('Ocimum spp.', 79), ('Ocotea glaziovii', 14), ('Ocotea pretiosa', 13), ('Ocotea puberula', 4), ('Oenanthe crocata ', 18), ('Oenanthe javanica ', 31), ('Olea europaea ', 155), ('Oncodostigma monosperma', 60), ('Onobrychis amoena', 177), ('Onobrychis angustifolia', 108), ('Onobrychis arenaria', 158), ('Onobrychis bobrovi', 119), ('Onobrychis chlorassanica', 177), ('Onobrychis echidna', 177), ('Onobrychis ferganica', 177), ('Onobrychis grandis', 177), ('Onobrychis seravschanica', 177), ('Onobrychis vassiltschenkoi', 119), ('Onobrychis viciifolia', 45), ('Ononis leiosperma', 119), ('Ononis spinosa ', 342), ('Ononis vaginalis', 74), ('Onopordum acanthium ', 445), ('Onopordum acaule', 63), ('Onopordum alexandrinum', 63), ('Onopordum illyricum', 63), ('Onoseris alata', 21), ('Ophiorrhiza filistipula', 14), ('Ophiorrhiza liukiuensis', 243), ('Ophiorrhiza mungos ', 14), ('Ophiorrhiza pumila', 14), ('Ophiorrhiza rugosa', 14), ('Opopanax chironicum', 142), ('Opuntia dellenii', 98), ('Opuntia ficus-indica', 137), ('Orbexilum pedunculatum', 85), ('Oricia gabonensis', 203), ('Oricia suaveolens', 215), ('Origanum majorana ', 61), ('Origanum vulgare ', 22), ('Orixa japonica', 66), ('Orixa spp.', 13), ('Ormosia monosperma', 243), ('Oroxylum indicum ', 86), ('Orthosiphon aristatus ', 41), ('Orthosiphon stamineus ', 382), ('Oryza sativa', 245), ('Otholobium bolusii', 322), ('Otholobium bracteolatum', 243), ('Otholobium candicans', 322), ('Otholobium foliosum', 85), ('Otholobium hirtum', 322), ('Otholobium obliquum', 85), ('Otholobium parviflorum', 85), ('Otholobium sericeum', 85), ('Otholobium spicatum', 243), ('Otholobium stachyerum', 85), ('Otholobium striatum', 243), ('Otholobium uncinatum', 243), ('Otholobium wilmsii', 243), ('Otholobium zeyheri', 85), ('Ouratea sulcata ', 44), ('Oxytropis glabra', 24), ('Oxytropis pseudoglandulosa', 94), ('Ozothamnus lycopodioides', 19), ('Pachygone ovata', 14), ('Paeonia albiflora ', 125), ('Paeonia emodi ', 125), ('Paeonia mouton', 125), ('Paeonia suffruticosa ', 155), ('Pajanelia multijuga', 49), ('Panax ginseng', 20), ('Panax notoginseng ', 20), ('Panax pseudo-ginseng', 20), ('Panax quinquefolium ', 20), ('Panax quinquefolius', 6), ('Panax vietnamensis', 20), ('Pancratinum maritimum', 55), ('Pancratium biflorum', 20), ('Pancratium canariense', 55), ('Pancratium foetidum', 59), ('Pancratium littorale', 8), ('Pancratium maritimum', 100), ('Pancratium sickenbergeri', 55), ('Pandanus tectorius ', 40), ('Papaver albiflora', 113), ('Papaver bracteatum ', 126), ('Papaver caucasicum', 60), ('Papaver commutatum', 35), ('Papaver confine', 113), ('Papaver nudicaule', 16), ('Papaver pinnatifidum', 113), ('Papaver radicatum', 113), ('Papaver rhoeas chelidonides ', 113), ('Papaver rhopalothece', 113), ('Papaver somniferum ', 271), ('Parageum montanum', 119), ('Paratecoma peroba', 125), ('Parkinsonia aculeata ', 108), ('Parthenium incanum', 61), ('Parthenium spp.', 21), ('Passiflora caerulea ', 174), ('Passiflora edulis ', 12), ('Passiflora serratodigitata', 156), ('Pastinaca satica', 18), ('Pastinaca sativa ', 81), ('Pastinaca spp.', 48), ('Patersonia spp.', 154), ('Paullinia cupana ', 37), ('Paullinia trifoliata', 30), ('Pedilanthus tithymaloides ', 376), ('Pediomelum subacaule', 85), ('Pelargonium graveolens ', 26), ('Pelargonium reniforme ', 314), ('Pellia barbigera', 6), ('Pellia epiphylla', 280), ('Peltophorum africanum ', 454), ('Pennisetum americanum ', 108), ('Pentaceras australis', 14), ('Peperomia duclouxii', 21), ('Peperomia sui', 233), ('Pera ferruginea', 27), ('Pericopsis angolensis', 38), ('Pericopsis eleta', 38), ('Pericopsis laxiflora', 262), ('Pericopsis mooniana', 38), ('Perilla frutescens', 282), ('Periploca aphylla ', 203), ('Periploca graeca ', 98), ('Perriera madagascariensis', 5), ('Petasites formosanus ', 299), ('Petroselinum crispum ', 142), ('Petroselinum spp.', 9), ('Peucedanum dhana', 48), ('Peucedanum grande ', 17), ('Peucedanum ostruthium ', 48), ('Peucedanum paniculatum', 9), ('Peucedanum praeruptorum ', 210), ('Peucedanum rubricaule', 70), ('Peucedanum stenocarpum', 17), ('Peucedanum terebinthaceum', 26), ('Pharbitis nil ', 271), ('Phaseolus coccineus ', 275), ('Phaseolus lunatus ', 257), ('Phaseolus spp.', 62), ('Phaseolus vulgaris ', 407), ('Phebalium argenteum', 85), ('Phebalium clavatum', 94), ('Phellodendron amurense', 566), ('Phellodendron chinense ', 113), ('Phellodendron japonicum', 267), ('Phellodendron wilsonii', 113), ('Phillyrea latifolia', 230), ('Phleum pratense ', 98), ('Phlogacanthus curviflorus', 230), ('Phlomis brunneogaleata', 122), ('Phlomis caucasica ', 65), ('Phlomis spinidens', 177), ('Phlomis tuberosa', 158), ('Phoenix hanceana', 177), ('Phyllanthus acuminatus', 18), ('Phyllanthus anisolobus', 18), ('Phyllanthus emblica ', 625), ('Phyllanthus flexuosus', 230), ('Phyllanthus myrtifolius', 24), ('Phyllanthus niruri ', 337), ('Phyllanthus oligospermus', 10), ('Phyllanthus piscatorum', 18), ('Phyllanthus reticulatus ', 155), ('Phyllanthus urinaria ', 184), ('Phyllarthron comorense ', 5), ('Phyllogeiton zeyheri', 43), ('Phyllostachys edulis', 140), ('Phyllostachys heterocycla', 15), ('Physalis alkekengi', 177), ('Physocarpus capitatus', 151), ('Phytolacca americana ', 23), ('Picea ajanensis', 146), ('Picea glehnii', 10), ('Picea koraiensis', 10), ('Picea obovata', 136), ('Picea schrenkiana', 26), ('Picramnia antidesma ', 77), ('Picramnia teapensis', 62), ('Picramnia teapensis Tul.', 62), ('Picrasma crenata', 14), ('Picrasma quassioides', 14), ('Picris hieracioides', 10), ('Picrorhiza kurrooa ', 98), ('Picrorhiza scrophulariiflora ', 98), ('Pieris japonica', 270), ('Pierreodendron kerstingii', 5), ('Pimenta dioica ', 360), ('Pimpinella anisum ', 9), ('Pinus aristata', 49), ('Pinus bungeana ', 40), ('Pinus contorta ', 10), ('Pinus excelsa ', 49), ('Pinus grandis', 10), ('Pinus koraiensis ', 40), ('Pinus laricio', 98), ('Pinus massoniana', 10), ('Pinus monticola', 49), ('Pinus palustris ', 7), ('Pinus resinosa', 9), ('Pinus spp. ', 49), ('Pinus sylvestris ', 21), ('Piper aduncum ', 19), ('Piper betle ', 61), ('Piper crassinervium Kunth', 65), ('Piper cubeba', 17), ('Piper fimbriulatum', 26), ('Piper kadsura ', 30), ('Piper lhotzkyanum', 21), ('Piper longum ', 9), ('Piper nigrum', 9), ('Piper pedicellosum', 9), ('Piper regnellii ', 19), ('Piper retrofractum ', 9), ('Piper sanctum', 13), ('Piper sarmentosum ', 9), ('Piper solmsianum', 19), ('Piper taiwanense', 61), ('Piper tuberculatum', 9), ('Piper umbellatum ', 226), ('Piptadenia macrocarpa', 203), ('Piptanthus nepalensis', 262), ('Piptocarpha paradoxa', 203), ('Piptostigma fugax', 60), ('Pistacia chinensis ', 125), ('Pistacia weinmannifolia', 132), ('Pisum sativum ', 292), ('Pitcairnia rubiflora', 177), ('Plantago bellardi', 122), ('Plantago cretica', 122), ('Plantago lanceolata ', 245), ('Plantago major', 358), ('Plantago media ', 255), ('Platanus acerifolia', 5), ('Platanus occidentalis', 155), ('Platanus vulgaris', 43), ('Platycarya strobilacea', 138), ('Platycladus orientalis ', 4), ('Platycodon grandiflorum ', 104), ('Plectranthus ecklonii', 25), ('Plectranthus fruticosus ', 25), ('Plectranthus marrubioides', 61), ('Pleurospermum rivulorum', 70), ('Plinia pinnata', 85), ('Plumbagella micrantha', 27), ('Plumbago europaea ', 27), ('Plumbago indica ', 27), ('Plumbago zeylanica', 29), ('Plumeria obtusa ', 155), ('Podocarpus amarus', 38), ('Podocarpus fasciculus', 348), ('Podocarpus ferrugineus ', 25), ('Podocarpus hallii', 10), ('Podocarpus macrophyllus ', 10), ('Podocarpus montanus', 44), ('Podocarpus nagai', 10), ('Podocarpus nagi ', 10), ('Podocarpus nivalis', 10), ('Podocarpus nubigenus', 10), ('Podocarpus odocarpus', 10), ('Podocarpus purdieana', 10), ('Podocarpus sellowii', 10), ('Podocarpus spp.', 86), ('Podophyllum emodi ', 26), ('Podophyllum emodi Wall ', 26), ('Podophyllum emodii', 42), ('Podophyllum hexandrum ', 54), ('Podophyllum peltatum', 54), ('Podophyllum pleianthum', 26), ('Pogostemon cablin ', 61), ('Polyalthia insignis', 60), ('Polyalthia longifolia ', 60), ('Polyalthia macropoda', 60), ('Polyalthia stenopetala', 60), ('Polygala chinensis ', 63), ('Polygala macradenia', 2), ('Polygala paena', 2), ('Polygala polygama', 33), ('Polygonatum zanlanscianense', 13), ('Polygonum aviculare ', 345), ('Polygonum bistorta ', 238), ('Polygonum cuspidatum ', 431), ('Polygonum minus', 21), ('Polygonum multiflorum ', 182), ('Polygonum orientale ', 63), ('Polygonum perfoliatum ', 62), ('Polygonum persicaria ', 177), ('Polygonum polystachyum', 177), ('Polymnia fruticosa', 65), ('Polypodium vulgare ', 122), ('Poncirus trifoliata', 104), ('Pongamia pinnata', 271), ('Populus alba', 49), ('Populus bejingensis', 49), ('Populus canadensis', 49), ('Populus davidiana', 49), ('Populus pseudosimonii', 288), ('Populus spp.', 49), ('Populus tomentosa', 49), ('Populus tremula', 203), ('Populus xiaohei', 49), ('Porcelia macrocarpa', 236), ('Posidonia oceanica ', 340), ('Potamogeton perfoliatus ', 33), ('Potentilla chinense', 125), ('Prangos bucharica', 69), ('Prangos latiloba', 26), ('Prangos pabularia ', 69), ('Prionosciadium thapsoides', 85), ('Prosopis alba ', 108), ('Prosopis argentina', 108), ('Prosopis chilensis ', 108), ('Prosopis fiebrigii', 108), ('Prosopis hassleri', 108), ('Prosopis juliflora', 10), ('Prosopis kuntzei ', 108), ('Prosopis nigra ', 108), ('Prosopis reptans', 190), ('Prosopis ruscifolia ', 108), ('Prosopis spp.', 108), ('Prosopis strombulifera ', 108), ('Prosopis vinalillo ', 108), ('Protea mellifera ', 9), ('Prunella vulgaris ', 119), ('Prunus amygdalus ', 43), ('Prunus armeniaca', 26), ('Prunus avium ', 317), ('Prunus cerasus ', 603), ('Prunus davidiana ', 100), ('Prunus mume ', 204), ('Prunus persica ', 107), ('Prunus serotina ', 66), ('Prunus spp. ', 275), ('Prunus yedoensis', 65), ('Pseudeminia comosa', 243), ('Pseudoeriosema borianii', 243), ('Pseudolarix amabilis', 85), ('Pseudolarix kaempferi', 125), ('Pseudotsuga wilsoniana', 112), ('Pseudovigna argentea ', 243), ('Psidium guajava ', 462), ('Psilotum triquetrum ', 44), ('Psittacanthus cucullaris', 125), ('Psoralea aculeata', 243), ('Psoralea affinis', 85), ('Psoralea arborea', 322), ('Psoralea axillaris', 243), ('Psoralea cinerea', 85), ('Psoralea coryfolia', 85), ('Psoralea corylifolia ', 96), ('Psoralea effusa', 322), ('Psoralea exile', 85), ('Psoralea fascicularis', 322), ('Psoralea glabra', 85), ('Psoralea lachnostachys', 85), ('Psoralea laxa', 243), ('Psoralea leucantha', 85), ('Psoralea martinii', 85), ('Psoralea oligophylla', 243), ('Psoralea oreopolum', 85), ('Psoralea papillosa', 85), ('Psoralea pinnata', 85), ('Psoralea plumosa', 85), ('Psoralea pullata', 85), ('Psoralea pustulata', 85), ('Psoralea ramulosa', 85), ('Psoralea repens', 322), ('Psoralea speciosa', 85), ('Psoralea verrucosa', 85), ('Psorospermum androsaemifolium ', 67), ('Psorospermum febrifugum ', 1), ('Psorospermum glaberrimum', 217), ('Psorothamnus arborescens', 45), ('Psychotria adenophylla ', 155), ('Psychotria burucana', 6), ('Psychotria ipecacuanha ', 6), ('Psychotria klugii', 6), ('Ptelea trifolia', 48), ('Pteleopsis hylodendron ', 203), ('Pteridium aquilinum ', 177), ('Pteris multifida ', 158), ('Pterocarpus angolensis ', 243), ('Pterocarpus marsupium ', 103), ('Pterocarpus santalinus ', 273), ('Pterocaulon virgatum ', 239), ('Pueraria Phaseoloides', 413), ('Pueraria calycina', 38), ('Pueraria edulis', 38), ('Pueraria lobata ', 257), ('Pueraria mirifica ', 275), ('Pueraria montana', 257), ('Pueraria peduncularis', 38), ('Pueraria thunbergiana ', 38), ('Pulicaria paludosa', 18), ('Pulsatilla chinensis ', 23), ('Pulsatilla koreana', 31), ('Punica granatum', 632), ('Putranjiva roxburghii ', 44), ('Pycnarrhena australiana', 38), ('Pycnarrhena manillensis', 38), ('Pyrenacantha klaineana', 14), ('Pyrola atropurpurea', 119), ('Pyrola calliantha ', 235), ('Pyrola decorata ', 269), ('Pyrola elliptica', 269), ('Pyrola japonica ', 119), ('Pyrola spp.', 177), ('Pyrrosia davidii ', 122), ('Pyrrosia drakeana', 122), ('Pyrrosia gralla', 122), ('Pyrrosia lingua ', 275), ('Pyrrosia petiolosa ', 122), ('Pyrrosia pseudocalvata', 122), ('Pyrrosia sheareri', 239), ('Pyrus bourgaeana ', 39), ('Pyrus communis', 9), ('Pyrus malus ', 8), ('Quassia simarouba', 5), ('Quassia undulata', 5), ('Quercus infectoria ', 188), ('Quercus myrsenaefolia', 203), ('Quercus stenophylla', 203), ('Quintinia serrata', 12), ('Rabdosia rubescens ', 41), ('Ranunculus baudotii', 255), ('Ranunculus serbicus', 113), ('Raphanus sativus ', 98), ('Rauvolfia vomitoria ', 15), ('Reseda muricata', 307), ('Retama monosperma', 243), ('Retama raetam ', 262), ('Rhamnus alaternus ', 26), ('Rhamnus davurica', 77), ('Rhamnus disperma', 119), ('Rhamnus frangula ', 62), ('Rhamnus nepalensis', 62), ('Rhamnus pallasii', 43), ('Rhamnus purshiana ', 26), ('Rhamnus purshianus', 26), ('Rhaponticum carthamoides ', 441), ('Rheedia gardneriana ', 17), ('Rheum emodi ', 197), ('Rheum hotaoense', 125), ('Rheum officinale ', 197), ('Rheum palmatum ', 204), ('Rheum spp.', 77), ('Rheum tanguticum ', 197), ('Rheum undulatum ', 26), ('Rheum wittrocki', 62), ('Rhinacanthus nasutus ', 203), ('Rhodiola crenulata', 170), ('Rhodiola rosea ', 26), ('Rhodiola sachalinensis ', 326), ('Rhodiola sacra', 170), ('Rhododendron anthopogonoides', 157), ('Rhododendron arboreum ', 155), ('Rhododendron collettianum', 9), ('Rhododendron dauricum ', 119), ('Rhododendron ferrugineum ', 119), ('Rhododendron micranthum', 119), ('Rhododendron mucronatum', 85), ('Rhododendron spp.', 43), ('Rhodomyrtus tomentosa ', 203), ('Rhus chinensis ', 125), ('Rhus coriaria ', 132), ('Rhus parviflora ', 85), ('Rhus semialata ', 125), ('Rhus succedanea ', 44), ('Rhus typhina ', 125), ('Rhus wallichi', 304), ('Rhynchosia beddomei', 166), ('Rhynchosia cana', 108), ('Rhynchosia capitata', 108), ('Rhynchosia caribaea', 243), ('Rhynchosia densiflora', 243), ('Rhynchosia heynei', 108), ('Rhynchosia hirsuta', 243), ('Rhynchosia jacobii', 108), ('Rhynchosia minima ', 108), ('Rhynchosia phaseoloides', 243), ('Rhynchosia pyramidalis', 243), ('Rhynchosia rufescens', 108), ('Rhynchosia suaveolens', 108), ('Riccardia multifida ', 61), ('Robinia paeudoacacia', 45), ('Robinsonia gracilis', 39), ('Rodgersia podophylla ', 226), ('Rollinia bahiensis', 39), ('Rollinia dolabripetala', 177), ('Rollinia mucosa', 6), ('Rollinia muricata', 1), ('Rosa canina ', 12), ('Rosa chinensis ', 125), ('Rosa damascena ', 26), ('Rosa foetida', 33), ('Rosa gallica ', 26), ('Rosa rugosa ', 370), ('Rosmarinus officinalis', 212), ('Rubia cordifolia', 41), ('Rubia schumannia', 2), ('Rubia tinctorum', 7), ('Rubia wallichiana', 10), ('Rubia yunnanensis', 16), ('Rubus idaeus', 29), ('Rumex acetosa ', 62), ('Rumex crispus ', 62), ('Rumex dentatus ', 77), ('Rumex japonicus ', 62), ('Rumex nepalensis ', 62), ('Rumex patientia ', 140), ('Rumex spp.', 62), ('Ruta chalepensis', 116), ('Ruta graveolens', 116), ('Ruta pinnata', 17), ('Salacia campestris', 7), ('Salacia kraussii ', 7), ('Salacia prinoides ', 17), ('Salix caprea ', 43), ('Salix spp.', 44), ('Salix viminalis ', 201), ('Salsola kali', 39), ('Salvia albimaculata', 239), ('Salvia amplexicaulis', 47), ('Salvia argentea ', 25), ('Salvia blepharochaena', 25), ('Salvia blepharophylla', 275), ('Salvia bowleyana', 178), ('Salvia bracteata', 25), ('Salvia caespitosa', 25), ('Salvia calycina', 158), ('Salvia cavaleriei', 206), ('Salvia ceratophylla', 25), ('Salvia chinensis', 178), ('Salvia columbariae ', 25), ('Salvia cyanescens', 18), ('Salvia dominica', 41), ('Salvia dorrii', 91), ('Salvia eriophora', 25), ('Salvia flava ', 31), ('Salvia horminum ', 239), ('Salvia hypoleuca', 18), ('Salvia lavandulifolia ', 229), ('Salvia limbata', 158), ('Salvia macrosiphon', 64), ('Salvia miltiorrhiza ', 213), ('Salvia mirzayana', 25), ('Salvia mirzayani', 41), ('Salvia multicaulis ', 25), ('Salvia nicolsoniana', 180), ('Salvia officinalis', 555), ('Salvia palaestina', 25), ('Salvia pinnata', 177), ('Salvia plebeia ', 158), ('Salvia prionitis ', 33), ('Salvia przewalskii ', 25), ('Salvia recognita', 25), ('Salvia sapinae', 25), ('Salvia sonchifolia', 178), ('Salvia staminea', 48), ('Salvia stenophylla ', 18), ('Salvia syriaca', 80), ('Salvia tomentosa', 64), ('Salvia trijuga', 25), ('Salvia triloba ', 239), ('Salvia verbenaca ', 25), ('Salvia viridis', 26), ('Salvia yunnanensis ', 31), ('Salvinia molesta', 158), ('Sambucus williamsii ', 104), ('Sanguisorba officinalis ', 235), ('Sanicula europaea ', 178), ('Sanicula spp.', 31), ('Santalum album ', 26), ('Sapium haematospermum ', 177), ('Sapium sebiferum ', 135), ('Saposhnikovia divaricata', 132), ('Sapranthus palanga', 60), ('Sarcocapnos baetica', 16), ('Sarcocapnos enneaphylla', 16), ('Sarcocapnos saetabensis', 16), ('Sargentodoxa cuneata ', 182), ('Sassafras randaiense', 61), ('Sassafras randainense', 61), ('Sassafras tzumu', 61), ('Satureja montana ', 15), ('Saururus chinensis ', 269), ('Saussurea candicans', 63), ('Saussurea gossypiphora ', 63), ('Saussurea hieracioides', 63), ('Saussurea lappa', 244), ('Saussurea medusa ', 286), ('Saxifraga azizoon', 148), ('Saxifraga spp.', 39), ('Saxifraga stellaris', 119), ('Saxifraga stolonifera', 26), ('Schefflera arboricola ', 18), ('Schinus terebinthifolius ', 3), ('Schisandra chinensis ', 68), ('Schisandra propinqua', 3), ('Schisandra rubriflora', 1), ('Schizonepeta tenuifolia ', 40), ('Schleichera oleosa ', 286), ('Scoparia dulcis', 270), ('Scorzonera cretica', 203), ('Scorzonera divaricata ', 122), ('Scrophularia buergeriana ', 255), ('Scurrula atropurpurea', 30), ('Scutellaria albida', 158), ('Scutellaria amoena', 58), ('Scutellaria baicalensis ', 60), ('Scutellaria discolor ', 49), ('Scutellaria hypericifolia', 12), ('Scutellaria lateriflora ', 14), ('Scutellaria oreophila', 60), ('Scutellaria orientalis ', 49), ('Scutellaria rehderiana ', 12), ('Scutellaria scordifolia', 12), ('Scutellaria spp.', 6), ('Scutellaria strigillosa', 49), ('Scutellaria viscidula ', 12), ('Sebastiania schottiana', 10), ('Securidaca inappendiculata', 243), ('Securigera cretica', 85), ('Securigera orientalis', 85), ('Sedum acre ', 201), ('Sedum takesimense', 464), ('Semecarpus vitiensis', 199), ('Senecio burtonii', 23), ('Senecio chionophilus', 203), ('Senecio cymosus', 119), ('Senecio nemorensis', 122), ('Senecio oryzetorum', 12), ('Senecio otiles', 119), ('Senecio yegua', 119), ('Senna alata ', 62), ('Senna alexandrina ', 62), ('Senna angustisiliqua', 62), ('Senna auriculata', 62), ('Senna didymobotrya ', 62), ('Senna obliqua', 6), ('Senna obtusifolia ', 62), ('Senna occidentalis ', 62), ('Senna podocarpa ', 62), ('Senna quinquangulata ', 6), ('Senna septemtrionalis', 62), ('Senna sophera ', 62), ('Senna tora ', 66), ('Sequoiadendron giganteum', 44), ('Serratula quinquefolia', 63), ('Serratula radiata', 63), ('Sesbania drummondii', 18), ('Seseli tortuosum', 48), ('Seseli webbii', 57), ('Seseli yunnanense', 48), ('Sideritis angustifolia', 41), ('Sideritis argosphacelus', 203), ('Sideritis baicalensis', 12), ('Sideritis candicans', 207), ('Sideritis catillaris', 239), ('Sideritis discolor', 8), ('Sideritis jahandiezii', 15), ('Sideritis kuegleriana', 23), ('Sideritis mugronensis', 15), ('Sideritis soluta', 45), ('Silene brahuica', 108), ('Silene multijida', 108), ('Silene repens', 108), ('Silene supina', 108), ('Silene turgida', 108), ('Silphium perfoliatum', 226), ('Simaba multiflora ', 9), ('Sinoadina racemosa', 230), ('Sinocrassula indica ', 226), ('Sinodielsia yunnanensis ', 18), ('Sinomenium diversifolium', 38), ('Sinopodophyllum emodi', 49), ('Sinopodophyllum hexandrum', 54), ('Siparuna tonduziana', 60), ('Siphonostegia chinensis ', 82), ('Sisyrinchium spp.', 27), ('Smilax bockii', 12), ('Smilax bracteata ', 179), ('Smilax china ', 21), ('Smilax glabra ', 12), ('Smilax riparia ', 67), ('Solanum chacoense', 8), ('Solanum demissum', 3), ('Solanum habrochaites', 239), ('Solanum indicum ', 12), ('Solanum kieseritzkii', 3), ('Solanum lycopersicum ', 239), ('Solanum neorickii', 239), ('Solanum parviflorum', 239), ('Solanum pennellii', 239), ('Solanum pimpinellifollium', 239), ('Solanum tuberosum', 327), ('Solidago altissima', 388), ('Solidago canadensis ', 183), ('Solidago virgaurea', 158), ('Sonchus arvensis ', 203), ('Sophora alopecuroides', 28), ('Sophora angustifolia', 2), ('Sophora chrysophylla', 17), ('Sophora davidii', 18), ('Sophora flavescens', 30), ('Sophora griffithii Stocks.', 17), ('Sophora gypsophila', 45), ('Sophora japonica', 493), ('Sophora leachiana', 3), ('Sophora macrophylla', 17), ('Sophora moorcroftiana ', 12), ('Sophora pachycarpa', 17), ('Sophora secundiflora ', 252), ('Sophora subprostate', 17), ('Sophora subprostrata ', 476), ('Sophora substrata', 203), ('Sophora tetraptera ', 17), ('Sophora tomentosa ', 56), ('Sophora tonkinensis', 17), ('Sophora viciifolia', 17), ('Sorbus aucuparia ', 6), ('Sorbus commixta ', 177), ('Sorbus decora ', 6), ('Soulamea soulameoides', 9), ('Soymida febrifuga ', 85), ('Sparaxis spp.', 27), ('Sparganium stoloniferum', 143), ('Spartium junceum ', 309), ('Spatholobus suberectus', 48), ('Spinacia oleracea ', 30), ('Spiraea formosana ', 369), ('Sprekelia formosissima', 59), ('Stachys scardica', 108), ('Stachytarpheta jamaicensis ', 122), ('Stauntonia hexahylla', 270), ('Stauntonia obovatifoliola', 124), ('Stauranthus perforatus ', 9), ('Stemodia foliosa', 270), ('Stenocereus eruca', 155), ('Stenochlaena palustris', 33), ('Stephania brachyandra', 8), ('Stephania cepharantha', 150), ('Stephania delavayi', 39), ('Stephania delavayi Diels ', 8), ('Stephania dicentrinifera', 45), ('Stephania dielsiana', 38), ('Stephania dinklagei', 60), ('Stephania elegans', 38), ('Stephania epigaea', 8), ('Stephania erecta', 39), ('Stephania hainanensis ', 38), ('Stephania kuinanensis', 8), ('Stephania mashanica', 8), ('Stephania pierii', 38), ('Stephania pierrei', 45), ('Stephania sasakii', 3), ('Stephania tetrandra ', 113), ('Stereospermum suaveolens ', 11), ('Stereospermum zenkeri', 66), ('Sternbergia lutea', 55), ('Streptocarpus dunnii', 8), ('Striga asiatica ', 15), ('Strobilanthes cusia', 203), ('Strongylodon macrobotrys', 243), ('Struthiola argentea', 44), ('Strychnos colubrina ', 122), ('Strychnos lucida ', 122), ('Strychnos nux-vomica', 122), ('Strychnos potatorum ', 203), ('Strychnos spinosa ', 269), ('Stryphnodendron adstringens ', 17), ('Stylophorum diphyllum', 46), ('Stylophorum lasiocarpum', 153), ('Styphnolobium japonicum ', 67), ('Swartzia polyphylla', 65), ('Symphonia globulifera ', 1), ('Symphonia spp.', 9), ('Symphoricarpos albus', 16), ('Symphytum asperum', 12), ('Symphytum caucasicum', 12), ('Symphytum officinale ', 43), ('Symphytum officinalis', 12), ('Syringa oblata', 66), ('Syzygium aromaticum ', 171), ('Syzygium cordatum ', 125), ('Syzygium cumini ', 423), ('Syzygium formosanum', 302), ('Syzygium samarangense', 85), ('Syzygium spp.', 17), ('Tabebuia avellanedae ', 5), ('Tabebuia guayacan', 13), ('Tabebuia rosea ', 11), ('Tabernaemontana heyneana ', 14), ('Tagetes ercta', 13), ('Tagetes erecta ', 34), ('Taiwania cryptomerioides', 96), ('Taiwania spp.', 12), ('Takakia spp.', 177), ('Talauma gitigensis', 60), ('Talauma mexicana', 60), ('Tamarindus indica ', 108), ('Tamarix chinensis ', 125), ('Tamarix nilotica', 125), ('Tanacetum polycephalum', 21), ('Tanacetum santolinioides', 41), ('Taraxacum formosanum', 243), ('Taraxacum mongolicum ', 239), ('Taraxacum officinale ', 331), ('Taxillus kaempferi', 12), ('Taxillus levinei', 177), ('Taxodium distichum', 169), ('Taxodium lanceolata', 29), ('Taxodium mucronatum', 51), ('Taxus baccata ', 416), ('Taxus brevifolia ', 10), ('Taxus canadensis', 10), ('Taxus chinensis', 10), ('Taxus cuspidata', 10), ('Taxus mairei ', 10), ('Taxus media', 10), ('Taxus sumatrana ', 10), ('Taxus wallichiana ', 53), ('Taxus yunnanensis', 10), ('Teclea nobilis ', 13), ('Tecomella undulata ', 11), ('Tectona grandis ', 39), ('Telekia speciosa', 14), ('Tephrosia candida', 158), ('Tephrosia purpurea ', 359), ('Tephrosia toxicaria', 308), ('Terminalia chebula ', 145), ('Terminalia superba ', 398), ('Ternstroemia cherryi', 155), ('Ternstroemia gymnanthera', 155), ('Ternstroemia merrilliana', 155), ('Tetracentron sinense ', 270), ('Tetracera boiviniana ', 155), ('Tetraclinis articulata', 56), ('Tetragonotheca ludoviciana', 39), ('Tetrapleura tetraptera ', 158), ('Teucrium alyssifolium', 41), ('Teucrium botrys', 41), ('Teucrium polium ', 25), ('Teucrium pseudochamaepitys', 41), ('Teucrium ramosissimum', 25), ('Teucrium scorodonia ', 31), ('Teyleria koordersii', 243), ('Thalictrum atriplex', 135), ('Thalictrum buschianum', 4), ('Thalictrum faberi', 135), ('Thalictrum flavum', 126), ('Thalictrum foetidum ', 135), ('Thalictrum foliolosum ', 135), ('Thalictrum glandulosissimum', 140), ('Thalictrum honanense', 113), ('Thalictrum longipedunculatum', 113), ('Thalictrum microgynum', 135), ('Thalictrum minus', 116), ('Thalictrum orientale', 113), ('Thalictrum petaloideum', 135), ('Thalictrum polygamum', 10), ('Thalictrum przewalskii ', 113), ('Thalictrum purpurescens', 113), ('Thalictrum simplex', 135), ('Thalictrum spp.', 116), ('Thalictrum symplex', 113), ('Thalictrum thunbergii', 135), ('Thalictrum triternatum', 4), ('Thalictrum wanqii', 113), ('Thapsia garganica', 4), ('Thapsia transtagana', 4), ('Thea sinensis ', 122), ('Thelypteris nipponica', 177), ('Theobroma cacao', 534), ('Theobroma grandiflorum', 37), ('Thermopsis alterniflora', 243), ('Thermopsis macrophylla', 243), ('Thermopsis mollis', 243), ('Thermopsis rhombifolia', 243), ('Thermopsis spp.', 14), ('Thermopsis villosa', 243), ('Thespesia populnea', 12), ('Thevetia peruviana ', 230), ('Thuja occidentalis ', 40), ('Thuja orientalis ', 174), ('Thuja plicata', 25), ('Thuja spp.', 44), ('Thuja standishii', 29), ('Thujopsis dolabrata', 31), ('Thymus piperella', 18), ('Thymus sp.', 15), ('Thymus vulgaris ', 178), ('Tilia platyphyllos ', 43), ('Tiliacora dinklagei', 2), ('Tiliacora funifera', 40), ('Tithonia  brachypappa', 45), ('Tithonia diversifolia ', 1), ('Toddalia aculeata', 35), ('Toddalia aculeata Pers. ', 113), ('Toddalia asiatica ', 121), ('Toddalia spp.', 113), ('Torreya jackii', 65), ('Torreya nucifera', 87), ('Torreya yunnanensis', 44), ('Tournefortia sarmentosa', 31), ('Tovomita brasiliensis', 155), ('Toxicodendron succedaneum ', 44), ('Trachelospermum asiaticum', 191), ('Trachelospermum axillare', 65), ('Trachelospermum foetidum', 63), ('Trachelospermum gracilipes', 63), ('Trachelospermum jasminoides ', 63), ('Trachelospermum liukiuense', 63), ('Trachycarpus fortunei ', 125), ('Treculia africana ', 10), ('Tribulus alatus', 177), ('Tribulus terrestris', 111), ('Triclisia gilletii', 38), ('Trifolium alpestre', 177), ('Trifolium campestre', 243), ('Trifolium fragiferum', 30), ('Trifolium globosum', 243), ('Trifolium medium', 177), ('Trifolium montanum', 119), ('Trifolium pannonicum ', 243), ('Trifolium pratense', 710), ('Trifolium repens', 466), ('Trifolium spp.', 243), ('Trifolium subterraneum', 248), ('Trigonella balansae', 190), ('Trigonella calliceras', 85), ('Trigonella cretica', 85), ('Trigonella foenum-graecum ', 287), ('Trigonella geminiflora', 190), ('Trillium erectum ', 12), ('Tripterygium hypoglaucum', 47), ('Tripterygium regelii', 7), ('Tripterygium wilfordii', 27), ('Triticum vulgare ', 15), ('Tritomaria quinquedentata', 14), ('Trivalvaria macrophylla', 60), ('Trollius chinensis ', 108), ('Trollius ledebouri', 108), ('Trollius macropetalus', 108), ('Tsuga heterophylla ', 98), ('Tussilago farfara ', 235), ('Typha angustifolia ', 65), ('Typha domingensis', 313), ('Typha latifolia ', 39), ('Ulex boivinii', 243), ('Ulex europaeus ', 262), ('Ulex gallii', 243), ('Ulex genistoides', 243), ('Ulex micranthus', 243), ('Ulex minor', 243), ('Ulex parviflorus', 243), ('Ulmus sieboldiana', 49), ('Uncaria ferrea ', 12), ('Uncaria gambir ', 125), ('Uncaria guianensis ', 12), ('Uncaria hirsuta ', 119), ('Uncaria homomalla', 12), ('Uncaria laevigata', 12), ('Uncaria lanosa', 12), ('Uncaria longiflora', 12), ('Uncaria orientalis', 12), ('Uncaria rhynchophyllus', 131), ('Uncaria scandens ', 12), ('Uncaria sinensis ', 170), ('Uncaria tomentosa ', 12), ('Uncaria veluntina', 12), ('Ungernia sewerzowii', 55), ('Ungernia trisphaera', 55), ('Urginea altissima', 57), ('Urtica dioica ', 307), ('Uvaria mocali', 60), ('Vaccinium macrocarpon ', 33), ('Vaccinium vitis-idaea ', 26), ('Valeriana jatamansii ', 273), ('Valeriana laxiflora', 279), ('Valeriana officinalis', 193), ('Valeriana prionophylla ', 122), ('Vandasina retusa', 243), ('Vatairea heteroptera', 62), ('Vatica cinerea', 155), ('Ventilago calyculata ', 62), ('Ventilago leiocarpa', 304), ('Vepris punctata', 215), ('Verbena officinalis', 203), ('Vernonia erdverbengii', 203), ('Vernonia mollissima', 21), ('Vernonia spp. ', 14), ('Vexibia pachycarpa', 17), ('Viburnum prunifolium ', 44), ('Vicia bithynica', 85), ('Vicia faba ', 204), ('Vicia johannis', 85), ('Vicia sativa ', 177), ('Vigna angularis ', 243), ('Vigna mungo ', 342), ('Vigna radiata ', 355), ('Vigna subterranea ', 243), ('Vigna trilobata', 108), ('Vigna unguiculata ', 30), ('Viguiera rosei', 19), ('Viguiera spp.', 45), ('Viscum angulatum', 65), ('Viscum coloratum ', 558), ('Vismia laurentii ', 62), ('Vismia orientalis', 63), ('Vitex agnus-castus ', 21), ('Vitex littoralis', 108), ('Vitex lucens', 108), ('Vitex negundo ', 21), ('Vitex polygama ', 108), ('Vitex rotundifolia ', 21), ('Vitex trifolia ', 129), ('Vitis vinifera', 304), ('Vittaria anguste-elongata', 247), ('Warburgia stuhlmannii ', 250), ('Wikstroemia indica ', 63), ('Wikstroemia viridiflora', 63), ('Wisteria brachybotrys', 243), ('Woodwardia orientalis ', 158), ('Woodwardia prolifera', 158), ('Xanthium canadense', 23), ('Xanthium strumarium ', 158), ('Xanthoceras sorbifolia ', 160), ('Xanthorhiza simplicissima', 173), ('Xanthorrhoea australis', 26), ('Xylopia aromatica ', 177), ('Xylopia parviflora ', 14), ('Xyris pteygoblephara', 67), ('Zamia spp.', 44), ('Zanthoxylum ailanthoides ', 136), ('Zanthoxylum alatum ', 10), ('Zanthoxylum americanum ', 14), ('Zanthoxylum armatum ', 203), ('Zanthoxylum arnottianum', 26), ('Zanthoxylum avicennae ', 14), ('Zanthoxylum belizense', 40), ('Zanthoxylum bungeanum ', 14), ('Zanthoxylum caudatum', 60), ('Zanthoxylum chiloperone', 14), ('Zanthoxylum clava-herculis', 14), ('Zanthoxylum coriaceum', 35), ('Zanthoxylum culantrillo', 203), ('Zanthoxylum cuspidatum', 73), ('Zanthoxylum dipetalum', 274), ('Zanthoxylum dissitum', 14), ('Zanthoxylum echinocarpum', 14), ('Zanthoxylum elephantiasis', 14), ('Zanthoxylum fagara', 35), ('Zanthoxylum flavum ', 99), ('Zanthoxylum integrifoliolum ', 14), ('Zanthoxylum monophyllum ', 35), ('Zanthoxylum myriacanthum', 14), ('Zanthoxylum nitidum ', 105), ('Zanthoxylum ovalifolium', 14), ('Zanthoxylum piperitum ', 10), ('Zanthoxylum spinosum', 35), ('Zanthoxylum spp.', 113), ('Zanthoxylum suberosum', 14), ('Zanthoxylum tetraspermum ', 60), ('Zanthoxylum usambarense ', 46), ('Zanthoxylum williamsii', 35), ('Zanthoxylum zanthoxyloides', 1), ('Zea mays', 282), ('Zephyranthes candida ', 59), ('Zephyranthes carinata', 10), ('Zephyranthes citrina', 55), ('Zephyranthes grandiflora ', 8), ('Zephyranthes rosea', 55), ('Zephyranthes texana', 55), ('Zingiber aromaticum ', 1), ('Zingiber cassumunar', 13), ('Zingiber officinale', 41), ('Zinnia elegans ', 177), ('Ziziphora hispanica ', 41), ('Ziziphus cambodiana', 155), ('Ziziphus jujuba', 390), ('Zollernia paraensis', 45)]\n",
            "[('Abelmoschus manihot ', 381), ('Abies alba ', 50), ('Abies amabilis', 335), ('Abies lasiocarpa', 43), ('Abrus precatorius ', 125), ('Acacia adunca', 381), ('Acacia aroma ', 124), ('Acacia baileyana', 243), ('Acacia binervata', 243), ('Acacia calamifolia', 243), ('Acacia cardiophylla', 243), ('Acacia catechu ', 43), ('Acacia caven ', 177), ('Acacia chrysotricha', 243), ('Acacia clunies-rossiae', 243), ('Acacia concurrens', 243), ('Acacia constablei', 243), ('Acacia constricta', 49), ('Acacia cultriformis', 243), ('Acacia cyanophylla', 210), ('Acacia dealbata', 393), ('Acacia deanei', 243), ('Acacia decurrens', 243), ('Acacia elata', 243), ('Acacia falciformis', 243), ('Acacia farnesiana ', 125), ('Acacia filicifolia', 243), ('Acacia fimbriata', 243), ('Acacia furcatispina', 147), ('Acacia holosericea ', 243), ('Acacia horrida ', 125), ('Acacia irrorata', 243), ('Acacia kettlewelliae', 243), ('Acacia lanigera', 243), ('Acacia leucoclada', 243), ('Acacia longifolia', 433), ('Acacia mabellae', 243), ('Acacia mearnsii ', 243), ('Acacia melanoxylon', 377), ('Acacia mellifera ', 587), ('Acacia mollifolia', 243), ('Acacia neovernicosa', 49), ('Acacia neriifolia', 243), ('Acacia nilotica ', 264), ('Acacia obtusifolia', 243), ('Acacia oshanesii', 243), ('Acacia oswaldii', 243), ('Acacia parramattensis', 243), ('Acacia polyacantha', 125), ('Acacia praecox', 227), ('Acacia pycnantha', 243), ('Acacia retinodes', 243), ('Acacia rhodoxylon', 45), ('Acacia rigens', 243), ('Acacia saligna', 125), ('Acacia seyal ', 125), ('Acacia sieberiana ', 125), ('Acacia silvestris', 243), ('Acacia terminalis', 243), ('Acacia tortilis ', 125), ('Acacia trachyphloia', 243), ('Acacia trineura', 203), ('Acacia verniciflua', 243), ('Acacia vestita', 243), ('Acangelisia gusanlung', 113), ('Acanthus ilicifolius ', 177), ('Acer ginnala', 13), ('Acer rubrum', 138), ('Achillea clavennae', 21), ('Achillea conferta', 41), ('Achillea fragrantissima ', 61), ('Achillea holosericea', 15), ('Achillea millefolium', 362), ('Achillea moschata', 61), ('Achillea santolina ', 41), ('Achillea sibirica', 21), ('Acinos suaveolens', 8), ('Acorus calamus ', 74), ('Acorus tatarinowii ', 61), ('Acronychia laurifolia ', 13), ('Acronychia spp.', 13), ('Actaea racemosa ', 322), ('Actinidia arguta ', 158), ('Actinidia callosa', 158), ('Actinidia chinensis ', 158), ('Actinidia chrysantha', 158), ('Actinidia deliciosa ', 158), ('Actinidia eriantha', 158), ('Actinidia glaucophylla', 158), ('Actinidia latifolia ', 158), ('Actinidia polygana', 158), ('Adansonia digitata ', 358), ('Adenocarpus decorticans', 243), ('Adenocarpus foliolosus', 243), ('Adenocaulon adhaerescens', 158), ('Adiantum monochlamys', 119), ('Adiantum spp.', 22), ('Adina cordifolia', 49), ('Adina racemosa', 241), ('Adonis spp.', 108), ('Adonis vernalis ', 15), ('Aegiceras corniculatum', 2), ('Aegle marmelos ', 290), ('Aeschynanthus bracteatus ', 163), ('Aeschynomene americana', 158), ('Aesculus hippocastanum ', 16), ('Aframomum giganteum', 122), ('Afzelia bella ', 43), ('Agapanthus africanus ', 45), ('Agastache rugosus', 40), ('Agathis spp.', 44), ('Ageratum conyzoides ', 19), ('Aglaia forbesii ', 203), ('Agrimonia pilosa', 431), ('Ailanthus altissima ', 15), ('Ailanthus excelsa', 6), ('Ailanthus triphylla', 5), ('Ajuga decumbens ', 21), ('Ajuga iva ', 98), ('Ajuga remota ', 177), ('Akebia lagerocemora', 23), ('Akebia quinata ', 23), ('Akebia trifoliata ', 23), ('Alangium longiflorum', 6), ('Albizia procera ', 38), ('Albizzia lebbeck', 67), ('Alkanna orientalis', 177), ('Allanblackia floribunda ', 142), ('Allanblackia monticola', 210), ('Allium ascalonicum ', 45), ('Allium cepa', 174), ('Allium chinense ', 52), ('Allium neapolitanum ', 14), ('Allium sativum ', 30), ('Allium spp.', 4), ('Allium tuberosum ', 4), ('Allium victorialis', 4), ('Alnus oregana', 104), ('Aloe ferox ', 26), ('Aloe spp. ', 26), ('Aloe vera', 92), ('Alphitonia excelsa', 155), ('Alphitonia petriei', 358), ('Alphitonia whitei', 155), ('Alphitonia whitei Braid', 155), ('Alphitonia zizyphoides ', 155), ('Alphonsea mollis', 60), ('Alpinia blepharocalyx ', 75), ('Alpinia galanga', 74), ('Alpinia officinarum ', 61), ('Alpinia speciosa', 19), ('Alstonia boonei ', 203), ('Althaea nudiflora', 66), ('Althaea rosea ', 66), ('Amaryllis belladona', 55), ('Amaryllis belladonna', 3), ('Amberboa tubuliflora', 5), ('Amentotaxus yunnanensis', 77), ('Ammi majus', 150), ('Ammocharis coranica ', 69), ('Ammocharis tinneana ', 55), ('Ampelopsis brevipedunculata ', 56), ('Ampelopsis grossedentata', 85), ('Ampelopsis japonica ', 125), ('Amphicarpaea bracteata', 243), ('Amsonia ciliata', 119), ('Anabaena sp.', 12), ('Anacardium occidentale ', 68), ('Anadenanthera colubrine', 203), ('Ananas comosus ', 33), ('Anaxagorea luzonensis', 373), ('Ancistrocladus abbreviatus', 27), ('Andira inermis ', 255), ('Andrographis paniculata ', 378), ('Andropogon schoenanthus ', 26), ('Anemone rivularis ', 155), ('Anemopsis californica', 13), ('Anethum graveolens ', 40), ('Anethum spp.', 71), ('Angelica acutiloba', 116), ('Angelica archangelica ', 61), ('Angelica dahurica', 109), ('Angelica furcijuga', 494), ('Angelica gigas ', 124), ('Angelica glabra', 17), ('Angelica keiskei ', 12), ('Angelica komarovii', 48), ('Angelica pachycarpa', 26), ('Angelica pubescens', 103), ('Angelica sinensis ', 146), ('Angelica spp.', 48), ('Angelica taiwaniana', 61), ('Angelica ursina', 48), ('Aniba canelilla ', 14), ('Anisocycla racemosa', 60), ('Anisomeles indica ', 9), ('Annona bullata', 2), ('Annona cherimola ', 60), ('Annona cherimolia ', 81), ('Annona crassiflora ', 177), ('Annona dioica', 60), ('Annona foetida', 60), ('Annona glabra ', 65), ('Annona montana', 60), ('Annona monticola', 216), ('Annona muricata', 70), ('Annona purpurea ', 102), ('Annona reticulata ', 65), ('Annona senegalensis ', 60), ('Annona squamosa', 69), ('Annona tomentosa', 177), ('Annona warmingiana', 177), ('Anomianthus dulcis ', 49), ('Anthemis altissima ', 299), ('Anthemis macedonica', 2), ('Anthemis nobilis ', 256), ('Anthriscus sylvestris ', 57), ('Anthurium spp.', 8), ('Anthurium versicolor', 139), ('Anthyllis onobrychioides', 119), ('Anthyllis subsimplex', 108), ('Antirrhinum graniticum', 15), ('Antizoma angustifolia', 14), ('Apios americana ', 243), ('Apis mellifera ligustica ', 49), ('Apium graveolens ', 55), ('Apocynum lancifolium', 177), ('Apocynum venetum ', 296), ('Aquilaria agallocha', 60), ('Arabidopsis thaliana', 905), ('Arachis glabrata', 158), ('Arachis hypogaea ', 439), ('Aralia cordata ', 18), ('Aralia elata ', 6), ('Araliopsis tabouensis', 6), ('Araucaria angustifolia', 20), ('Araucaria cunninghamii ', 48), ('Araucaria spp.', 44), ('Arbutus unedo ', 9), ('Arctium lappa ', 195), ('Arctium leiospermum', 63), ('Arctium minus ', 63), ('Arctium tomentosum ', 63), ('Ardisia colorata', 457), ('Arenaria kansuensis', 98), ('Argemone mexicana ', 187), ('Argemone spp.', 113), ('Argemone subfusiformia', 113), ('Argemone subfusiformis', 113), ('Aristea spp.', 27), ('Aristolochia chilensis', 14), ('Aristolochia cinnabarina', 15), ('Aristolochia clematis', 15), ('Aristolochia debilis ', 15), ('Aristolochia elegans ', 15), ('Aristolochia heterophylla', 99), ('Aristolochia indica ', 15), ('Aristolochia kaempferi', 15), ('Aristolochia kunmingensis', 15), ('Aristolochia longa ', 15), ('Aristolochia manchuriensis', 179), ('Aristolochia maurorum', 15), ('Aristolochia mollissima ', 15), ('Aristolochia ponticum', 15), ('Aristolochia pubescens', 15), ('Aristolochia spp.', 15), ('Aristolochia tubiflora', 15), ('Arnica chamissonis', 39), ('Arnica montana', 299), ('Arracacia xanthorrhiza ', 111), ('Artabotrys hexapetalus ', 60), ('Artabotrys uncinatus ', 81), ('Artemisia abrotanum ', 21), ('Artemisia annua', 345), ('Artemisia argyi ', 59), ('Artemisia austriaca', 41), ('Artemisia aygyi', 18), ('Artemisia brevifoli', 10), ('Artemisia brevifolia', 10), ('Artemisia campestris', 114), ('Artemisia capillaris ', 403), ('Artemisia dracunculus ', 9), ('Artemisia giraldii', 41), ('Artemisia glutinosa', 65), ('Artemisia klotzschiana', 61), ('Artemisia mesatlantica', 11), ('Artemisia minor', 158), ('Artemisia mongolica', 41), ('Artemisia scoparia', 351), ('Artemisia sieversiana ', 41), ('Artemisia spp. ', 242), ('Artemisia verlotiorum', 41), ('Artemisia vestita ', 135), ('Artocarpus dadah ', 4), ('Artocarpus fretessi', 4), ('Artocarpus integrifolia ', 10), ('Arum maculatum', 155), ('Aruncus diocus', 256), ('Asanthus thyrsiflora', 119), ('Asarum canadense ', 15), ('Asarum forbesii', 61), ('Asarum heteropoides', 19), ('Asarum heterotropoides', 40), ('Asarum sieboldii ', 133), ('Ascarina lucida', 285), ('Asimina longifolia', 1), ('Asimina triloba ', 4), ('Asparagus officinalis', 143), ('Asperula odorata ', 7), ('Asphodelus microcarpus ', 26), ('Aster salignus', 280), ('Asteropyrum cavaleriei', 113), ('Astilbe odontophylla', 12), ('Astilbe thunbergii', 12), ('Astragalus arguricus', 158), ('Astragalus brachycarpus', 119), ('Astragalus centralpinus', 39), ('Astragalus ciceroides', 158), ('Astragalus complanatus ', 89), ('Astragalus flexus', 158), ('Astragalus floccosifolius', 158), ('Astragalus levieri', 158), ('Astragalus onobrychis', 158), ('Astragalus quisqualis', 158), ('Astragalus saganlugensis', 158), ('Astrantia major ', 31), ('Atalantia ceylanica', 48), ('Atalantia monophylla ', 4), ('Athrotaxis selaginoides', 9), ('Atrabotrys maingayi', 60), ('Austrocedrus chilensis ', 31), ('Austrocylindropuntia subulata', 6), ('Averrhoa carambola', 19), ('Baccharis eleagnoides', 25), ('Baccharis magellanica', 14), ('Baccharis spp.', 65), ('Baccharis tucumanensis', 18), ('Baccharis viminea', 49), ('Balanophora abbreviata B1', 76), ('Balanophora japonica ', 283), ('Ballota hirsuta', 18), ('Baptisia alba', 243), ('Baptisia australis', 243), ('Baptisia bracteata', 243), ('Baptisia calycosa', 243), ('Baptisia cinerea', 243), ('Baptisia lanceolata', 243), ('Baptisia lecontei', 243), ('Baptisia megacarpa', 243), ('Baptisia nuttalliana', 243), ('Baptisia perfoliata', 243), ('Baptisia spp.', 191), ('Baptisia tinctoria ', 243), ('Bauhinia guianensis ', 65), ('Bauhinia manca', 45), ('Bauhinia vahlii', 332), ('Begonia nantoensis', 265), ('Beilschmiedia erythrophloia', 203), ('Beilschmiedia zenkeri', 155), ('Bellis perennis ', 39), ('Berberis actinacantha', 10), ('Berberis aemulans', 151), ('Berberis amurensis ', 10), ('Berberis aquifolium', 113), ('Berberis aristata ', 113), ('Berberis brandisiana', 151), ('Berberis candidula', 151), ('Berberis crataegina ', 38), ('Berberis croatica', 113), ('Berberis darwinii ', 123), ('Berberis densiflora', 113), ('Berberis diaphana', 113), ('Berberis dubia', 113), ('Berberis glauca ', 38), ('Berberis heterobotrys', 113), ('Berberis iliensis', 123), ('Berberis integerrima', 113), ('Berberis japonica', 38), ('Berberis julianae', 113), ('Berberis koreana', 6), ('Berberis nervosa', 113), ('Berberis numularis', 113), ('Berberis oblonga', 113), ('Berberis poirettii', 151), ('Berberis potaninii', 113), ('Berberis pruinosa', 113), ('Berberis pseudanubalata', 113), ('Berberis rigidifolia', 113), ('Berberis sibirica ', 38), ('Berberis spp.', 113), ('Berberis stenophylla', 113), ('Berberis thunbergii ', 151), ('Berberis turcomanica', 123), ('Berberis valdiviana', 10), ('Berberis vulgaris', 161), ('Berberis wilsonae', 113), ('Berberis wilsoniae', 113), ('Berchemia floribunda ', 26), ('Bersama swinyi', 203), ('Beta vulgaris', 172), ('Betula alba', 104), ('Betula middendorfii', 119), ('Betula platyphylla ', 127), ('Betula utilis ', 155), ('Bidens spp.', 3), ('Bituminaria bituminosa ', 85), ('Bituminaria morisiana', 30), ('Blechnum orientale ', 280), ('Blumea balsamifera ', 77), ('Blumea glomerata', 19), ('Bocagea sp.nov.', 177), ('Bocconia arborea', 35), ('Bocconia frutescens ', 35), ('Boehmeria holosericea', 277), ('Boehmeria platanifolia', 122), ('Boehmeria tricuspis', 277), ('Boenninghausenia albiflora ', 22), ('Boenninghausenia japonica ', 4), ('Boesenbergia rotunda', 26), ('Bolusanthus speciosus ', 14), ('Bombax malabaricum ', 13), ('Borassus flabellifer ', 12), ('Boschniakia rossica', 9), ('Boswellia carterii', 40), ('Bowdichia nitida', 243), ('Brachyclados megalanthus', 48), ('Brachylaena ramiflora', 203), ('Brachystola magna', 6), ('Brainea insignis', 158), ('Brassica carinata', 110), ('Brassica carinata Y line ', 43), ('Brassica hirta ', 83), ('Brassica napus ', 12), ('Brassica oleracea', 154), ('Brassica rutabaga', 12), ('Brassica spp.', 33), ('Brickellia arguta', 39), ('Brickellia californica', 25), ('Brickellia scoparia', 41), ('Brickellia spp.', 21), ('Brickellia vernicosa', 8), ('Bridelia ferruginea ', 85), ('Bridelia micrantha ', 125), ('Bromelia pinguin ', 21), ('Brosimum acutifolium ', 57), ('Broussonetia papyrifera ', 197), ('Broussonetia papyrigera', 26), ('Bruguiera gymnorhiza', 4), ('Bruguiera parviflora ', 203), ('Brunfelsia grandiflora', 122), ('Brunsvigia josephinae', 10), ('Brunsvigia littoralis', 55), ('Brunsvigia radulosa', 66), ('Bulbophyllum vaginatum', 66), ('Bupleurum chinense ', 304), ('Bupleurum rotundifolia', 177), ('Bupleurum rotundifolium', 216), ('Bupleurum salicifolium', 63), ('Bupleurum scorzonerifolium ', 15), ('Bursaria spinosa ', 16), ('Bursera graveolens ', 203), ('Bursera microphylla', 31), ('Bursera morelensis', 31), ('Bursera permollis', 31), ('Bursera schlechtendalii', 15), ('Bursera simaruba ', 15), ('Byrsonima microphylla', 307), ('Cachrys buchorica', 26), ('Caesalpinia decapetala ', 203), ('Caesalpinia pulcherrima', 364), ('Caesalpinia sappan ', 125), ('Cajanus cajan ', 281), ('Cajanus scarabaeoides', 243), ('Calendula officinalis ', 228), ('Calicotome spinosa', 243), ('Calicotome villosa ', 243), ('Callicarpa pilosissima', 21), ('Calligonum leucocladum', 606), ('Callitris columellaris ', 31), ('Callitris drummondii', 26), ('Calocedrus formosana', 15), ('Calocedrus microlepic', 44), ('Calophyllum apetalum ', 3), ('Calophyllum blancoi', 5), ('Calophyllum bracteatum', 17), ('Calophyllum brasiliense ', 1), ('Calophyllum caledonicum', 31), ('Calophyllum fragrans', 9), ('Calophyllum inophyllum ', 71), ('Calophyllum membranaceum ', 3), ('Calophyllum pinetorum', 46), ('Calophyllum polyanthum', 139), ('Calophyllum pulcherrimum', 17), ('Calophyllum thwaitesii', 17), ('Calophyllum tomentosum', 17), ('Calophyllum trapezifolium', 17), ('Calophyllum walkeri', 17), ('Calopogonium caeruleum', 243), ('Calycopteris floribunda ', 8), ('Camellia assamica', 30), ('Camellia irawadiensis', 30), ('Camellia irrawadiensisia', 24), ('Camellia kissi ', 54), ('Camellia ptilophylla', 24), ('Camellia sinensis', 594), ('Camellia taliensis', 54), ('Camellia thea ', 30), ('Camellia toliensis', 54), ('Campanula glomerata', 335), ('Camptosema rubicundum', 243), ('Camptotheca acuminata ', 472), ('Cananga latifolia', 66), ('Canarium album ', 125), ('Canavalia eurycarpa', 243), ('Canavalia gladiata ', 243), ('Cannabis sativa ', 61), ('Cannomois virgata', 119), ('Canscora decussata ', 21), ('Capparis himalayensis', 67), ('Capparis spinosa ', 98), ('Capsicum annuum', 33), ('Caragana frutex', 85), ('Caragana jubata', 85), ('Cardaria draba ', 4), ('Cardiopetalum calophyllum', 60), ('Carduus micropterus', 63), ('Carissa edulis ', 7), ('Carpesium longifolium', 16), ('Carum carvi', 217), ('Carya pecan', 177), ('Cassia acutifolia ', 26), ('Cassia alata', 122), ('Cassia angolensis ', 122), ('Cassia fastuosa', 122), ('Cassia fistula ', 43), ('Cassia javanica ', 122), ('Cassia mimosoides ', 26), ('Cassia obtusifolia ', 148), ('Cassia occidentalis ', 148), ('Cassia quinquangula', 8), ('Cassia quinquangulata', 3), ('Cassia senna ', 26), ('Cassia siamea', 307), ('Cassia speciosa', 325), ('Cassia tora', 153), ('Cassia torosa', 122), ('Cassytha filiformis ', 127), ('Castanea mollissima ', 13), ('Casuarina cunninghamiana', 29), ('Casuarina equisetifolia', 206), ('Catalpa bignonioides', 18), ('Catalpa ovata ', 164), ('Cedrela toona ', 9), ('Celastrus orbiculatus ', 7), ('Celastrus scandens', 7), ('Celtis philippinensis', 104), ('Centaurea alexandrina', 63), ('Centaurea americana', 63), ('Centaurea bella', 63), ('Centaurea bracteata', 158), ('Centaurea calcitrapa ', 63), ('Centaurea cuneifolia', 63), ('Centaurea cyanus ', 63), ('Centaurea cynaroides', 63), ('Centaurea dealbata', 63), ('Centaurea dimorpha', 63), ('Centaurea gigantea', 299), ('Centaurea granata', 41), ('Centaurea macrocephala', 41), ('Centaurea maculosa', 63), ('Centaurea melitensis', 63), ('Centaurea phrygia', 63), ('Centaurea pseudoscabiosa', 49), ('Centaurea regia', 63), ('Centaurea ruthenica', 63), ('Centaurea scabiosa ', 63), ('Centaurea scoparia', 63), ('Centaurea solstitialis', 240), ('Centaurea sphaerocephala', 63), ('Centaurea spp.', 87), ('Centipeda minima ', 203), ('Cephaelis acuminata ', 6), ('Cephaelis ipecacuanha ', 6), ('Cephalaria kotschyi', 119), ('Cephalaria nachiczevanica', 119), ('Cephalotaxus drupacea ', 4), ('Cephalotaxus fortunei', 54), ('Cephalotaxus hainanensis', 14), ('Cephalotaxus hainensis', 2), ('Cephalotaxus harringtonia', 35), ('Cephalotaxus koreana', 43), ('Cephalotaxus sinensis', 8), ('Cephalotaxus wilsoniana', 8), ('Ceramium rubrum', 33), ('Ceratocapnos palaestinus', 16), ('Ceratostigma plumbaginoides', 27), ('Ceratostigma willmottianum', 304), ('Cereus grandiflorus ', 39), ('Ceriops tagal ', 462), ('Cestrum nocturnum ', 61), ('Ceterach officinarum ', 22), ('Ceterach sp.', 22), ('Chaenomeles sinensis', 259), ('Chaerophyllum hirsutum', 317), ('Chaerophyllum maculatum', 7), ('Chamaecrista mimosoides ', 122), ('Chamaecrista nomame', 122), ('Chamaecrista pumila', 122), ('Chamaecyparis formosensis', 261), ('Chamaecyparis obtusa', 21), ('Chamaecyparis pisifera', 55), ('Cheilanthes argentea', 25), ('Cheilanthes kaulfussii', 49), ('Chelidonium japonicum', 35), ('Chelidonium major ', 16), ('Chelidonium majus', 164), ('Chelidonium spp.', 113), ('Chenopodium graveolens', 49), ('Chlorophora tinctoria', 10), ('Chloroxylon swietenia ', 4), ('Choerospondias axillaris ', 125), ('Chonemorpha grandiflora', 14), ('Chromolaena arnottiana', 41), ('Chrysanthemum boreale', 66), ('Chrysanthemum indicum', 122), ('Chrysanthemum leucanthemum', 15), ('Chrysanthemum morifolium ', 122), ('Chrysosplenium grayanum', 1), ('Chrysosplenium japonicum', 21), ('Chrysosplenium tosaense', 21), ('Chrysothamnus humilis', 65), ('Chrysothamnus viscidiflorus', 65), ('Chuquiraga ulicina', 203), ('Cibotium barometz ', 158), ('Cicer arietinum ', 508), ('Cichorium endivia ', 10), ('Cichorium intybus ', 488), ('Cichorium pumilum ', 10), ('Cicuta virosa', 1), ('Cimicifuga dahurica ', 256), ('Cimicifuga foetida ', 256), ('Cimicifuga heracleifolia ', 98), ('Cinchona cuprea', 158), ('Cinchona ledgeriana', 8), ('Cinchona spp.', 8), ('Cinnamomum camphora', 62), ('Cinnamomum glanduliferum ', 19), ('Cinnamomum illicioides', 70), ('Cinnamomum japonicum ', 61), ('Cinnamomum parthenoxylum', 61), ('Cinnamomum spp.', 61), ('Cinnamomum subavenium', 159), ('Cinnamomum tamala ', 61), ('Cinnamomum tenuifolium', 117), ('Cirsium brevistylum', 25), ('Cirsium canum', 63), ('Cirsium setosum', 122), ('Cirsium vulgare ', 63), ('Cissampelos sympodialis', 60), ('Cistus creticus ', 83), ('Cistus populifolius', 49), ('Cistus salviifolius ', 17), ('Citrullus colocynthis ', 122), ('Citrus aurantium', 168), ('Citrus decumana ', 22), ('Citrus grandis', 100), ('Citrus hassaku ', 21), ('Citrus jambhiri', 11), ('Citrus limon ', 412), ('Citrus limonia ', 131), ('Citrus macroptera ', 6), ('Citrus madurensis', 2), ('Citrus maxima ', 54), ('Citrus medica', 41), ('Citrus meyeri', 48), ('Citrus mitis', 19), ('Citrus natsudaidai ', 38), ('Citrus nobilis ', 19), ('Citrus paradisi ', 52), ('Citrus reticulata', 149), ('Citrus sinensis', 89), ('Citrus spp.', 255), ('Citrus sudachi ', 147), ('Citrus sulcata ', 1), ('Citrus tachibana ', 1), ('Citrus tamurana ', 2), ('Citrus tangerina ', 67), ('Citrus tankan', 19), ('Citrus unshiu', 114), ('Clausena anisata ', 61), ('Clausena excavata ', 45), ('Cleidion spiciflorum ', 23), ('Cleistopholis patens', 60), ('Cleome icosandra ', 9), ('Clermontia fauriei', 155), ('Clibadium spp.', 296), ('Clinacanthus nutans ', 108), ('Clinopodium chinense', 31), ('Clitoria falcata', 243), ('Clitoria ternatea ', 420), ('Clivia miniata ', 55), ('Clusia nemorosa ', 155), ('Cneoridium dumosum', 10), ('Cnicus benedictus ', 63), ('Cnidium monnieri ', 61), ('Coccoloba excoriata', 358), ('Cocculus laurifolius', 38), ('Cochlospermum gillivraei', 65), ('Codium fragile ', 26), ('Codonopsis pilosula ', 98), ('Coffea arabica ', 334), ('Coffea canephora ', 54), ('Coffea dewevrei', 54), ('Coffea eugeniodes', 54), ('Coffea excelsa', 30), ('Coffea kianjavatensis', 54), ('Coffea liberica ', 54), ('Coffea racemosa', 54), ('Coffea salvatrix', 54), ('Coffea spp', 30), ('Cola acuminata ', 37), ('Cola spp.', 54), ('Colchicum luteum', 33), ('Coleogyne ramosissima', 177), ('Coleus blumei ', 43), ('Colubrina faralaotra', 164), ('Combretum quadrangulare ', 250), ('Combretum yunnanensis', 29), ('Commelina communis', 345), ('Commiphora dalzielii', 203), ('Commiphora myrrha ', 71), ('Conioselinum vaginatum', 19), ('Conium maculatum ', 158), ('Conoclinium greggii', 19), ('Conospermum teretifolium', 11), ('Convallaria keiskei ', 296), ('Conyza aegyptica', 67), ('Conyza blinii', 158), ('Conyza filaginoides', 177), ('Conyza newii ', 26), ('Conyza schimperi', 98), ('Coptis chinensis ', 211), ('Coptis deltoidea ', 113), ('Coptis gulinensis', 113), ('Coptis japonica ', 113), ('Coptis linearisepala', 113), ('Coptis omeiensis', 113), ('Coptis spp.', 113), ('Coptis teetoides', 113), ('Corbicula japonica ', 33), ('Corbicula sandai ', 33), ('Coreopsis grandiflora', 3), ('Coriandrum sativum ', 40), ('Coriaria sinica ', 125), ('Cornus florida', 155), ('Cornus officinalis ', 125), ('Coronilla coronata', 85), ('Coronilla glauca', 85), ('Coronilla juncea', 85), ('Coronilla minima', 85), ('Coronilla repanda ', 85), ('Coronilla scorpioides', 85), ('Coronilla valentina', 85), ('Coronilla viminalis', 85), ('Corydalis amunca', 113), ('Corydalis claviculata', 14), ('Corydalis decumbens ', 98), ('Corydalis intermedia', 113), ('Corydalis ledebouriana', 113), ('Corydalis longicalcarata', 113), ('Corydalis ophiocarpa', 148), ('Corydalis remota', 113), ('Corydalis solida ', 113), ('Corydalis spp.', 113), ('Corydalis yanhusuo ', 113), ('Corylus avellana ', 104), ('Coscinium fenestratum ', 123), ('Costus speciosus ', 13), ('Costus spicatus ', 244), ('Cotinus coggygria', 125), ('Cotoneaster simonsii', 122), ('Couepia polyandra', 155), ('Cousinia hystrix', 63), ('Coussarea paniculata', 462), ('Cowania mexicana ', 220), ('Crataegus cuneata ', 241), ('Crataegus hupehensis', 227), ('Crataegus kansuensis', 227), ('Crataegus maximowiczii ', 227), ('Crataegus oxyacantha ', 246), ('Crataegus pinnatifida', 691), ('Crataegus sanguinea ', 227), ('Crataegus scabrifolia', 234), ('Cratoxylum cochinchinense', 11), ('Cratoxylum formosum', 119), ('Crinum amabile ', 55), ('Crinum asiaticum', 65), ('Crinum bulbispermum', 55), ('Crinum delagoense', 55), ('Crinum giganteum', 55), ('Crinum glaucum ', 65), ('Crinum jagus ', 65), ('Crinum latifolium ', 55), ('Crinum lugardiae', 55), ('Crinum macowanii ', 65), ('Crinum macrantherum', 3), ('Crinum moorei', 55), ('Crinum pratense', 55), ('Crinum scabrum', 55), ('Crinum yemense', 55), ('Crithmum maritimum ', 36), ('Crocus sativus ', 66), ('Crossopetalum gaumeri ', 7), ('Crotalaria assamica ', 331), ('Crotalaria cephalotes', 15), ('Crotalaria crispata', 15), ('Crotalaria cunninghamii ', 15), ('Crotalaria juncea ', 243), ('Crotalaria micans', 108), ('Crotalaria mysorensis', 15), ('Crotalaria nana', 15), ('Crotalaria pallida ', 424), ('Crotalaria paulina', 15), ('Crotalaria quinquefolia', 15), ('Crotalaria recta', 15), ('Crotalaria retusa ', 15), ('Crotalaria rotundifolia', 108), ('Crotalaria sagittalis', 15), ('Crotalaria scassellatii', 15), ('Crotalaria sessiliflora ', 15), ('Crotalaria spectabilis', 15), ('Crotalaria stipularia', 15), ('Crotalaria verrucosa ', 108), ('Croton lechleri ', 17), ('Croton nepetaefolius', 13), ('Croton oblongifolius', 4), ('Croton tonkinensis', 315), ('Croton zambesicus', 224), ('Cruciata taurica', 186), ('Cryptomeria japonica', 25), ('Cryptotaenia japonica ', 40), ('Cucumis sativus', 392), ('Cudrania cochinchinensis', 377), ('Cudrania tricuspidata', 18), ('Cullen corylifolium', 127), ('Cullen drupaceum', 85), ('Cullen obtusifolium ', 85), ('Cullen plicatum', 85), ('Cunila angustifolia', 41), ('Cunila incana', 56), ('Cunonia macrophylla', 154), ('Cupressus cashmeriana', 56), ('Cupressus funebris', 12), ('Cupressus lusitanica ', 63), ('Cupressus sempervirens ', 12), ('Cupressus spp.', 44), ('Curculigo orchioides', 55), ('Curcuma aeruginosa ', 22), ('Curcuma aromatica ', 13), ('Curcuma chuanyujin', 13), ('Curcuma doestica', 13), ('Curcuma domestica ', 66), ('Curcuma heyneana ', 13), ('Curcuma kwangsiensis ', 13), ('Curcuma longa ', 13), ('Curcuma mangga', 255), ('Curcuma soloensis ', 13), ('Curcuma spp.', 13), ('Curcuma xanthorrhiza ', 13), ('Curcuma zanthorrhiza ', 13), ('Curcuma zedoaria', 13), ('Cuscuta australis ', 257), ('Cuscuta chinensis ', 119), ('Cuscuta japonica ', 33), ('Cyathea podophylla', 21), ('Cyathea spp.', 108), ('Cycas beddomei ', 44), ('Cycas revoluta ', 44), ('Cyclea barbata', 38), ('Cymbopogon distans', 26), ('Cymbopogon martinii ', 26), ('Cynanchum thesioides ', 98), ('Cynara cardunculus ', 63), ('Cynara scolymus ', 8), ('Cynoglossum officinale ', 12), ('Cyperus rotundus', 185), ('Cyprinus carpio ', 33), ('Cypripedium macranthos', 49), ('Cyrtanthus pallidus', 55), ('Cytisus albus', 243), ('Cytisus baeticus', 243), ('Cytisus commutatus', 243), ('Cytisus eriocarpus', 108), ('Cytisus fontanesii', 243), ('Cytisus hirsutus', 108), ('Cytisus proliferus', 243), ('Cytisus ratisbonensis', 243), ('Cytisus scoparius ', 542), ('Cytisus striatus', 243), ('Dacrydium franklinii', 13), ('Dahlia spp', 68), ('Dahlia variabilis ', 45), ('Dalbergia barretoana', 23), ('Dalbergia ecastaphyllum ', 83), ('Dalbergia odorifera ', 45), ('Dalbergia parviflora ', 8), ('Dalbergia sericea', 149), ('Dalbergia stevensonii', 148), ('Damnacanthus indicus', 8), ('Daphne feddei', 66), ('Daphne odora', 20), ('Daphne oleoides ', 3), ('Daphne tangutica', 13), ('Daphniphyllum oldhami', 17), ('Datura innoxia ', 158), ('Datura stramonium', 16), ('Daucus carot', 18), ('Daucus carota', 107), ('Davidsonia pruriens ', 281), ('Debregeasia longifolia ', 125), ('Decussocarpus wallichianus', 9), ('Deguelia hatschbachii', 203), ('Delphinium denudatum', 8), ('Delphinium yunnanense ', 61), ('Dendranthema grandiflorum', 33), ('Dendrobium densiflorum', 65), ('Derris oblonga', 363), ('Derris scandens ', 247), ('Descurainia sophia', 216), ('Desmanthodium spp.', 296), ('Desmodium gangeticum ', 243), ('Desmodium triflorum ', 108), ('Desmodium uncinatum', 243), ('Desmos longifolia', 60), ('Dianthus chinensis ', 61), ('Dicentra peregrina', 35), ('Dicentra pusilla', 8), ('Dicentra spectabilis', 35), ('Dichapetalum gelonioides', 155), ('Dichrocephala bicolor ', 158), ('Dicranopteris linearis', 177), ('Dicranostigma franchetianum', 51), ('Dicranostigma lactucoides', 35), ('Dicranostigma leptopodum', 35), ('Dictamnus angustifolius', 177), ('Dictamnus hispanicus ', 85), ('Didymochlaena truncatula', 7), ('Digitalis ferruginea ', 8), ('Digitalis lanata ', 21), ('Digitalis purpurea ', 179), ('Digitalis thapsi ', 46), ('Dillenia indica ', 125), ('Dionaea muscipula', 27), ('Dioon spp.', 44), ('Dioscorea althaeoides', 13), ('Dioscorea bulbifera', 12), ('Dioscorea collettii', 25), ('Dioscorea dregeana', 10), ('Dioscorea futschauensis ', 25), ('Dioscorea gracillima', 13), ('Dioscorea panthaica ', 13), ('Dioscorea parviflora', 13), ('Dioscorea pseudojaponica', 25), ('Dioscorea rotundata ', 12), ('Dioscorea spongiosa', 25), ('Dioscorea spp.', 13), ('Dioscorea villosa ', 12), ('Dioscorea zingiberensis', 13), ('Diospyros abyssinica ', 477), ('Diospyros acuta', 203), ('Diospyros alboflavescens', 155), ('Diospyros argentea', 462), ('Diospyros bipindensis', 462), ('Diospyros buxifolia ', 462), ('Diospyros canaliculata', 489), ('Diospyros candalleana', 462), ('Diospyros castanea', 462), ('Diospyros cauliflora', 462), ('Diospyros chevalieri', 462), ('Diospyros chloroxylon ', 274), ('Diospyros cinnabarina', 602), ('Diospyros consolatae', 462), ('Diospyros cordifolia ', 203), ('Diospyros cornii', 358), ('Diospyros crassiflora', 462), ('Diospyros curranii', 462), ('Diospyros dendo', 462), ('Diospyros diepenhorstii ', 358), ('Diospyros discolor ', 462), ('Diospyros ebenum ', 489), ('Diospyros ehretioides ', 358), ('Diospyros elliptifolia', 489), ('Diospyros embryopteris ', 462), ('Diospyros eriantha', 485), ('Diospyros evena', 462), ('Diospyros exsculpta', 462), ('Diospyros ferrea', 155), ('Diospyros fragrans', 477), ('Diospyros gabunensis', 462), ('Diospyros gilleti', 155), ('Diospyros gracilescens', 477), ('Diospyros gracilipes', 27), ('Diospyros greeniway', 358), ('Diospyros guianensis ', 462), ('Diospyros hebecarpa', 27), ('Diospyros hirsuta', 462), ('Diospyros hoyleana', 462), ('Diospyros ismailii', 462), ('Diospyros iturensis', 462), ('Diospyros kaki', 818), ('Diospyros kamerunensis', 477), ('Diospyros leucomelas', 259), ('Diospyros longiflora', 477), ('Diospyros lotus ', 485), ('Diospyros mafiensis', 358), ('Diospyros maingayi', 462), ('Diospyros malanonilau', 259), ('Diospyros mannii', 477), ('Diospyros maritima', 489), ('Diospyros melanoxylon ', 462), ('Diospyros mespiliformis ', 462), ('Diospyros monobuttensis', 462), ('Diospyros montana ', 477), ('Diospyros moonii', 462), ('Diospyros morrisiana ', 462), ('Diospyros natalensis', 358), ('Diospyros obliquifolia', 477), ('Diospyros oppositifolia', 203), ('Diospyros palmeri', 155), ('Diospyros peregrina ', 462), ('Diospyros pseudo-malabarica', 462), ('Diospyros quaesita', 462), ('Diospyros rheophytica', 203), ('Diospyros rhodocalyx ', 203), ('Diospyros rhombifolia', 177), ('Diospyros sanza-minika', 462), ('Diospyros siamang', 489), ('Diospyros siamensis ', 462), ('Diospyros siderophylla', 489), ('Diospyros singaporensis', 462), ('Diospyros spinescens', 477), ('Diospyros spp.', 42), ('Diospyros sumatrana', 462), ('Diospyros sylvatica', 504), ('Diospyros thwaitesii', 462), ('Diospyros tomentosa ', 462), ('Diospyros toposia ', 203), ('Diospyros verrucosa', 259), ('Diospyros virginiana ', 477), ('Diospyros walkeri', 489), ('Diospyros wallichii', 489), ('Diospyros zenkeri', 462), ('Diphylleia grayi', 26), ('Diphylleia sinensis', 41), ('Diphysa robinoides', 11), ('Diploknema butyracea', 85), ('Dipogon lignosus', 243), ('Dipsacus asper ', 158), ('Dipteryx odorata ', 55), ('Dirca occidentalis', 10), ('Disepalum pulchrum', 60), ('Disporopsis aspera', 24), ('Dodonaea viscosa ', 280), ('Dolichos biflorus ', 30), ('Dorstenia angusticornis', 203), ('Dorstenia asaroides', 85), ('Dorstenia bahiensis', 85), ('Dorstenia barnimiana', 85), ('Dorstenia brasiliensis ', 85), ('Dorstenia bryonifolia', 85), ('Dorstenia cayapiaa', 85), ('Dorstenia contrajerva ', 85), ('Dorstenia drakena ', 85), ('Dorstenia excentria', 85), ('Dorstenia gigas', 17), ('Dorstenia heringerii', 85), ('Dorstenia lindeniana', 85), ('Dorstenia poinsettifolia ', 33), ('Dorstenia psilurus ', 85), ('Dorstenia turbinata', 85), ('Dracaena draco ', 57), ('Drosera peltata', 27), ('Drosera rotundifolia ', 27), ('Drynaria fortunei ', 22), ('Dryobalanops aromatica ', 23), ('Dryopteris crassirhizoma ', 22), ('Drypetes molunduana', 23), ('Drypetes tessmanniana', 203), ('Dunbaria villosa', 243), ('Duranta repens ', 33), ('Durio kutejensis ', 15), ('Dysosma difformis', 15), ('Dysosma furfuracea', 15), ('Dysosma guangxiensis', 15), ('Dysosma majorensis', 41), ('Dysosma pleiantha ', 46), ('Dysosma veitchii', 41), ('Dysosma versipellis', 15), ('Dysoxylum malabaricum', 203), ('Echinops grijsii', 40), ('Echinospartum horridum', 243), ('Elateriospermum tapos ', 44), ('Elephantopus scaber ', 203), ('Elsholtzia bodinieri ', 49), ('Elsholtzia ciliata ', 26), ('Elsholtzia rugulosa', 366), ('Emblica officinalis ', 154), ('Enantia chlorantha ', 60), ('Engelhardia roxburghiana', 15), ('Enkianthus cernuus', 358), ('Entada scandens ', 203), ('Ephedra equisetina ', 66), ('Epigaea asiatica', 358), ('Epilobium hirsutum ', 125), ('Epimedium acuminatum', 67), ('Epimedium brevicornum ', 186), ('Epimedium davidii', 67), ('Epimedium dolichostemen', 67), ('Epimedium fargesii', 67), ('Epimedium franchetii', 67), ('Epimedium koreanum ', 430), ('Epimedium leishanense', 67), ('Epimedium leptorrhizum', 67), ('Epimedium membranaceum', 67), ('Epimedium myrianthum', 67), ('Epimedium pauciflorum', 67), ('Epimedium pubescens ', 67), ('Epimedium sagittatum ', 374), ('Epimedium stellatum', 67), ('Epimedium zhenbaense', 67), ('Epimedium zhushanense', 67), ('Equisetum arvense ', 177), ('Equisetum hiemale', 433), ('Equisetum sylvaticum', 177), ('Equsetum arvense ', 66), ('Erica arborea', 307), ('Erinacea anthyllis', 243), ('Eriobotrya japonica ', 372), ('Eriocaulon buergerianum', 220), ('Eriodictyon sessilifolium', 49), ('Eriodictyon trichocalyx', 21), ('Eriolaena hookeriana', 203), ('Eriosema glomeratum ', 243), ('Eriosema nutans', 243), ('Eriosema psoraleoides', 243), ('Erodium stephanianum', 26), ('Ervatamia heyneana ', 19), ('Erycibe expansa ', 257), ('Erycibe obtusifolia ', 9), ('Erycibe schimidtii', 122), ('Eryngium yuccifolium', 158), ('Erysimum perofskianum', 2), ('Erythrina burttii', 243), ('Erythrina crista-galli ', 38), ('Erythrina indica ', 286), ('Erythrina latissima', 282), ('Erythrina orientalis', 38), ('Erythrina senegalensis ', 4), ('Erythrina variegata', 175), ('Escallonia spp.', 49), ('Eschscholtzia california', 113), ('Esenbeckia yaxhoob', 265), ('Eskemukerjea megacarpum', 329), ('Etlingera elatior', 299), ('Eucalyptus camaldulensis', 155), ('Eucalyptus citriodora ', 227), ('Eucalyptus globulus ', 204), ('Eucalyptus macathurii', 43), ('Eucalyptus mackliana', 43), ('Eucalyptus maculata', 66), ('Eucalyptus maideni', 177), ('Eucalyptus robusta ', 125), ('Eucalyptus spp. ', 43), ('Eucharis grandiflora', 55), ('Euchresta formosana', 365), ('Euchresta horsfeldii', 17), ('Euchresta japonica ', 2), ('Euclea divinorum ', 307), ('Euclea natalensis ', 307), ('Euclea spp.', 15), ('Eucommia ulmoides', 457), ('Eucryphia cordifolia', 12), ('Eucryphia spp.', 119), ('Eugenia caryophyllata ', 61), ('Eugenia crebrinervis', 29), ('Eugenia edulis ', 125), ('Eugenia gustavioides', 29), ('Eugenia jambolana ', 361), ('Eugenia sandwicensis', 280), ('Euodia spp.', 13), ('Euonymus sacrosancta', 119), ('Eupatorium altissimum', 41), ('Eupatorium coelestinum', 19), ('Eupatorium leucolepsis', 19), ('Eupatorium lindleyanum ', 119), ('Eupatorium macrocephalum', 203), ('Eupatorium microphyllum', 41), ('Euphorbia chamaesyce', 177), ('Euphorbia guyoniana', 8), ('Euphorbia helioscopia', 26), ('Euphorbia hirta ', 29), ('Euphorbia humifusa ', 125), ('Euphorbia larica', 380), ('Euphorbia lathyris ', 120), ('Euphorbia lunulata ', 244), ('Euphorbia magalanta', 177), ('Euphorbia micractina', 155), ('Euphorbia palustris', 85), ('Euphorbia paralias', 104), ('Euphorbia peplus ', 8), ('Euphorbia portlandica', 203), ('Euphorbia segetalis ', 8), ('Euphorbia spp.', 67), ('Euphorbia stepposa', 85), ('Euphorbia supina', 311), ('Euphorbia supina Rafin', 311), ('Euphorbia tinctoria ', 67), ('Euphorbia virgata', 177), ('Eurycoma longifolia', 14), ('Eurycoma longifolida', 14), ('Evodia lepta ', 6), ('Evodia mellifolia', 113), ('Evodia rutaecarpa ', 40), ('Evodia spp.', 113), ('Evodiopanax spp.', 22), ('Evolvulus alsinoides ', 158), ('Excoecaria cochinchinensis', 125), ('Eysenhardtia platycarpa', 381), ('Eysenhardtia subcoriacea', 119), ('Fagara chalybea', 35), ('Fagara heitzii', 203), ('Fagara mayu', 120), ('Fagara spp.', 14), ('Fagara tessmannii', 408), ('Fagara xanthoxyloides', 45), ('Fagonia alba', 39), ('Fagonia arabica ', 39), ('Fagonia taeckholmiana', 39), ('Fagopyrum cymosum ', 122), ('Falcaria vulgaris', 462), ('Feronia limonia ', 85), ('Ferula assa-foetida ', 98), ('Ferula assafoetida ', 98), ('Ferula foetida ', 98), ('Ferula sumbul ', 48), ('Ferula syreitschikowii', 48), ('Ferulago capillaris', 26), ('Fibraurea chloroleuca', 10), ('Ficus arica', 85), ('Ficus beecheyana', 25), ('Ficus carica ', 322), ('Ficus cordata', 243), ('Ficus cunninghamii', 26), ('Ficus eriobotryoides', 26), ('Ficus hirta ', 85), ('Ficus microcarpa ', 203), ('Ficus nymphaeifolia ', 243), ('Ficus rasemosa', 203), ('Ficus ruficaulis', 177), ('Ficus septica ', 259), ('Ficus simplicissima ', 85), ('Ficus sycomorus ', 111), ('Firmiana simplex ', 30), ('Fissistigma glaucescens ', 60), ('Fitzroya patagonica', 12), ('Flemingia chappar', 45), ('Flemingia macrophylla ', 243), ('Flemingia philippinensis', 243), ('Flemingia stricta ', 308), ('Flemingia strobilifera ', 265), ('Flindersia australis', 43), ('Flindersia laevicarpa', 217), ('Flourensia resinosa', 49), ('Flourensia riparia', 14), ('Foeniculum vulgare ', 174), ('Forsythia intermedia', 221), ('Forsythia koreana', 63), ('Forsythia ovata', 63), ('Forsythia suspensa ', 103), ('Forsythia viridissima ', 240), ('Fortunella japonica ', 30), ('Fortunella margaria', 11), ('Fortunella margarita ', 19), ('Fortunella sp.', 22), ('Fragaria spp.', 48), ('Fraxinus bungeana', 16), ('Fraxinus mandshurica ', 16), ('Fraxinus ornus ', 16), ('Fraxinus paxiana', 16), ('Fraxinus rhynchophylla ', 16), ('Fraxinus spp.', 16), ('Fraxinus stylosa ', 16), ('Fraxinus szaboana ', 16), ('Fritillaria cirrhosa ', 24), ('Fumaria officinalis ', 21), ('Fumaria schramii', 35), ('Gaillardia aristata', 177), ('Galactia glaucophylla', 108), ('Galactia jussiaeana', 243), ('Galanthus caucasicus ', 174), ('Galanthus elewesii', 55), ('Galanthus nivalis ', 55), ('Galanthus woronowii', 55), ('Galium mollugo', 2), ('Galium spp.', 7), ('Galium verum ', 122), ('Garcinia bancana', 203), ('Garcinia cowa ', 12), ('Garcinia densivenia', 125), ('Garcinia dulcis ', 393), ('Garcinia echinocarpa', 7), ('Garcinia fusca', 11), ('Garcinia hombroniana', 108), ('Garcinia jasminoides', 122), ('Garcinia linii', 33), ('Garcinia livingstonei ', 44), ('Garcinia mangostana', 26), ('Garcinia multiflora ', 65), ('Garcinia polyantha', 17), ('Garcinia spp.', 26), ('Garcinia subelliptica', 10), ('Garcinia terpnophylla', 7), ('Garcinia vilersiana ', 203), ('Garcinia xanthochymus ', 117), ('Gastrodia elata ', 9), ('Genista acanthoclada', 243), ('Genista albida', 243), ('Genista anglica', 243), ('Genista canariensis', 243), ('Genista corsica', 38), ('Genista cupanii', 243), ('Genista depressa', 243), ('Genista ephedroides', 243), ('Genista hispanica', 243), ('Genista hystrix', 243), ('Genista linifolia', 243), ('Genista lobelii', 243), ('Genista microphylla', 243), ('Genista monspessulana', 243), ('Genista morisii', 243), ('Genista obtusiramea', 243), ('Genista pulchella', 243), ('Genista radiata', 243), ('Genista sagittalis', 243), ('Genista salzmannii', 243), ('Genista scorpius', 243), ('Genista sericea', 243), ('Genista sessilifolia', 243), ('Genista spartioides', 243), ('Genista stenopetala', 243), ('Genista subcapitata', 243), ('Genista tinctoria ', 243), ('Genista triacanthos', 243), ('Genista tridens', 243), ('Genista tridentata', 243), ('Genista ulicina', 243), ('Gentiana lutea ', 203), ('Gentiana pyrenaica', 177), ('Gentiana scabra ', 203), ('Geranium macrorrhizum', 125), ('Geranium niveum ', 119), ('Geranium pratense ', 125), ('Geranium sibiricum ', 154), ('Geranium thunbergii ', 154), ('Geranium wilfordii', 119), ('Ginkgo biloba ', 248), ('Glaucium arabicum', 113), ('Glaucium corniculatum', 16), ('Glaucium fimbrilligerum', 35), ('Glaucium fimbrilligerum Boiss.', 35), ('Glaucium squamigerum', 51), ('Glaucium vitellinum', 16), ('Gleditsia japonica', 285), ('Gleditsia sinensis', 285), ('Gleditsia triacanthos ', 108), ('Glehnia littoralis ', 701), ('Glochidion eriocarpum', 208), ('Glochidion hohenackeri', 5), ('Glochidion macrophylla', 5), ('Glochidion puberum ', 208), ('Glochidion zeylanicaum', 5), ('Glycine canescens', 273), ('Glycine clandestina', 273), ('Glycine falcata', 273), ('Glycine latifolia', 273), ('Glycine max ', 687), ('Glycine tabacina', 273), ('Glycine tomentella', 273), ('Glycydendron amazonicum', 5), ('Glycyrrhiza aspera', 17), ('Glycyrrhiza echinata ', 108), ('Glycyrrhiza eurycarpa', 5), ('Glycyrrhiza glabra', 553), ('Glycyrrhiza glara', 45), ('Glycyrrhiza inflata', 63), ('Glycyrrhiza kansuensis', 17), ('Glycyrrhiza pallidiflora', 45), ('Glycyrrhiza spp.', 52), ('Glycyrrhiza uralensis ', 547), ('Glycyrrhiza yunnanensis', 50), ('Glyptostrobus lineatus', 12), ('Goniothalamus amuyon', 60), ('Goniothalamus scortephanine', 60), ('Goniothalamus thwaitesii', 155), ('Goniothalamus topis', 60), ('Gonocaryum calleryanum ', 203), ('Gossypium barbadense ', 465), ('Gossypium herbaceum ', 185), ('Gossypium hirsutum ', 185), ('Gossypium mexicanum', 8), ('Gossypium sp. ', 8), ('Guaiacum officinale ', 4), ('Guaiacum sanctum', 4), ('Guarea macrophylla', 9), ('Guatteria australis', 177), ('Guatteria boliviana', 2), ('Guatteria multivenia', 60), ('Guatteria notabilis', 177), ('Guatteria oliviformis', 60), ('Guatteria rupestris', 177), ('Guatteria villosissima', 177), ('Guatteriopsis friesiana', 60), ('Guazuma ulmifolia ', 17), ('Gustavia hexapetala ', 155), ('Gutierrezia grandis', 119), ('Gutierrezia wrightii', 216), ('Gymnadenia conopsea', 164), ('Gynerium sagittatum ', 229), ('Gynostemma pentaphyllum ', 108), ('Gypsophila struthium ', 155), ('Haemanthus kalbreyeri', 6), ('Halophila johnsonii', 85), ('Hamelia patens ', 8), ('Haplopappus canescens', 85), ('Haplopappus foliosus', 335), ('Haplophragma adenophyllum', 16), ('Haplophyllum bucharicum', 18), ('Haplophyllum buxbaumii', 18), ('Haplophyllum cappadocicum', 28), ('Haplophyllum dauricum', 18), ('Haplophyllum glabrinum', 39), ('Haplophyllum obtusifolium', 18), ('Haplophyllum patavinum', 172), ('Haplophyllum popovii', 18), ('Haplophyllum ptilostylum', 63), ('Haplophyllum spp.', 13), ('Haplophyllum tuberculatum', 28), ('Hardenbergia violacea', 243), ('Harpagophytum procumbens ', 183), ('Harpalyce brasiliana', 155), ('Harungana madagascariensis ', 358), ('Hebe parviflora', 177), ('Hedera helix ', 24), ('Hedyotis capitellata ', 8), ('Hedysarum multijugum', 155), ('Hedysarum sericeum', 296), ('Helianthus annuus', 176), ('Helianthus heterophyllus', 48), ('Helichrysum arenarium ', 65), ('Helichrysum bracteatum', 65), ('Helichrysum forskahlii ', 23), ('Helichrysum graveolen', 65), ('Helichrysum herbaceum ', 1), ('Helichrysum spp.', 67), ('Helicteres angustifolia ', 190), ('Helicteres isora', 64), ('Heliotropium arbainense', 12), ('Heliotropium curassavicum ', 12), ('Heliotropium europaeum ', 12), ('Heliotropium hirsutum', 12), ('Heliotropium lasiocarpum', 12), ('Heliotropium olgae', 12), ('Heliotropium pycnophyllum', 49), ('Hemidesmus indicus ', 203), ('Henriettella fascicularis', 155), ('Heracleum asperum', 65), ('Heracleum candicans', 44), ('Heracleum canescens', 48), ('Heracleum dissectum', 48), ('Heracleum granatense', 65), ('Heracleum lanatum', 98), ('Heracleum levskovii', 85), ('Heracleum moellendorffii', 65), ('Heracleum pinnatum', 48), ('Heracleum ponticum', 65), ('Heracleum pyrenaicum', 17), ('Heracleum rapula', 26), ('Heracleum sphondylium ', 65), ('Heracleum spp.', 65), ('Heracleum woroschiklowii', 65), ('Hernandia nymphaeifolia ', 46), ('Hernandia ovigera ', 46), ('Hesperis matronalis ', 61), ('Heterogaura heterandra', 177), ('Hibiscus mutabilis ', 177), ('Hibiscus sabdariffa', 213), ('Hibiscus syriacus ', 9), ('Hibiscus taiwanensis', 344), ('Hibiscus tiliaceus ', 11), ('Hippeastrum equestre', 65), ('Hippeastrum vittatum', 55), ('Hippomane mancinella ', 10), ('Hippophae mancinella', 10), ('Hippophae rhamnoides ', 339), ('Hoita macrostachya', 85), ('Houttuynia cordata ', 458), ('Houttuynia emeiensis', 40), ('Hovenia dulcis ', 43), ('Hugonia tomentosa', 26), ('Humulus japonicus', 108), ('Humulus lupulus ', 14), ('Huperzia selago', 98), ('Hydrangea chinensis', 30), ('Hydrastis canadensis ', 235), ('Hylomecon japonica', 51), ('Hymenocallis cayamansis', 10), ('Hymenocallis expansa', 8), ('Hymenocallis litroralis', 8), ('Hymenocallis littorale', 8), ('Hymenocallis littoralis ', 63), ('Hymenocallis sonorensis', 8), ('Hymenocallis speciosa', 8), ('Hymenocallis tubiflora ', 65), ('Hymenocallis x festalis', 55), ('Hymenodictyon excelsum ', 16), ('Hyoscyamus niger', 9), ('Hypecoum leptocarpum ', 35), ('Hypericum ascyron ', 298), ('Hypericum barbatum', 119), ('Hypericum calycinum', 2), ('Hypericum calycunum', 2), ('Hypericum curvisepalum', 119), ('Hypericum elodioides', 119), ('Hypericum faberi', 119), ('Hypericum forrestii', 119), ('Hypericum hirsutum', 204), ('Hypericum japonicum ', 296), ('Hypericum lancasteri', 119), ('Hypericum laricifolium', 158), ('Hypericum linarioides', 119), ('Hypericum maculatum', 119), ('Hypericum patulum', 121), ('Hypericum perforatum', 543), ('Hypericum rumeliacum', 119), ('Hypericum sampsonii ', 485), ('Hypericum scabrum ', 447), ('Hypericum subsessile', 119), ('Hypericum tetrapterum', 119), ('Hypericum thasium', 177), ('Hypericum wightianum', 119), ('Hypocalyptus sophoroides', 85), ('Hypochoeris cretensis', 14), ('Hypoestes purpurea ', 122), ('Hyptis tomentosa', 31), ('Hyptis verticillata ', 58), ('Hyssopus spp.', 14), ('Ilex chinensis ', 158), ('Ilex cornuta ', 233), ('Ilex latifolia ', 203), ('Ilex paraguariensis ', 54), ('Ilex paraguayensis', 30), ('Illigera luzonensis', 60), ('Indigofera tetrantha', 177), ('Intsia bijuga ', 150), ('Intsia palembanica', 85), ('Inula britannica ', 621), ('Inula grandis', 14), ('Inula helenium ', 14), ('Inula henium', 14), ('Inula japonica ', 14), ('Inula racemosa ', 14), ('Inula royleana', 14), ('Inula salicina ', 14), ('Ipomoea cairica ', 75), ('Ipomoea nil ', 122), ('Ipomoea njil', 122), ('Isatis tinctoria ', 131), ('Ismene calithina', 10), ('Isodon leucophyllus', 218), ('Isodon melissoides', 1), ('Isodon oresbia', 108), ('Isodon oresbius', 108), ('Ixeris chinensis ', 10), ('Jasminum lanceolarium ', 259), ('Jatropha curcas ', 4), ('Jatropha elliptica ', 3), ('Jatropha gossypiifolia', 3), ('Jatropha macrorhiza', 1), ('Jatropha multifida ', 12), ('Juglans mandshurica ', 125), ('Juglans regia ', 229), ('Juniperus bermudiana', 31), ('Juniperus chinensis ', 72), ('Juniperus communis ', 35), ('Juniperus formosana', 25), ('Juniperus lucayana', 43), ('Juniperus occidentalis', 44), ('Juniperus phoenicea', 104), ('Juniperus procera ', 31), ('Juniperus rigida', 69), ('Juniperus sabina', 57), ('Juniperus silicicola', 31), ('Juniperus spp.', 71), ('Juniperus thurifera', 104), ('Juniperus virginiana ', 26), ('Jurinea alata', 63), ('Justicia ciliata', 10), ('Justicia diffusa', 10), ('Justicia hayatai', 28), ('Justicia heterocarpa ', 21), ('Justicia neesii', 10), ('Justicia pectoralis ', 18), ('Justicia procumbens', 28), ('Kadsura heteroclita ', 71), ('Kadsura interior', 5), ('Kadsura japonica ', 3), ('Kalanchoe blossfeldiana', 177), ('Karwinskia spp.', 67), ('Kennedia coccinea', 243), ('Kennedia nigricans', 243), ('Kennedia procurrens', 243), ('Kennedia rubicunda', 243), ('Kerria japonica', 8), ('Kielmeyera coriacea', 15), ('Kigelia pinnata ', 11), ('Kunzea ambigua', 29), ('Kunzea ericoides', 85), ('Kyllinga brevifolia ', 108), ('Lablab purpureus ', 243), ('Laburnum anagyroides ', 243), ('Lactuca canadensis ', 10), ('Lactuca indica ', 299), ('Lactuca laciniata', 10), ('Lactuca sariola', 10), ('Lactuca sativa ', 10), ('Lactuca serriola ', 10), ('Lactuca virosa ', 10), ('Lagenaria indica', 125), ('Lagophylla glandulosa', 62), ('Lannea coromandelica ', 10), ('Lantana camara', 26), ('Lappula intermedia', 12), ('Larix decidua ', 226), ('Larix kaempferi', 8), ('Larix spp.', 108), ('Larrea spp.', 4), ('Larrea tridentata ', 4), ('Lasianthus gardneri', 203), ('Lathyrus aphaca ', 85), ('Lathyrus chrysanthus', 119), ('Lathyrus montanus ', 14), ('Lathyrus nissolia', 14), ('Lathyrus spp.', 257), ('Launaea arborescens', 203), ('Laurelia sempervirens', 38), ('Laurus nobilis', 117), ('Lens esculenta ', 164), ('Leontice albertii', 17), ('Leontodon autumnalis', 122), ('Lepidium draba', 4), ('Leptarrhena pyrolifolia', 335), ('Leptolaena diospyroidea', 349), ('Leptolaena pauciflora', 349), ('Leptothyrsa sprucei', 48), ('Lespedeza bicolor ', 677), ('Lespedeza capitata', 108), ('Lespedeza cuneata ', 108), ('Lespedeza cyrtobotrya', 322), ('Lespedeza davidii', 2), ('Lespedeza hedysaroides', 108), ('Lespedeza juncea', 351), ('Lespedeza spp.', 108), ('Lettowianthus stellatus', 60), ('Leucojium autumnale', 55), ('Leucojum aestivum', 65), ('Leucojum vernum', 55), ('Leucothoe grayana', 358), ('Levisticum officinale ', 293), ('Liatris cylindrica', 14), ('Liatris laevigata', 203), ('Libertia caerulescens', 7), ('Libocedrus bidwillii', 31), ('Libocedrus decurrens', 31), ('Libocedrus spp.', 31), ('Libocedrus yateensis', 15), ('Ligularia dentata', 203), ('Ligularia dentata Hara ', 203), ('Ligularia odontomanes', 203), ('Ligularia sagitta', 203), ('Ligusticum brachylobum ', 98), ('Ligusticum chuanxiong', 256), ('Ligusticum jeholense ', 117), ('Ligusticum multivittatum ', 164), ('Ligusticum scoticum ', 19), ('Ligusticum sinense', 117), ('Ligusticum spp.', 31), ('Ligustrum lucidum ', 23), ('Lilium brownii', 62), ('Lilium brownii var.viridulum ', 122), ('Limaciopsis loangensis', 38), ('Lindelofia spectabilis', 15), ('Lindelofia stylosa', 31), ('Lindera obtusiloba', 1), ('Linum album', 41), ('Linum austriacum', 18), ('Linum boissieri', 26), ('Linum catharticum ', 26), ('Linum flavum', 26), ('Linum mucronatum', 26), ('Linum usitatissimum ', 10), ('Lippia dulcis', 66), ('Lippia javanica ', 61), ('Lippia sidoides', 23), ('Liquidambar formosana ', 40), ('Liriodendron tulipifera ', 60), ('Lithospermum erythrorhizon ', 158), ('Litsea cubeba ', 14), ('Litsea glauca', 12), ('Lolium perenne ', 21), ('Lonicera confusa ', 122), ('Lonicera fulvotomentosa', 280), ('Lonicera hypoglauca ', 122), ('Lonicera implexa ', 122), ('Lonicera japonica ', 416), ('Lonicera similis', 280), ('Loranthus parasiticus', 203), ('Loropetalum chinense ', 247), ('Lotus corniculatus ', 277), ('Lotus japonicus', 454), ('Lotus maritimus', 85), ('Lupinus albus', 39), ('Lupinus arboreus', 351), ('Lupinus arcticus', 243), ('Lupinus elegans', 243), ('Lupinus luteus ', 446), ('Lupinus mutabilis', 243), ('Lupinus nanus', 243), ('Lupinus pilosus', 243), ('Lupinus sericeus', 351), ('Lupinus subcarnosus', 416), ('Lupinus texensis', 416), ('Luvunga sarmentosa', 203), ('Lychnis flos-cuculi', 108), ('Lycium chinense', 210), ('Lycopersicon esculentum', 33), ('Lycopersicon pimpinellifolium', 3), ('Lycopodium japonicum ', 98), ('Lycoris aurea ', 55), ('Lycoris longituba', 6), ('Lycoris radiata ', 72), ('Lycoris sanguinea', 62), ('Lygodium japonicum ', 66), ('Lyonia ovalifolia ', 12), ('Lysimachia christinae ', 177), ('Lysimachia mauritiana', 119), ('Lysimachia nummularia ', 177), ('Lythrum salicaria ', 297), ('Maackia amurensis ', 257), ('Macaranga barteri', 154), ('Macaranga conifera', 17), ('Macaranga triloba', 119), ('Macleaya cordata ', 148), ('Macleaya microcarpa', 35), ('Maclura tinctoria ', 122), ('Macrococculus pomiferus', 46), ('Macroptilium bracteatum', 243), ('Macroptilium lathyroides', 243), ('Macroptilium martii', 243), ('Magnolia abovata', 60), ('Magnolia biondii ', 113), ('Magnolia coco ', 60), ('Magnolia grandiflora ', 60), ('Magnolia liliflora ', 61), ('Magnolia obovata ', 60), ('Magnolia officinalis ', 40), ('Magnolia salicifolia ', 34), ('Mahonia aquifolium', 113), ('Mahonia bealei ', 113), ('Mahonia bodinieri', 113), ('Mahonia confusa', 113), ('Mahonia eurybracteata', 113), ('Mahonia fortunei ', 113), ('Mahonia gracilipes', 113), ('Mahonia japonica ', 151), ('Mahonia siamensis', 38), ('Mahonia spp.', 113), ('Mahonia veitchiorum', 113), ('Maize bran', 164), ('Mallotus furetianus ', 125), ('Malus doumeri', 116), ('Malus x domestica', 6), ('Malva silvestris ', 164), ('Mammea africana ', 28), ('Mammea americana', 21), ('Mammea harmandii ', 3), ('Mandragora autumnalis ', 183), ('Mangifera indica ', 159), ('Manilkara zapota', 125), ('Mansonia altissima', 5), ('Mansonia gagei', 4), ('Mappia foetida', 19), ('Marah oreganus', 177), ('Markhamia stipulata ', 16), ('Marrubium thessalum', 18), ('Marrubium trachyticum', 18), ('Marrubium velutinum', 216), ('Marsdenia cundurango ', 122), ('Marsypianthes chamaedrys ', 203), ('Matayba arborescens ', 9), ('Matricaria chamomilla ', 21), ('Matteuccia struthiopteris ', 122), ('Maytenus chiapensis', 104), ('Maytenus cinfertiflorus', 21), ('Maytenus cuzcoina', 307), ('Maytenus heterophylla ', 5), ('Meconopsis cambrica', 14), ('Medicago arabica', 85), ('Medicago blancheana', 85), ('Medicago cancellata', 85), ('Medicago cretacea', 85), ('Medicago doliata', 85), ('Medicago falcata', 85), ('Medicago glomerata', 85), ('Medicago hybrida', 85), ('Medicago intertexta', 85), ('Medicago laciniata', 85), ('Medicago lupulina ', 85), ('Medicago medicaginoides', 108), ('Medicago monantha', 97), ('Medicago monspeliaca', 85), ('Medicago murex', 85), ('Medicago orbicularis ', 85), ('Medicago polyceratia', 85), ('Medicago polymorpha ', 193), ('Medicago radiata', 103), ('Medicago rotata', 103), ('Medicago sativa ', 594), ('Medicago scutellata ', 85), ('Medicago spp.', 75), ('Medicago truncatula', 195), ('Melaleuca ericifolia', 259), ('Melaleuca leucadendron ', 176), ('Melastoma intermedium', 125), ('Melia azedarach ', 21), ('Melicope leptococca', 13), ('Melicope micrococca', 177), ('Melicope semecarpifolia', 19), ('Melicope spp.', 13), ('Melilotus alba ', 30), ('Melilotus italica', 85), ('Melilotus messanensis', 202), ('Melilotus officinalis ', 246), ('Melilotus suaveolens ', 16), ('Melilotus sulcatus', 85), ('Melilotus wolgicus', 85), ('Melissa officinalis ', 31), ('Mentha aquatica', 8), ('Mentha haplocalyx ', 229), ('Mentha longifolia ', 55), ('Mentha piperita', 329), ('Mentha pulegium ', 41), ('Mentha spicata ', 15), ('Mentha spp. ', 22), ('Menyanthes trifoliata', 140), ('Merrillia caloxylon', 41), ('Merrilliodendron megacarpum', 14), ('Mesua ferrea', 29), ('Mesua racemosa', 3), ('Mesua salicina', 17), ('Mesua thwaitesii', 17), ('Metasequoia glyptostroboides', 56), ('Michelia compressa', 2), ('Miconia cabucu', 125), ('Miconia myriantha', 154), ('Micranthemum umbrosum', 26), ('Micromeria albanica', 74), ('Mikania hirsutissima ', 49), ('Miliusa cuneata', 60), ('Miliusa velutina ', 60), ('Millettia brandisiana', 65), ('Millettia dielsiana ', 243), ('Millettia pinnata', 2), ('Millettia racemosa ', 95), ('Millettia usaramensis', 45), ('Millettia zechiana', 177), ('Mimosa hostilis ', 65), ('Mimulus moschatus', 49), ('Mitragyna hirsuta', 12), ('Mitrephora glabra', 60), ('Mollinedia marliae', 21), ('Momordica charantia', 12), ('Montezuma speciosissima', 8), ('Morinda citrifolia', 31), ('Morinda parvifolia', 11), ('Morinda umbellata ', 7), ('Morus alba ', 634), ('Morus australis ', 159), ('Morus cathayana', 4), ('Morus insignis', 181), ('Morus mongolica ', 8), ('Morus serrata ', 10), ('Morus spp.', 10), ('Morus tinctoria', 10), ('Mosla chinensis', 61), ('Mosla dianthera ', 40), ('Mosla scabra', 2), ('Mostuea brunonis', 14), ('Mucuna pruriens ', 243), ('Muehlenbeckia tamnifolia ', 122), ('Muntingia calabura ', 45), ('Murraya paniculata ', 190), ('Murraya siamensis', 4), ('Myodocarpus gracilis', 31), ('Myrciaria cauliflora ', 29), ('Myrica nagi ', 98), ('Myrica rubra ', 430), ('Myristica fragrans ', 80), ('Myrsine africana ', 124), ('Myrtus communis ', 39), ('Nandina domestica ', 113), ('Nandina spp.', 113), ('Naravelia zeylandica', 113), ('Narcissus bujei', 10), ('Narcissus folli', 55), ('Narcissus poeticus', 55), ('Narcissus pseudonarcissus', 61), ('Narcissus spp', 6), ('Narcissus tazetta', 126), ('Narcissus tortuous', 55), ('Nectandra membranacea', 14), ('Nectandra polita', 13), ('Nectandra salicifolia', 14), ('Nelumbo nucifera ', 356), ('Neolitsea acuminatissima', 75), ('Neolitsea konishii', 14), ('Neonotonia wightii', 243), ('Neorautanenia amboensis', 243), ('Nepenthes insignis', 27), ('Nepeta cadmea', 31), ('Nepeta cataria ', 61), ('Nepeta pungens', 18), ('Nepeta saturejoides', 18), ('Nerium oleander ', 155), ('Newbouldia laevis ', 11), ('Nicotiana bonariensis', 61), ('Nicotiana tabacum', 130), ('Nigella sativa', 19), ('Niphogeton ternata ', 66), ('Nothapodytes foetida', 14), ('Nothapodytes nimmoniana', 14), ('Nothofagus antarctica', 85), ('Nothofagus dombeyi ', 43), ('Notholirion hyacinthinum', 164), ('Notopterygium forbesii ', 40), ('Notopterygium incisum ', 177), ('Nuxia sphaerocephala ', 226), ('Nyctanthes arbor-tristis', 210), ('Nymphaea caerulea', 446), ('Nymphaea odorata ', 85), ('Ochna obtusata', 177), ('Ochrocarpos punctatus', 1), ('Ocimum americanum', 56), ('Ocimum basilicum ', 393), ('Ocimum spp.', 79), ('Ocotea glaziovii', 14), ('Ocotea pretiosa', 13), ('Ocotea puberula', 4), ('Oenanthe crocata ', 18), ('Oenanthe javanica ', 36), ('Olea europaea ', 155), ('Oncodostigma monosperma', 60), ('Onobrychis amoena', 177), ('Onobrychis angustifolia', 108), ('Onobrychis arenaria', 158), ('Onobrychis bobrovi', 119), ('Onobrychis chlorassanica', 177), ('Onobrychis echidna', 177), ('Onobrychis ferganica', 177), ('Onobrychis grandis', 177), ('Onobrychis seravschanica', 177), ('Onobrychis vassiltschenkoi', 119), ('Onobrychis viciifolia', 45), ('Ononis leiosperma', 119), ('Ononis spinosa ', 351), ('Ononis vaginalis', 74), ('Onopordum acanthium ', 520), ('Onopordum acaule', 63), ('Onopordum alexandrinum', 63), ('Onopordum illyricum', 63), ('Onoseris alata', 21), ('Ophiorrhiza filistipula', 14), ('Ophiorrhiza liukiuensis', 262), ('Ophiorrhiza mungos ', 21), ('Ophiorrhiza pumila', 19), ('Ophiorrhiza rugosa', 14), ('Opopanax chironicum', 146), ('Opuntia dellenii', 98), ('Opuntia ficus-indica', 137), ('Orbexilum pedunculatum', 85), ('Oricia gabonensis', 203), ('Oricia suaveolens', 216), ('Origanum majorana ', 61), ('Origanum vulgare ', 22), ('Orixa japonica', 67), ('Orixa spp.', 13), ('Ormosia monosperma', 243), ('Oroxylum indicum ', 93), ('Orthosiphon aristatus ', 41), ('Orthosiphon stamineus ', 403), ('Oryza sativa', 263), ('Otholobium bolusii', 328), ('Otholobium bracteolatum', 243), ('Otholobium candicans', 328), ('Otholobium foliosum', 85), ('Otholobium hirtum', 328), ('Otholobium obliquum', 85), ('Otholobium parviflorum', 85), ('Otholobium sericeum', 85), ('Otholobium spicatum', 243), ('Otholobium stachyerum', 85), ('Otholobium striatum', 243), ('Otholobium uncinatum', 243), ('Otholobium wilmsii', 243), ('Otholobium zeyheri', 85), ('Ouratea sulcata ', 44), ('Oxytropis glabra', 24), ('Oxytropis pseudoglandulosa', 94), ('Ozothamnus lycopodioides', 19), ('Pachygone ovata', 14), ('Paeonia albiflora ', 125), ('Paeonia emodi ', 125), ('Paeonia mouton', 125), ('Paeonia suffruticosa ', 155), ('Pajanelia multijuga', 49), ('Panax ginseng', 24), ('Panax notoginseng ', 24), ('Panax pseudo-ginseng', 24), ('Panax quinquefolium ', 24), ('Panax quinquefolius', 6), ('Panax vietnamensis', 24), ('Pancratinum maritimum', 55), ('Pancratium biflorum', 20), ('Pancratium canariense', 55), ('Pancratium foetidum', 65), ('Pancratium littorale', 8), ('Pancratium maritimum', 100), ('Pancratium sickenbergeri', 55), ('Pandanus tectorius ', 40), ('Papaver albiflora', 113), ('Papaver bracteatum ', 129), ('Papaver caucasicum', 60), ('Papaver commutatum', 35), ('Papaver confine', 113), ('Papaver nudicaule', 16), ('Papaver pinnatifidum', 113), ('Papaver radicatum', 113), ('Papaver rhoeas chelidonides ', 113), ('Papaver rhopalothece', 113), ('Papaver somniferum ', 271), ('Parageum montanum', 119), ('Paratecoma peroba', 125), ('Parkinsonia aculeata ', 108), ('Parthenium incanum', 62), ('Parthenium spp.', 21), ('Passiflora caerulea ', 174), ('Passiflora edulis ', 12), ('Passiflora serratodigitata', 157), ('Pastinaca satica', 18), ('Pastinaca sativa ', 98), ('Pastinaca spp.', 48), ('Patersonia spp.', 158), ('Paullinia cupana ', 54), ('Paullinia trifoliata', 30), ('Pedilanthus tithymaloides ', 380), ('Pediomelum subacaule', 85), ('Pelargonium graveolens ', 26), ('Pelargonium reniforme ', 328), ('Pellia barbigera', 6), ('Pellia epiphylla', 283), ('Peltophorum africanum ', 509), ('Pennisetum americanum ', 108), ('Pentaceras australis', 14), ('Peperomia duclouxii', 21), ('Peperomia sui', 237), ('Pera ferruginea', 27), ('Pericopsis angolensis', 38), ('Pericopsis eleta', 38), ('Pericopsis laxiflora', 281), ('Pericopsis mooniana', 38), ('Perilla frutescens', 309), ('Periploca aphylla ', 203), ('Periploca graeca ', 98), ('Perriera madagascariensis', 5), ('Petasites formosanus ', 301), ('Petroselinum crispum ', 161), ('Petroselinum spp.', 9), ('Peucedanum dhana', 48), ('Peucedanum grande ', 17), ('Peucedanum ostruthium ', 48), ('Peucedanum paniculatum', 9), ('Peucedanum praeruptorum ', 210), ('Peucedanum rubricaule', 87), ('Peucedanum stenocarpum', 17), ('Peucedanum terebinthaceum', 26), ('Pharbitis nil ', 283), ('Phaseolus coccineus ', 311), ('Phaseolus lunatus ', 273), ('Phaseolus spp.', 68), ('Phaseolus vulgaris ', 431), ('Phebalium argenteum', 85), ('Phebalium clavatum', 94), ('Phellodendron amurense', 640), ('Phellodendron chinense ', 113), ('Phellodendron japonicum', 300), ('Phellodendron wilsonii', 113), ('Phillyrea latifolia', 307), ('Phleum pratense ', 98), ('Phlogacanthus curviflorus', 307), ('Phlomis brunneogaleata', 122), ('Phlomis caucasica ', 65), ('Phlomis spinidens', 177), ('Phlomis tuberosa', 158), ('Phoenix hanceana', 177), ('Phyllanthus acuminatus', 18), ('Phyllanthus anisolobus', 18), ('Phyllanthus emblica ', 710), ('Phyllanthus flexuosus', 307), ('Phyllanthus myrtifolius', 28), ('Phyllanthus niruri ', 369), ('Phyllanthus oligospermus', 10), ('Phyllanthus piscatorum', 18), ('Phyllanthus reticulatus ', 155), ('Phyllanthus urinaria ', 192), ('Phyllarthron comorense ', 5), ('Phyllogeiton zeyheri', 43), ('Phyllostachys edulis', 173), ('Phyllostachys heterocycla', 15), ('Physalis alkekengi', 177), ('Physocarpus capitatus', 152), ('Phytolacca americana ', 23), ('Picea ajanensis', 174), ('Picea glehnii', 10), ('Picea koraiensis', 10), ('Picea obovata', 164), ('Picea schrenkiana', 26), ('Picramnia antidesma ', 148), ('Picramnia teapensis', 122), ('Picramnia teapensis Tul.', 62), ('Picrasma crenata', 14), ('Picrasma quassioides', 14), ('Picris hieracioides', 10), ('Picrorhiza kurrooa ', 98), ('Picrorhiza scrophulariiflora ', 98), ('Pieris japonica', 358), ('Pierreodendron kerstingii', 5), ('Pimenta dioica ', 390), ('Pimpinella anisum ', 9), ('Pinus aristata', 49), ('Pinus bungeana ', 40), ('Pinus contorta ', 10), ('Pinus excelsa ', 49), ('Pinus grandis', 10), ('Pinus koraiensis ', 40), ('Pinus laricio', 98), ('Pinus massoniana', 10), ('Pinus monticola', 49), ('Pinus palustris ', 7), ('Pinus resinosa', 9), ('Pinus spp. ', 49), ('Pinus sylvestris ', 21), ('Piper aduncum ', 19), ('Piper betle ', 61), ('Piper crassinervium Kunth', 65), ('Piper cubeba', 17), ('Piper fimbriulatum', 26), ('Piper kadsura ', 30), ('Piper lhotzkyanum', 21), ('Piper longum ', 9), ('Piper nigrum', 9), ('Piper pedicellosum', 9), ('Piper regnellii ', 19), ('Piper retrofractum ', 9), ('Piper sanctum', 13), ('Piper sarmentosum ', 9), ('Piper solmsianum', 19), ('Piper taiwanense', 61), ('Piper tuberculatum', 9), ('Piper umbellatum ', 244), ('Piptadenia macrocarpa', 203), ('Piptanthus nepalensis', 281), ('Piptocarpha paradoxa', 203), ('Piptostigma fugax', 60), ('Pistacia chinensis ', 125), ('Pistacia weinmannifolia', 138), ('Pisum sativum ', 304), ('Pitcairnia rubiflora', 177), ('Plantago bellardi', 122), ('Plantago cretica', 122), ('Plantago lanceolata ', 277), ('Plantago major', 483), ('Plantago media ', 322), ('Platanus acerifolia', 5), ('Platanus occidentalis', 155), ('Platanus vulgaris', 43), ('Platycarya strobilacea', 154), ('Platycladus orientalis ', 4), ('Platycodon grandiflorum ', 104), ('Plectranthus ecklonii', 25), ('Plectranthus fruticosus ', 25), ('Plectranthus marrubioides', 61), ('Pleurospermum rivulorum', 87), ('Plinia pinnata', 85), ('Plumbagella micrantha', 27), ('Plumbago europaea ', 27), ('Plumbago indica ', 27), ('Plumbago zeylanica', 29), ('Plumeria obtusa ', 155), ('Podocarpus amarus', 38), ('Podocarpus fasciculus', 385), ('Podocarpus ferrugineus ', 25), ('Podocarpus hallii', 10), ('Podocarpus macrophyllus ', 11), ('Podocarpus montanus', 44), ('Podocarpus nagai', 12), ('Podocarpus nagi ', 14), ('Podocarpus nivalis', 10), ('Podocarpus nubigenus', 10), ('Podocarpus odocarpus', 10), ('Podocarpus purdieana', 10), ('Podocarpus sellowii', 10), ('Podocarpus spp.', 87), ('Podophyllum emodi ', 26), ('Podophyllum emodi Wall ', 26), ('Podophyllum emodii', 48), ('Podophyllum hexandrum ', 74), ('Podophyllum peltatum', 74), ('Podophyllum pleianthum', 26), ('Pogostemon cablin ', 61), ('Polyalthia insignis', 60), ('Polyalthia longifolia ', 60), ('Polyalthia macropoda', 60), ('Polyalthia stenopetala', 60), ('Polygala chinensis ', 63), ('Polygala macradenia', 2), ('Polygala paena', 2), ('Polygala polygama', 41), ('Polygonatum zanlanscianense', 13), ('Polygonum aviculare ', 405), ('Polygonum bistorta ', 247), ('Polygonum cuspidatum ', 543), ('Polygonum minus', 21), ('Polygonum multiflorum ', 247), ('Polygonum orientale ', 63), ('Polygonum perfoliatum ', 122), ('Polygonum persicaria ', 177), ('Polygonum polystachyum', 177), ('Polymnia fruticosa', 65), ('Polypodium vulgare ', 122), ('Poncirus trifoliata', 132), ('Pongamia pinnata', 360), ('Populus alba', 49), ('Populus bejingensis', 49), ('Populus canadensis', 49), ('Populus davidiana', 49), ('Populus pseudosimonii', 320), ('Populus spp.', 49), ('Populus tomentosa', 49), ('Populus tremula', 203), ('Populus xiaohei', 49), ('Porcelia macrocarpa', 237), ('Posidonia oceanica ', 381), ('Potamogeton perfoliatus ', 33), ('Potentilla chinense', 125), ('Prangos bucharica', 74), ('Prangos latiloba', 26), ('Prangos pabularia ', 69), ('Prionosciadium thapsoides', 85), ('Prosopis alba ', 108), ('Prosopis argentina', 108), ('Prosopis chilensis ', 108), ('Prosopis fiebrigii', 108), ('Prosopis hassleri', 108), ('Prosopis juliflora', 10), ('Prosopis kuntzei ', 108), ('Prosopis nigra ', 108), ('Prosopis reptans', 193), ('Prosopis ruscifolia ', 108), ('Prosopis spp.', 108), ('Prosopis strombulifera ', 108), ('Prosopis vinalillo ', 108), ('Protea mellifera ', 9), ('Prunella vulgaris ', 119), ('Prunus amygdalus ', 43), ('Prunus armeniaca', 26), ('Prunus avium ', 389), ('Prunus cerasus ', 656), ('Prunus davidiana ', 108), ('Prunus mume ', 208), ('Prunus persica ', 116), ('Prunus serotina ', 66), ('Prunus spp. ', 276), ('Prunus yedoensis', 65), ('Pseudeminia comosa', 243), ('Pseudoeriosema borianii', 243), ('Pseudolarix amabilis', 85), ('Pseudolarix kaempferi', 125), ('Pseudotsuga wilsoniana', 114), ('Pseudovigna argentea ', 243), ('Psidium guajava ', 524), ('Psilotum triquetrum ', 44), ('Psittacanthus cucullaris', 125), ('Psoralea aculeata', 243), ('Psoralea affinis', 85), ('Psoralea arborea', 328), ('Psoralea axillaris', 243), ('Psoralea cinerea', 85), ('Psoralea coryfolia', 85), ('Psoralea corylifolia ', 97), ('Psoralea effusa', 328), ('Psoralea exile', 85), ('Psoralea fascicularis', 328), ('Psoralea glabra', 85), ('Psoralea lachnostachys', 85), ('Psoralea laxa', 243), ('Psoralea leucantha', 85), ('Psoralea martinii', 85), ('Psoralea oligophylla', 243), ('Psoralea oreopolum', 85), ('Psoralea papillosa', 85), ('Psoralea pinnata', 85), ('Psoralea plumosa', 85), ('Psoralea pullata', 85), ('Psoralea pustulata', 85), ('Psoralea ramulosa', 85), ('Psoralea repens', 328), ('Psoralea speciosa', 85), ('Psoralea verrucosa', 85), ('Psorospermum androsaemifolium ', 67), ('Psorospermum febrifugum ', 1), ('Psorospermum glaberrimum', 277), ('Psorothamnus arborescens', 45), ('Psychotria adenophylla ', 155), ('Psychotria burucana', 6), ('Psychotria ipecacuanha ', 6), ('Psychotria klugii', 6), ('Ptelea trifolia', 48), ('Pteleopsis hylodendron ', 203), ('Pteridium aquilinum ', 177), ('Pteris multifida ', 158), ('Pterocarpus angolensis ', 243), ('Pterocarpus marsupium ', 110), ('Pterocarpus santalinus ', 352), ('Pterocaulon virgatum ', 280), ('Pueraria Phaseoloides', 439), ('Pueraria calycina', 38), ('Pueraria edulis', 38), ('Pueraria lobata ', 273), ('Pueraria mirifica ', 311), ('Pueraria montana', 273), ('Pueraria peduncularis', 38), ('Pueraria thunbergiana ', 38), ('Pulicaria paludosa', 18), ('Pulsatilla chinensis ', 23), ('Pulsatilla koreana', 31), ('Punica granatum', 774), ('Putranjiva roxburghii ', 44), ('Pycnarrhena australiana', 38), ('Pycnarrhena manillensis', 38), ('Pyrenacantha klaineana', 14), ('Pyrola atropurpurea', 119), ('Pyrola calliantha ', 244), ('Pyrola decorata ', 296), ('Pyrola elliptica', 296), ('Pyrola japonica ', 119), ('Pyrola spp.', 177), ('Pyrrosia davidii ', 122), ('Pyrrosia drakeana', 122), ('Pyrrosia gralla', 122), ('Pyrrosia lingua ', 299), ('Pyrrosia petiolosa ', 122), ('Pyrrosia pseudocalvata', 122), ('Pyrrosia sheareri', 280), ('Pyrus bourgaeana ', 39), ('Pyrus communis', 9), ('Pyrus malus ', 8), ('Quassia simarouba', 5), ('Quassia undulata', 5), ('Quercus infectoria ', 210), ('Quercus myrsenaefolia', 203), ('Quercus stenophylla', 203), ('Quintinia serrata', 12), ('Rabdosia rubescens ', 41), ('Ranunculus baudotii', 322), ('Ranunculus serbicus', 113), ('Raphanus sativus ', 98), ('Rauvolfia vomitoria ', 15), ('Reseda muricata', 378), ('Retama monosperma', 243), ('Retama raetam ', 281), ('Rhamnus alaternus ', 26), ('Rhamnus davurica', 148), ('Rhamnus disperma', 119), ('Rhamnus frangula ', 122), ('Rhamnus nepalensis', 122), ('Rhamnus pallasii', 43), ('Rhamnus purshiana ', 26), ('Rhamnus purshianus', 26), ('Rhaponticum carthamoides ', 577), ('Rheedia gardneriana ', 17), ('Rheum emodi ', 273), ('Rheum hotaoense', 125), ('Rheum officinale ', 273), ('Rheum palmatum ', 280), ('Rheum spp.', 148), ('Rheum tanguticum ', 273), ('Rheum undulatum ', 26), ('Rheum wittrocki', 122), ('Rhinacanthus nasutus ', 203), ('Rhodiola crenulata', 171), ('Rhodiola rosea ', 26), ('Rhodiola sachalinensis ', 366), ('Rhodiola sacra', 171), ('Rhododendron anthopogonoides', 159), ('Rhododendron arboreum ', 155), ('Rhododendron collettianum', 9), ('Rhododendron dauricum ', 119), ('Rhododendron ferrugineum ', 119), ('Rhododendron micranthum', 119), ('Rhododendron mucronatum', 85), ('Rhododendron spp.', 43), ('Rhodomyrtus tomentosa ', 203), ('Rhus chinensis ', 125), ('Rhus coriaria ', 138), ('Rhus parviflora ', 85), ('Rhus semialata ', 125), ('Rhus succedanea ', 44), ('Rhus typhina ', 125), ('Rhus wallichi', 329), ('Rhynchosia beddomei', 173), ('Rhynchosia cana', 108), ('Rhynchosia capitata', 108), ('Rhynchosia caribaea', 243), ('Rhynchosia densiflora', 243), ('Rhynchosia heynei', 108), ('Rhynchosia hirsuta', 243), ('Rhynchosia jacobii', 108), ('Rhynchosia minima ', 108), ('Rhynchosia phaseoloides', 243), ('Rhynchosia pyramidalis', 243), ('Rhynchosia rufescens', 108), ('Rhynchosia suaveolens', 108), ('Riccardia multifida ', 61), ('Robinia paeudoacacia', 45), ('Robinsonia gracilis', 39), ('Rodgersia podophylla ', 244), ('Rollinia bahiensis', 39), ('Rollinia dolabripetala', 177), ('Rollinia mucosa', 6), ('Rollinia muricata', 1), ('Rosa canina ', 12), ('Rosa chinensis ', 125), ('Rosa damascena ', 26), ('Rosa foetida', 33), ('Rosa gallica ', 26), ('Rosa rugosa ', 389), ('Rosmarinus officinalis', 290), ('Rubia cordifolia', 43), ('Rubia schumannia', 2), ('Rubia tinctorum', 7), ('Rubia wallichiana', 12), ('Rubia yunnanensis', 16), ('Rubus idaeus', 29), ('Rumex acetosa ', 122), ('Rumex crispus ', 122), ('Rumex dentatus ', 148), ('Rumex japonicus ', 122), ('Rumex nepalensis ', 122), ('Rumex patientia ', 211), ('Rumex spp.', 122), ('Ruta chalepensis', 119), ('Ruta graveolens', 119), ('Ruta pinnata', 17), ('Salacia campestris', 7), ('Salacia kraussii ', 7), ('Salacia prinoides ', 17), ('Salix caprea ', 43), ('Salix spp.', 44), ('Salix viminalis ', 216), ('Salsola kali', 39), ('Salvia albimaculata', 280), ('Salvia amplexicaulis', 48), ('Salvia argentea ', 25), ('Salvia blepharochaena', 25), ('Salvia blepharophylla', 285), ('Salvia bowleyana', 189), ('Salvia bracteata', 25), ('Salvia caespitosa', 25), ('Salvia calycina', 158), ('Salvia cavaleriei', 208), ('Salvia ceratophylla', 25), ('Salvia chinensis', 189), ('Salvia columbariae ', 25), ('Salvia cyanescens', 18), ('Salvia dominica', 41), ('Salvia dorrii', 92), ('Salvia eriophora', 25), ('Salvia flava ', 31), ('Salvia horminum ', 280), ('Salvia hypoleuca', 18), ('Salvia lavandulifolia ', 233), ('Salvia limbata', 158), ('Salvia macrosiphon', 66), ('Salvia miltiorrhiza ', 226), ('Salvia mirzayana', 25), ('Salvia mirzayani', 41), ('Salvia multicaulis ', 25), ('Salvia nicolsoniana', 180), ('Salvia officinalis', 645), ('Salvia palaestina', 25), ('Salvia pinnata', 177), ('Salvia plebeia ', 158), ('Salvia prionitis ', 33), ('Salvia przewalskii ', 25), ('Salvia recognita', 25), ('Salvia sapinae', 25), ('Salvia sonchifolia', 189), ('Salvia staminea', 50), ('Salvia stenophylla ', 18), ('Salvia syriaca', 84), ('Salvia tomentosa', 66), ('Salvia trijuga', 25), ('Salvia triloba ', 280), ('Salvia verbenaca ', 25), ('Salvia viridis', 27), ('Salvia yunnanensis ', 31), ('Salvinia molesta', 158), ('Sambucus williamsii ', 104), ('Sanguisorba officinalis ', 244), ('Sanicula europaea ', 189), ('Sanicula spp.', 31), ('Santalum album ', 26), ('Sapium haematospermum ', 177), ('Sapium sebiferum ', 135), ('Saposhnikovia divaricata', 133), ('Sapranthus palanga', 60), ('Sarcocapnos baetica', 16), ('Sarcocapnos enneaphylla', 16), ('Sarcocapnos saetabensis', 16), ('Sargentodoxa cuneata ', 244), ('Sassafras randaiense', 61), ('Sassafras randainense', 61), ('Sassafras tzumu', 61), ('Satureja montana ', 15), ('Saururus chinensis ', 296), ('Saussurea candicans', 63), ('Saussurea gossypiphora ', 63), ('Saussurea hieracioides', 63), ('Saussurea lappa', 321), ('Saussurea medusa ', 307), ('Saxifraga azizoon', 151), ('Saxifraga spp.', 39), ('Saxifraga stellaris', 119), ('Saxifraga stolonifera', 26), ('Schefflera arboricola ', 18), ('Schinus terebinthifolius ', 3), ('Schisandra chinensis ', 70), ('Schisandra propinqua', 3), ('Schisandra rubriflora', 1), ('Schizonepeta tenuifolia ', 40), ('Schleichera oleosa ', 462), ('Scoparia dulcis', 358), ('Scorzonera cretica', 203), ('Scorzonera divaricata ', 122), ('Scrophularia buergeriana ', 322), ('Scurrula atropurpurea', 30), ('Scutellaria albida', 158), ('Scutellaria amoena', 61), ('Scutellaria baicalensis ', 67), ('Scutellaria discolor ', 49), ('Scutellaria hypericifolia', 12), ('Scutellaria lateriflora ', 18), ('Scutellaria oreophila', 67), ('Scutellaria orientalis ', 49), ('Scutellaria rehderiana ', 12), ('Scutellaria scordifolia', 12), ('Scutellaria spp.', 6), ('Scutellaria strigillosa', 49), ('Scutellaria viscidula ', 12), ('Sebastiania schottiana', 10), ('Securidaca inappendiculata', 243), ('Securigera cretica', 85), ('Securigera orientalis', 85), ('Sedum acre ', 216), ('Sedum takesimense', 533), ('Semecarpus vitiensis', 210), ('Senecio burtonii', 23), ('Senecio chionophilus', 203), ('Senecio cymosus', 119), ('Senecio nemorensis', 122), ('Senecio oryzetorum', 12), ('Senecio otiles', 119), ('Senecio yegua', 119), ('Senna alata ', 122), ('Senna alexandrina ', 122), ('Senna angustisiliqua', 122), ('Senna auriculata', 122), ('Senna didymobotrya ', 122), ('Senna obliqua', 8), ('Senna obtusifolia ', 122), ('Senna occidentalis ', 122), ('Senna podocarpa ', 122), ('Senna quinquangulata ', 8), ('Senna septemtrionalis', 122), ('Senna sophera ', 122), ('Senna tora ', 127), ('Sequoiadendron giganteum', 44), ('Serratula quinquefolia', 63), ('Serratula radiata', 63), ('Sesbania drummondii', 18), ('Seseli tortuosum', 48), ('Seseli webbii', 65), ('Seseli yunnanense', 48), ('Sideritis angustifolia', 41), ('Sideritis argosphacelus', 203), ('Sideritis baicalensis', 12), ('Sideritis candicans', 207), ('Sideritis catillaris', 280), ('Sideritis discolor', 8), ('Sideritis jahandiezii', 15), ('Sideritis kuegleriana', 23), ('Sideritis mugronensis', 15), ('Sideritis soluta', 45), ('Silene brahuica', 108), ('Silene multijida', 108), ('Silene repens', 108), ('Silene supina', 108), ('Silene turgida', 108), ('Silphium perfoliatum', 244), ('Simaba multiflora ', 9), ('Sinoadina racemosa', 241), ('Sinocrassula indica ', 244), ('Sinodielsia yunnanensis ', 18), ('Sinomenium diversifolium', 38), ('Sinopodophyllum emodi', 57), ('Sinopodophyllum hexandrum', 72), ('Siparuna tonduziana', 60), ('Siphonostegia chinensis ', 82), ('Sisyrinchium spp.', 27), ('Smilax bockii', 12), ('Smilax bracteata ', 179), ('Smilax china ', 25), ('Smilax glabra ', 12), ('Smilax riparia ', 67), ('Solanum chacoense', 8), ('Solanum demissum', 3), ('Solanum habrochaites', 280), ('Solanum indicum ', 12), ('Solanum kieseritzkii', 3), ('Solanum lycopersicum ', 280), ('Solanum neorickii', 280), ('Solanum parviflorum', 280), ('Solanum pennellii', 280), ('Solanum pimpinellifollium', 280), ('Solanum tuberosum', 365), ('Solidago altissima', 457), ('Solidago canadensis ', 189), ('Solidago virgaurea', 158), ('Sonchus arvensis ', 203), ('Sophora alopecuroides', 29), ('Sophora angustifolia', 2), ('Sophora chrysophylla', 17), ('Sophora davidii', 19), ('Sophora flavescens', 35), ('Sophora griffithii Stocks.', 17), ('Sophora gypsophila', 45), ('Sophora japonica', 542), ('Sophora leachiana', 4), ('Sophora macrophylla', 17), ('Sophora moorcroftiana ', 12), ('Sophora pachycarpa', 17), ('Sophora secundiflora ', 257), ('Sophora subprostate', 17), ('Sophora subprostrata ', 501), ('Sophora substrata', 203), ('Sophora tetraptera ', 17), ('Sophora tomentosa ', 57), ('Sophora tonkinensis', 17), ('Sophora viciifolia', 17), ('Sorbus aucuparia ', 6), ('Sorbus commixta ', 177), ('Sorbus decora ', 6), ('Soulamea soulameoides', 9), ('Soymida febrifuga ', 85), ('Sparaxis spp.', 27), ('Sparganium stoloniferum', 172), ('Spartium junceum ', 315), ('Spatholobus suberectus', 48), ('Spinacia oleracea ', 30), ('Spiraea formosana ', 429), ('Sprekelia formosissima', 65), ('Stachys scardica', 108), ('Stachytarpheta jamaicensis ', 122), ('Stauntonia hexahylla', 358), ('Stauntonia obovatifoliola', 127), ('Stauranthus perforatus ', 9), ('Stemodia foliosa', 358), ('Stenocereus eruca', 155), ('Stenochlaena palustris', 33), ('Stephania brachyandra', 8), ('Stephania cepharantha', 168), ('Stephania delavayi', 41), ('Stephania delavayi Diels ', 8), ('Stephania dicentrinifera', 46), ('Stephania dielsiana', 38), ('Stephania dinklagei', 60), ('Stephania elegans', 38), ('Stephania epigaea', 8), ('Stephania erecta', 41), ('Stephania hainanensis ', 38), ('Stephania kuinanensis', 8), ('Stephania mashanica', 8), ('Stephania pierii', 38), ('Stephania pierrei', 46), ('Stephania sasakii', 3), ('Stephania tetrandra ', 113), ('Stereospermum suaveolens ', 11), ('Stereospermum zenkeri', 66), ('Sternbergia lutea', 55), ('Streptocarpus dunnii', 8), ('Striga asiatica ', 15), ('Strobilanthes cusia', 203), ('Strongylodon macrobotrys', 243), ('Struthiola argentea', 44), ('Strychnos colubrina ', 122), ('Strychnos lucida ', 122), ('Strychnos nux-vomica', 122), ('Strychnos potatorum ', 203), ('Strychnos spinosa ', 296), ('Stryphnodendron adstringens ', 17), ('Stylophorum diphyllum', 51), ('Stylophorum lasiocarpum', 164), ('Styphnolobium japonicum ', 67), ('Swartzia polyphylla', 65), ('Symphonia globulifera ', 1), ('Symphonia spp.', 9), ('Symphoricarpos albus', 16), ('Symphytum asperum', 12), ('Symphytum caucasicum', 12), ('Symphytum officinale ', 43), ('Symphytum officinalis', 12), ('Syringa oblata', 66), ('Syzygium aromaticum ', 175), ('Syzygium cordatum ', 125), ('Syzygium cumini ', 468), ('Syzygium formosanum', 483), ('Syzygium samarangense', 85), ('Syzygium spp.', 17), ('Tabebuia avellanedae ', 5), ('Tabebuia guayacan', 16), ('Tabebuia rosea ', 11), ('Tabernaemontana heyneana ', 14), ('Tagetes ercta', 13), ('Tagetes erecta ', 34), ('Taiwania cryptomerioides', 97), ('Taiwania spp.', 12), ('Takakia spp.', 177), ('Talauma gitigensis', 60), ('Talauma mexicana', 60), ('Tamarindus indica ', 108), ('Tamarix chinensis ', 125), ('Tamarix nilotica', 125), ('Tanacetum polycephalum', 21), ('Tanacetum santolinioides', 41), ('Taraxacum formosanum', 288), ('Taraxacum mongolicum ', 280), ('Taraxacum officinale ', 411), ('Taxillus kaempferi', 12), ('Taxillus levinei', 177), ('Taxodium distichum', 175), ('Taxodium lanceolata', 29), ('Taxodium mucronatum', 56), ('Taxus baccata ', 507), ('Taxus brevifolia ', 16), ('Taxus canadensis', 16), ('Taxus chinensis', 10), ('Taxus cuspidata', 16), ('Taxus mairei ', 10), ('Taxus media', 16), ('Taxus sumatrana ', 10), ('Taxus wallichiana ', 60), ('Taxus yunnanensis', 16), ('Teclea nobilis ', 13), ('Tecomella undulata ', 11), ('Tectona grandis ', 42), ('Telekia speciosa', 14), ('Tephrosia candida', 158), ('Tephrosia purpurea ', 361), ('Tephrosia toxicaria', 314), ('Terminalia chebula ', 167), ('Terminalia superba ', 512), ('Ternstroemia cherryi', 155), ('Ternstroemia gymnanthera', 155), ('Ternstroemia merrilliana', 155), ('Tetracentron sinense ', 358), ('Tetracera boiviniana ', 155), ('Tetraclinis articulata', 56), ('Tetragonotheca ludoviciana', 39), ('Tetrapleura tetraptera ', 158), ('Teucrium alyssifolium', 41), ('Teucrium botrys', 41), ('Teucrium polium ', 25), ('Teucrium pseudochamaepitys', 41), ('Teucrium ramosissimum', 25), ('Teucrium scorodonia ', 31), ('Teyleria koordersii', 243), ('Thalictrum atriplex', 151), ('Thalictrum buschianum', 4), ('Thalictrum faberi', 151), ('Thalictrum flavum', 129), ('Thalictrum foetidum ', 151), ('Thalictrum foliolosum ', 151), ('Thalictrum glandulosissimum', 161), ('Thalictrum honanense', 113), ('Thalictrum longipedunculatum', 113), ('Thalictrum microgynum', 151), ('Thalictrum minus', 117), ('Thalictrum orientale', 113), ('Thalictrum petaloideum', 151), ('Thalictrum polygamum', 10), ('Thalictrum przewalskii ', 113), ('Thalictrum purpurescens', 113), ('Thalictrum simplex', 151), ('Thalictrum spp.', 117), ('Thalictrum symplex', 113), ('Thalictrum thunbergii', 151), ('Thalictrum triternatum', 4), ('Thalictrum wanqii', 113), ('Thapsia garganica', 4), ('Thapsia transtagana', 4), ('Thea sinensis ', 122), ('Thelypteris nipponica', 177), ('Theobroma cacao', 645), ('Theobroma grandiflorum', 54), ('Thermopsis alterniflora', 243), ('Thermopsis macrophylla', 243), ('Thermopsis mollis', 243), ('Thermopsis rhombifolia', 243), ('Thermopsis spp.', 14), ('Thermopsis villosa', 243), ('Thespesia populnea', 13), ('Thevetia peruviana ', 307), ('Thuja occidentalis ', 46), ('Thuja orientalis ', 176), ('Thuja plicata', 25), ('Thuja spp.', 44), ('Thuja standishii', 29), ('Thujopsis dolabrata', 31), ('Thymus piperella', 18), ('Thymus sp.', 15), ('Thymus vulgaris ', 189), ('Tilia platyphyllos ', 43), ('Tiliacora dinklagei', 2), ('Tiliacora funifera', 40), ('Tithonia  brachypappa', 45), ('Tithonia diversifolia ', 1), ('Toddalia aculeata', 35), ('Toddalia aculeata Pers. ', 113), ('Toddalia asiatica ', 125), ('Toddalia spp.', 113), ('Torreya jackii', 68), ('Torreya nucifera', 88), ('Torreya yunnanensis', 44), ('Tournefortia sarmentosa', 31), ('Tovomita brasiliensis', 155), ('Toxicodendron succedaneum ', 44), ('Trachelospermum asiaticum', 197), ('Trachelospermum axillare', 68), ('Trachelospermum foetidum', 63), ('Trachelospermum gracilipes', 63), ('Trachelospermum jasminoides ', 63), ('Trachelospermum liukiuense', 63), ('Trachycarpus fortunei ', 125), ('Treculia africana ', 10), ('Tribulus alatus', 177), ('Tribulus terrestris', 111), ('Triclisia gilletii', 38), ('Trifolium alpestre', 188), ('Trifolium campestre', 243), ('Trifolium fragiferum', 30), ('Trifolium globosum', 243), ('Trifolium medium', 188), ('Trifolium montanum', 119), ('Trifolium pannonicum ', 243), ('Trifolium pratense', 862), ('Trifolium repens', 515), ('Trifolium spp.', 243), ('Trifolium subterraneum', 259), ('Trigonella balansae', 193), ('Trigonella calliceras', 85), ('Trigonella cretica', 85), ('Trigonella foenum-graecum ', 298), ('Trigonella geminiflora', 193), ('Trillium erectum ', 12), ('Tripterygium hypoglaucum', 47), ('Tripterygium regelii', 7), ('Tripterygium wilfordii', 27), ('Triticum vulgare ', 15), ('Tritomaria quinquedentata', 14), ('Trivalvaria macrophylla', 60), ('Trollius chinensis ', 108), ('Trollius ledebouri', 108), ('Trollius macropetalus', 108), ('Tsuga heterophylla ', 98), ('Tussilago farfara ', 244), ('Typha angustifolia ', 65), ('Typha domingensis', 349), ('Typha latifolia ', 39), ('Ulex boivinii', 243), ('Ulex europaeus ', 281), ('Ulex gallii', 243), ('Ulex genistoides', 243), ('Ulex micranthus', 243), ('Ulex minor', 243), ('Ulex parviflorus', 243), ('Ulmus sieboldiana', 49), ('Uncaria ferrea ', 12), ('Uncaria gambir ', 125), ('Uncaria guianensis ', 12), ('Uncaria hirsuta ', 119), ('Uncaria homomalla', 12), ('Uncaria laevigata', 12), ('Uncaria lanosa', 12), ('Uncaria longiflora', 12), ('Uncaria orientalis', 12), ('Uncaria rhynchophyllus', 131), ('Uncaria scandens ', 12), ('Uncaria sinensis ', 170), ('Uncaria tomentosa ', 12), ('Uncaria veluntina', 12), ('Ungernia sewerzowii', 55), ('Ungernia trisphaera', 55), ('Urginea altissima', 58), ('Urtica dioica ', 378), ('Uvaria mocali', 60), ('Vaccinium macrocarpon ', 33), ('Vaccinium vitis-idaea ', 26), ('Valeriana jatamansii ', 320), ('Valeriana laxiflora', 357), ('Valeriana officinalis', 198), ('Valeriana prionophylla ', 122), ('Vandasina retusa', 243), ('Vatairea heteroptera', 122), ('Vatica cinerea', 155), ('Ventilago calyculata ', 122), ('Ventilago leiocarpa', 368), ('Vepris punctata', 216), ('Verbena officinalis', 203), ('Vernonia erdverbengii', 203), ('Vernonia mollissima', 21), ('Vernonia spp. ', 14), ('Vexibia pachycarpa', 17), ('Viburnum prunifolium ', 44), ('Vicia bithynica', 85), ('Vicia faba ', 206), ('Vicia johannis', 85), ('Vicia sativa ', 177), ('Vigna angularis ', 243), ('Vigna mungo ', 351), ('Vigna radiata ', 381), ('Vigna subterranea ', 243), ('Vigna trilobata', 108), ('Vigna unguiculata ', 30), ('Viguiera rosei', 19), ('Viguiera spp.', 45), ('Viscum angulatum', 65), ('Viscum coloratum ', 694), ('Vismia laurentii ', 122), ('Vismia orientalis', 123), ('Vitex agnus-castus ', 21), ('Vitex littoralis', 108), ('Vitex lucens', 108), ('Vitex negundo ', 21), ('Vitex polygama ', 108), ('Vitex rotundifolia ', 21), ('Vitex trifolia ', 129), ('Vitis vinifera', 314), ('Vittaria anguste-elongata', 250), ('Warburgia stuhlmannii ', 283), ('Wikstroemia indica ', 63), ('Wikstroemia viridiflora', 63), ('Wisteria brachybotrys', 243), ('Woodwardia orientalis ', 158), ('Woodwardia prolifera', 158), ('Xanthium canadense', 23), ('Xanthium strumarium ', 158), ('Xanthoceras sorbifolia ', 167), ('Xanthorhiza simplicissima', 173), ('Xanthorrhoea australis', 26), ('Xylopia aromatica ', 177), ('Xylopia parviflora ', 14), ('Xyris pteygoblephara', 67), ('Zamia spp.', 44), ('Zanthoxylum ailanthoides ', 136), ('Zanthoxylum alatum ', 10), ('Zanthoxylum americanum ', 14), ('Zanthoxylum armatum ', 203), ('Zanthoxylum arnottianum', 26), ('Zanthoxylum avicennae ', 14), ('Zanthoxylum belizense', 40), ('Zanthoxylum bungeanum ', 14), ('Zanthoxylum caudatum', 60), ('Zanthoxylum chiloperone', 14), ('Zanthoxylum clava-herculis', 14), ('Zanthoxylum coriaceum', 35), ('Zanthoxylum culantrillo', 203), ('Zanthoxylum cuspidatum', 74), ('Zanthoxylum dipetalum', 280), ('Zanthoxylum dissitum', 14), ('Zanthoxylum echinocarpum', 14), ('Zanthoxylum elephantiasis', 14), ('Zanthoxylum fagara', 35), ('Zanthoxylum flavum ', 99), ('Zanthoxylum integrifoliolum ', 14), ('Zanthoxylum monophyllum ', 35), ('Zanthoxylum myriacanthum', 14), ('Zanthoxylum nitidum ', 109), ('Zanthoxylum ovalifolium', 14), ('Zanthoxylum piperitum ', 10), ('Zanthoxylum spinosum', 35), ('Zanthoxylum spp.', 113), ('Zanthoxylum suberosum', 14), ('Zanthoxylum tetraspermum ', 60), ('Zanthoxylum usambarense ', 49), ('Zanthoxylum williamsii', 35), ('Zanthoxylum zanthoxyloides', 1), ('Zea mays', 282), ('Zephyranthes candida ', 65), ('Zephyranthes carinata', 10), ('Zephyranthes citrina', 55), ('Zephyranthes grandiflora ', 8), ('Zephyranthes rosea', 55), ('Zephyranthes texana', 55), ('Zingiber aromaticum ', 1), ('Zingiber cassumunar', 13), ('Zingiber officinale', 41), ('Zinnia elegans ', 177), ('Ziziphora hispanica ', 41), ('Ziziphus cambodiana', 155), ('Ziziphus jujuba', 470), ('Zollernia paraensis', 45)]\n"
          ]
        }
      ],
      "source": [
        "d = subG.degree()\n",
        "print(d)\n",
        "d = subG.degree(weight='weight')\n",
        "print(d)"
      ]
    },
    {
      "cell_type": "code",
      "execution_count": 17,
      "metadata": {
        "id": "Xl4mDrI2pW7k",
        "outputId": "997f4e28-876c-42f1-f722-c640426d9c60",
        "colab": {
          "base_uri": "https://localhost:8080/",
          "height": 400
        }
      },
      "outputs": [
        {
          "output_type": "execute_result",
          "data": {
            "text/plain": [
              "Met                   C00000113  C00000152  C00000258  C00000269  C00000270  \\\n",
              "Plant                                                                         \n",
              "Abelmoschus manihot           0          0          0          0          0   \n",
              "Abies alba                    0          0          0          0          0   \n",
              "Abies amabilis                0          0          0          0          0   \n",
              "Abies lasiocarpa              0          0          0          0          0   \n",
              "Abrus precatorius             0          0          0          0          0   \n",
              "\n",
              "Met                   C00000271  C00000272  C00000297  C00000555  C00000582  \\\n",
              "Plant                                                                         \n",
              "Abelmoschus manihot           0          0          0          0          0   \n",
              "Abies alba                    0          0          0          0          0   \n",
              "Abies amabilis                0          0          0          0          0   \n",
              "Abies lasiocarpa              0          0          0          0          0   \n",
              "Abrus precatorius             0          0          0          0          0   \n",
              "\n",
              "Met                   ...  C00051623  C00051630  C00051631  C00051632  \\\n",
              "Plant                 ...                                               \n",
              "Abelmoschus manihot   ...          0          0          0          0   \n",
              "Abies alba            ...          0          0          0          0   \n",
              "Abies amabilis        ...          0          0          0          0   \n",
              "Abies lasiocarpa      ...          0          0          0          0   \n",
              "Abrus precatorius     ...          0          0          0          0   \n",
              "\n",
              "Met                   C00051633  C00051634  C00051635  C00051636  C00051637  \\\n",
              "Plant                                                                         \n",
              "Abelmoschus manihot           0          0          0          0          0   \n",
              "Abies alba                    0          0          0          0          0   \n",
              "Abies amabilis                0          0          0          0          0   \n",
              "Abies lasiocarpa              0          0          0          0          0   \n",
              "Abrus precatorius             0          0          0          0          0   \n",
              "\n",
              "Met                   C00051667  \n",
              "Plant                            \n",
              "Abelmoschus manihot           0  \n",
              "Abies alba                    0  \n",
              "Abies amabilis                0  \n",
              "Abies lasiocarpa              0  \n",
              "Abrus precatorius             0  \n",
              "\n",
              "[5 rows x 538 columns]"
            ],
            "text/html": [
              "\n",
              "  <div id=\"df-133de050-8aa0-4397-afe4-b096bc6f99c5\">\n",
              "    <div class=\"colab-df-container\">\n",
              "      <div>\n",
              "<style scoped>\n",
              "    .dataframe tbody tr th:only-of-type {\n",
              "        vertical-align: middle;\n",
              "    }\n",
              "\n",
              "    .dataframe tbody tr th {\n",
              "        vertical-align: top;\n",
              "    }\n",
              "\n",
              "    .dataframe thead th {\n",
              "        text-align: right;\n",
              "    }\n",
              "</style>\n",
              "<table border=\"1\" class=\"dataframe\">\n",
              "  <thead>\n",
              "    <tr style=\"text-align: right;\">\n",
              "      <th>Met</th>\n",
              "      <th>C00000113</th>\n",
              "      <th>C00000152</th>\n",
              "      <th>C00000258</th>\n",
              "      <th>C00000269</th>\n",
              "      <th>C00000270</th>\n",
              "      <th>C00000271</th>\n",
              "      <th>C00000272</th>\n",
              "      <th>C00000297</th>\n",
              "      <th>C00000555</th>\n",
              "      <th>C00000582</th>\n",
              "      <th>...</th>\n",
              "      <th>C00051623</th>\n",
              "      <th>C00051630</th>\n",
              "      <th>C00051631</th>\n",
              "      <th>C00051632</th>\n",
              "      <th>C00051633</th>\n",
              "      <th>C00051634</th>\n",
              "      <th>C00051635</th>\n",
              "      <th>C00051636</th>\n",
              "      <th>C00051637</th>\n",
              "      <th>C00051667</th>\n",
              "    </tr>\n",
              "    <tr>\n",
              "      <th>Plant</th>\n",
              "      <th></th>\n",
              "      <th></th>\n",
              "      <th></th>\n",
              "      <th></th>\n",
              "      <th></th>\n",
              "      <th></th>\n",
              "      <th></th>\n",
              "      <th></th>\n",
              "      <th></th>\n",
              "      <th></th>\n",
              "      <th></th>\n",
              "      <th></th>\n",
              "      <th></th>\n",
              "      <th></th>\n",
              "      <th></th>\n",
              "      <th></th>\n",
              "      <th></th>\n",
              "      <th></th>\n",
              "      <th></th>\n",
              "      <th></th>\n",
              "      <th></th>\n",
              "    </tr>\n",
              "  </thead>\n",
              "  <tbody>\n",
              "    <tr>\n",
              "      <th>Abelmoschus manihot</th>\n",
              "      <td>0</td>\n",
              "      <td>0</td>\n",
              "      <td>0</td>\n",
              "      <td>0</td>\n",
              "      <td>0</td>\n",
              "      <td>0</td>\n",
              "      <td>0</td>\n",
              "      <td>0</td>\n",
              "      <td>0</td>\n",
              "      <td>0</td>\n",
              "      <td>...</td>\n",
              "      <td>0</td>\n",
              "      <td>0</td>\n",
              "      <td>0</td>\n",
              "      <td>0</td>\n",
              "      <td>0</td>\n",
              "      <td>0</td>\n",
              "      <td>0</td>\n",
              "      <td>0</td>\n",
              "      <td>0</td>\n",
              "      <td>0</td>\n",
              "    </tr>\n",
              "    <tr>\n",
              "      <th>Abies alba</th>\n",
              "      <td>0</td>\n",
              "      <td>0</td>\n",
              "      <td>0</td>\n",
              "      <td>0</td>\n",
              "      <td>0</td>\n",
              "      <td>0</td>\n",
              "      <td>0</td>\n",
              "      <td>0</td>\n",
              "      <td>0</td>\n",
              "      <td>0</td>\n",
              "      <td>...</td>\n",
              "      <td>0</td>\n",
              "      <td>0</td>\n",
              "      <td>0</td>\n",
              "      <td>0</td>\n",
              "      <td>0</td>\n",
              "      <td>0</td>\n",
              "      <td>0</td>\n",
              "      <td>0</td>\n",
              "      <td>0</td>\n",
              "      <td>0</td>\n",
              "    </tr>\n",
              "    <tr>\n",
              "      <th>Abies amabilis</th>\n",
              "      <td>0</td>\n",
              "      <td>0</td>\n",
              "      <td>0</td>\n",
              "      <td>0</td>\n",
              "      <td>0</td>\n",
              "      <td>0</td>\n",
              "      <td>0</td>\n",
              "      <td>0</td>\n",
              "      <td>0</td>\n",
              "      <td>0</td>\n",
              "      <td>...</td>\n",
              "      <td>0</td>\n",
              "      <td>0</td>\n",
              "      <td>0</td>\n",
              "      <td>0</td>\n",
              "      <td>0</td>\n",
              "      <td>0</td>\n",
              "      <td>0</td>\n",
              "      <td>0</td>\n",
              "      <td>0</td>\n",
              "      <td>0</td>\n",
              "    </tr>\n",
              "    <tr>\n",
              "      <th>Abies lasiocarpa</th>\n",
              "      <td>0</td>\n",
              "      <td>0</td>\n",
              "      <td>0</td>\n",
              "      <td>0</td>\n",
              "      <td>0</td>\n",
              "      <td>0</td>\n",
              "      <td>0</td>\n",
              "      <td>0</td>\n",
              "      <td>0</td>\n",
              "      <td>0</td>\n",
              "      <td>...</td>\n",
              "      <td>0</td>\n",
              "      <td>0</td>\n",
              "      <td>0</td>\n",
              "      <td>0</td>\n",
              "      <td>0</td>\n",
              "      <td>0</td>\n",
              "      <td>0</td>\n",
              "      <td>0</td>\n",
              "      <td>0</td>\n",
              "      <td>0</td>\n",
              "    </tr>\n",
              "    <tr>\n",
              "      <th>Abrus precatorius</th>\n",
              "      <td>0</td>\n",
              "      <td>0</td>\n",
              "      <td>0</td>\n",
              "      <td>0</td>\n",
              "      <td>0</td>\n",
              "      <td>0</td>\n",
              "      <td>0</td>\n",
              "      <td>0</td>\n",
              "      <td>0</td>\n",
              "      <td>0</td>\n",
              "      <td>...</td>\n",
              "      <td>0</td>\n",
              "      <td>0</td>\n",
              "      <td>0</td>\n",
              "      <td>0</td>\n",
              "      <td>0</td>\n",
              "      <td>0</td>\n",
              "      <td>0</td>\n",
              "      <td>0</td>\n",
              "      <td>0</td>\n",
              "      <td>0</td>\n",
              "    </tr>\n",
              "  </tbody>\n",
              "</table>\n",
              "<p>5 rows × 538 columns</p>\n",
              "</div>\n",
              "      <button class=\"colab-df-convert\" onclick=\"convertToInteractive('df-133de050-8aa0-4397-afe4-b096bc6f99c5')\"\n",
              "              title=\"Convert this dataframe to an interactive table.\"\n",
              "              style=\"display:none;\">\n",
              "        \n",
              "  <svg xmlns=\"http://www.w3.org/2000/svg\" height=\"24px\"viewBox=\"0 0 24 24\"\n",
              "       width=\"24px\">\n",
              "    <path d=\"M0 0h24v24H0V0z\" fill=\"none\"/>\n",
              "    <path d=\"M18.56 5.44l.94 2.06.94-2.06 2.06-.94-2.06-.94-.94-2.06-.94 2.06-2.06.94zm-11 1L8.5 8.5l.94-2.06 2.06-.94-2.06-.94L8.5 2.5l-.94 2.06-2.06.94zm10 10l.94 2.06.94-2.06 2.06-.94-2.06-.94-.94-2.06-.94 2.06-2.06.94z\"/><path d=\"M17.41 7.96l-1.37-1.37c-.4-.4-.92-.59-1.43-.59-.52 0-1.04.2-1.43.59L10.3 9.45l-7.72 7.72c-.78.78-.78 2.05 0 2.83L4 21.41c.39.39.9.59 1.41.59.51 0 1.02-.2 1.41-.59l7.78-7.78 2.81-2.81c.8-.78.8-2.07 0-2.86zM5.41 20L4 18.59l7.72-7.72 1.47 1.35L5.41 20z\"/>\n",
              "  </svg>\n",
              "      </button>\n",
              "      \n",
              "  <style>\n",
              "    .colab-df-container {\n",
              "      display:flex;\n",
              "      flex-wrap:wrap;\n",
              "      gap: 12px;\n",
              "    }\n",
              "\n",
              "    .colab-df-convert {\n",
              "      background-color: #E8F0FE;\n",
              "      border: none;\n",
              "      border-radius: 50%;\n",
              "      cursor: pointer;\n",
              "      display: none;\n",
              "      fill: #1967D2;\n",
              "      height: 32px;\n",
              "      padding: 0 0 0 0;\n",
              "      width: 32px;\n",
              "    }\n",
              "\n",
              "    .colab-df-convert:hover {\n",
              "      background-color: #E2EBFA;\n",
              "      box-shadow: 0px 1px 2px rgba(60, 64, 67, 0.3), 0px 1px 3px 1px rgba(60, 64, 67, 0.15);\n",
              "      fill: #174EA6;\n",
              "    }\n",
              "\n",
              "    [theme=dark] .colab-df-convert {\n",
              "      background-color: #3B4455;\n",
              "      fill: #D2E3FC;\n",
              "    }\n",
              "\n",
              "    [theme=dark] .colab-df-convert:hover {\n",
              "      background-color: #434B5C;\n",
              "      box-shadow: 0px 1px 3px 1px rgba(0, 0, 0, 0.15);\n",
              "      filter: drop-shadow(0px 1px 2px rgba(0, 0, 0, 0.3));\n",
              "      fill: #FFFFFF;\n",
              "    }\n",
              "  </style>\n",
              "\n",
              "      <script>\n",
              "        const buttonEl =\n",
              "          document.querySelector('#df-133de050-8aa0-4397-afe4-b096bc6f99c5 button.colab-df-convert');\n",
              "        buttonEl.style.display =\n",
              "          google.colab.kernel.accessAllowed ? 'block' : 'none';\n",
              "\n",
              "        async function convertToInteractive(key) {\n",
              "          const element = document.querySelector('#df-133de050-8aa0-4397-afe4-b096bc6f99c5');\n",
              "          const dataTable =\n",
              "            await google.colab.kernel.invokeFunction('convertToInteractive',\n",
              "                                                     [key], {});\n",
              "          if (!dataTable) return;\n",
              "\n",
              "          const docLinkHtml = 'Like what you see? Visit the ' +\n",
              "            '<a target=\"_blank\" href=https://colab.research.google.com/notebooks/data_table.ipynb>data table notebook</a>'\n",
              "            + ' to learn more about interactive tables.';\n",
              "          element.innerHTML = '';\n",
              "          dataTable['output_type'] = 'display_data';\n",
              "          await google.colab.output.renderOutput(dataTable, element);\n",
              "          const docLink = document.createElement('div');\n",
              "          docLink.innerHTML = docLinkHtml;\n",
              "          element.appendChild(docLink);\n",
              "        }\n",
              "      </script>\n",
              "    </div>\n",
              "  </div>\n",
              "  "
            ]
          },
          "metadata": {},
          "execution_count": 17
        }
      ],
      "source": [
        "dfct_subG.head()"
      ]
    },
    {
      "cell_type": "code",
      "execution_count": 18,
      "metadata": {
        "id": "YyOXdE_UpW7k",
        "outputId": "a5c6586e-933f-4c81-941f-d5cc7759ef3f",
        "colab": {
          "base_uri": "https://localhost:8080/"
        }
      },
      "outputs": [
        {
          "output_type": "stream",
          "name": "stdout",
          "text": [
            "Number of Metabolites in connected subG of AC:  538\n",
            "Number of Metabolites in Wound healing:  7416\n",
            "Number of intersection Meabolites: 310\n"
          ]
        }
      ],
      "source": [
        "print('Number of Metabolites in connected subG of AC: ', len(dfct_subG.columns))\n",
        "second_graph_edges = list(true_df[edge_objects].unique())\n",
        "print('Number of Metabolites in Wound healing: ',len(second_graph_edges))\n",
        "intersected_edges = set(dfct_subG.columns).intersection(set(second_graph_edges))\n",
        "print('Number of intersection Meabolites:', len(intersected_edges))"
      ]
    },
    {
      "cell_type": "code",
      "execution_count": 19,
      "metadata": {
        "id": "cTRHC3cPpW7k"
      },
      "outputs": [],
      "source": [
        "dfct_subG_cp = dfct_subG.copy()\n",
        "# dfct_subG_cp.head()\n"
      ]
    },
    {
      "cell_type": "code",
      "execution_count": 20,
      "metadata": {
        "id": "aHEqQMUypW7l",
        "outputId": "13fe8518-b2c3-4ee0-fb08-c0e40b92225c",
        "colab": {
          "base_uri": "https://localhost:8080/"
        }
      },
      "outputs": [
        {
          "output_type": "stream",
          "name": "stdout",
          "text": [
            "14\n",
            "21\n"
          ]
        }
      ],
      "source": [
        "print(dfct_subG_cp.loc['Angelica furcijuga'].sum())\n",
        "for row in range(dfct_subG_cp.shape[0]):\n",
        "    for e in intersected_edges:\n",
        "        if dfct_subG_cp.iloc[row][e] != 0:\n",
        "            dfct_subG_cp.iloc[row][e] += 1\n",
        "# dfct_subG_cp.loc['Angelica furcijuga','C00000113']\n",
        "print(dfct_subG_cp.loc['Angelica furcijuga'].sum())"
      ]
    },
    {
      "cell_type": "markdown",
      "metadata": {
        "id": "-vfy4sTRpW7l"
      },
      "source": [
        "فقط ده گیاه مشترک در دو فایل داریم و نود متابولیت مشترک.\n",
        "الان از متابولیت‌های فایل دوم هیچ استفاده‌ای نداریم. "
      ]
    },
    {
      "cell_type": "code",
      "execution_count": 21,
      "metadata": {
        "id": "Rt3CSoOupW7l",
        "outputId": "78743717-5ca0-4dad-fb77-03ef1b025432",
        "colab": {
          "base_uri": "https://localhost:8080/"
        }
      },
      "outputs": [
        {
          "output_type": "stream",
          "name": "stdout",
          "text": [
            "Number of Plants in connected subG of AC:  3050\n",
            "Number of Plants in Wound healing:  403\n",
            "Number of intersection Plants: 72\n"
          ]
        }
      ],
      "source": [
        "print('Number of Plants in connected subG of AC: ',len(dfct_subG.index.values)) \n",
        "second_graph_nodes = list(true_df[node_objects].unique())\n",
        "print('Number of Plants in Wound healing: ',len(second_graph_nodes))\n",
        "print('Number of intersection Plants:',len(set(dfct_subG.index.values).intersection(set(second_graph_nodes))))\n",
        "# len(dfct.index.values)"
      ]
    },
    {
      "cell_type": "code",
      "execution_count": 22,
      "metadata": {
        "id": "YElwR45TpW7m",
        "outputId": "eb54e65f-bf42-4b28-f252-c8e123b79122",
        "colab": {
          "base_uri": "https://localhost:8080/"
        }
      },
      "outputs": [
        {
          "output_type": "stream",
          "name": "stdout",
          "text": [
            "(('Abelmoschus manihot ', 'Abies amabilis'), ('Abelmoschus manihot ', 'Acacia aroma '), ('Abelmoschus manihot ', 'Acacia caven '), ('Abelmoschus manihot ', 'Acacia cyanophylla'))\n",
            "(2, 1, 1, 1)\n"
          ]
        }
      ],
      "source": [
        "edges,weights = zip(*nx.get_edge_attributes(subG,'weight').items())\n",
        "print(edges[:4])\n",
        "print(weights[:4])"
      ]
    },
    {
      "cell_type": "code",
      "execution_count": 23,
      "metadata": {
        "id": "TwUbLnxtpW7m",
        "outputId": "e5ef1146-df16-4e18-e600-0eadfa5f4fc6",
        "colab": {
          "base_uri": "https://localhost:8080/"
        }
      },
      "outputs": [
        {
          "output_type": "execute_result",
          "data": {
            "text/plain": [
              "12"
            ]
          },
          "metadata": {},
          "execution_count": 23
        }
      ],
      "source": [
        "# subG['Angelica furcijuga']\n",
        "list1 = list(dfct_subG.loc['Angelica furcijuga'])\n",
        "list2 = list(dfct_subG.loc['Camellia sinensis'])\n",
        "list3 = [sum(x) for x in zip(list1, list2)]\n",
        "indices = [i for i, x in enumerate(list3) if x == 2]\n",
        "len(indices)\n",
        "# دو یعنی در دو متابولیت مشترک بوده‌اند"
      ]
    },
    {
      "cell_type": "code",
      "execution_count": 24,
      "metadata": {
        "id": "BD0EeZAHpW7n",
        "outputId": "4121780c-dacc-4afb-ab88-09ab0fda57d5",
        "colab": {
          "base_uri": "https://localhost:8080/"
        }
      },
      "outputs": [
        {
          "output_type": "stream",
          "name": "stdout",
          "text": [
            "(('Abelmoschus manihot ', 'Abies amabilis'), ('Abelmoschus manihot ', 'Acacia aroma '), ('Abelmoschus manihot ', 'Acacia caven '), ('Abelmoschus manihot ', 'Acacia cyanophylla'))\n",
            "(2, 1, 1, 1)\n"
          ]
        }
      ],
      "source": [
        "edges,weights = zip(*nx.get_edge_attributes(G,'weight').items())\n",
        "print(edges[:4])\n",
        "print(weights[:4])"
      ]
    },
    {
      "cell_type": "code",
      "execution_count": 25,
      "metadata": {
        "id": "nouaiKlYpW7o",
        "outputId": "c91e7930-ffcf-449b-8a5b-cd0604bf813a",
        "colab": {
          "base_uri": "https://localhost:8080/"
        }
      },
      "outputs": [
        {
          "output_type": "execute_result",
          "data": {
            "text/plain": [
              "Arabidopsis thaliana       14\n",
              "Annona muricata            14\n",
              "Morus alba                 13\n",
              "Citrus spp.                13\n",
              "Citrus aurantium           11\n",
              "                           ..\n",
              "Cephalotaxus drupacea       1\n",
              "Cephalotaxus hainensis      1\n",
              "Maytenus guangsinensis      1\n",
              "Maytenus senata             1\n",
              "Chrysosplenium grayanum     1\n",
              "Name: Plant, Length: 3251, dtype: int64"
            ]
          },
          "metadata": {},
          "execution_count": 25
        }
      ],
      "source": [
        "wdf[node_objects].value_counts()"
      ]
    },
    {
      "cell_type": "code",
      "execution_count": 26,
      "metadata": {
        "id": "TcqRhxEWpW7o",
        "outputId": "4563c892-036e-459a-f7a6-56ece3439040",
        "colab": {
          "base_uri": "https://localhost:8080/"
        }
      },
      "outputs": [
        {
          "output_type": "execute_result",
          "data": {
            "text/plain": [
              "0          Arabidopsis thaliana\n",
              "1          Arabidopsis thaliana\n",
              "2          Arabidopsis thaliana\n",
              "3          Arabidopsis thaliana\n",
              "4          Arabidopsis thaliana\n",
              "                 ...           \n",
              "5387          Citrus tachibana \n",
              "5388          Citrus tachibana \n",
              "5389         Vernonia lasiopus \n",
              "5390          Citrus paradisi x\n",
              "5391    Chrysosplenium grayanum\n",
              "Name: Plant, Length: 5392, dtype: object"
            ]
          },
          "metadata": {},
          "execution_count": 26
        }
      ],
      "source": [
        "# df.head()\n",
        "wdf[node_objects]"
      ]
    }
  ],
  "metadata": {
    "accelerator": "GPU",
    "colab": {
      "collapsed_sections": [],
      "name": "FS_in_Bio_Graphs.ipynb",
      "provenance": []
    },
    "kernelspec": {
      "display_name": "Python 3",
      "language": "python",
      "name": "python3"
    },
    "language_info": {
      "codemirror_mode": {
        "name": "ipython",
        "version": 3
      },
      "file_extension": ".py",
      "mimetype": "text/x-python",
      "name": "python",
      "nbconvert_exporter": "python",
      "pygments_lexer": "ipython3",
      "version": "3.7.11"
    },
    "widgets": {
      "application/vnd.jupyter.widget-state+json": {
        "263efa2deb4b412a9de38e366099cf20": {
          "model_module": "@jupyter-widgets/controls",
          "model_name": "HBoxModel",
          "model_module_version": "1.5.0",
          "state": {
            "_dom_classes": [],
            "_model_module": "@jupyter-widgets/controls",
            "_model_module_version": "1.5.0",
            "_model_name": "HBoxModel",
            "_view_count": null,
            "_view_module": "@jupyter-widgets/controls",
            "_view_module_version": "1.5.0",
            "_view_name": "HBoxView",
            "box_style": "",
            "children": [
              "IPY_MODEL_cf8127d5ef164fcd900efd22a1a3b846",
              "IPY_MODEL_33a897e829534a37a08b2d3134ba3aa1",
              "IPY_MODEL_c2965ba233f04347a2e3bdaa0117d66d"
            ],
            "layout": "IPY_MODEL_a4e712c0a8d649eeb3fbc9c0b2e54f6a"
          }
        },
        "cf8127d5ef164fcd900efd22a1a3b846": {
          "model_module": "@jupyter-widgets/controls",
          "model_name": "HTMLModel",
          "model_module_version": "1.5.0",
          "state": {
            "_dom_classes": [],
            "_model_module": "@jupyter-widgets/controls",
            "_model_module_version": "1.5.0",
            "_model_name": "HTMLModel",
            "_view_count": null,
            "_view_module": "@jupyter-widgets/controls",
            "_view_module_version": "1.5.0",
            "_view_name": "HTMLView",
            "description": "",
            "description_tooltip": null,
            "layout": "IPY_MODEL_9e013eabde084c249e80c5f2b0d2b53d",
            "placeholder": "​",
            "style": "IPY_MODEL_14e0179a174a4581ace36ae0dbbf7b92",
            "value": "  0%"
          }
        },
        "33a897e829534a37a08b2d3134ba3aa1": {
          "model_module": "@jupyter-widgets/controls",
          "model_name": "FloatProgressModel",
          "model_module_version": "1.5.0",
          "state": {
            "_dom_classes": [],
            "_model_module": "@jupyter-widgets/controls",
            "_model_module_version": "1.5.0",
            "_model_name": "FloatProgressModel",
            "_view_count": null,
            "_view_module": "@jupyter-widgets/controls",
            "_view_module_version": "1.5.0",
            "_view_name": "ProgressView",
            "bar_style": "danger",
            "description": "",
            "description_tooltip": null,
            "layout": "IPY_MODEL_483fa2d1b983435c811e86b74ca70729",
            "max": 1,
            "min": 0,
            "orientation": "horizontal",
            "style": "IPY_MODEL_27526bec3bc540c9985cf0a15311c319",
            "value": 0
          }
        },
        "c2965ba233f04347a2e3bdaa0117d66d": {
          "model_module": "@jupyter-widgets/controls",
          "model_name": "HTMLModel",
          "model_module_version": "1.5.0",
          "state": {
            "_dom_classes": [],
            "_model_module": "@jupyter-widgets/controls",
            "_model_module_version": "1.5.0",
            "_model_name": "HTMLModel",
            "_view_count": null,
            "_view_module": "@jupyter-widgets/controls",
            "_view_module_version": "1.5.0",
            "_view_name": "HTMLView",
            "description": "",
            "description_tooltip": null,
            "layout": "IPY_MODEL_d096e3e7d3b84188ac1591e458aca835",
            "placeholder": "​",
            "style": "IPY_MODEL_b2d240a050eb4315ad22213285344a4a",
            "value": " 0/1 [02:28&lt;?, ?it/s]"
          }
        },
        "a4e712c0a8d649eeb3fbc9c0b2e54f6a": {
          "model_module": "@jupyter-widgets/base",
          "model_name": "LayoutModel",
          "model_module_version": "1.2.0",
          "state": {
            "_model_module": "@jupyter-widgets/base",
            "_model_module_version": "1.2.0",
            "_model_name": "LayoutModel",
            "_view_count": null,
            "_view_module": "@jupyter-widgets/base",
            "_view_module_version": "1.2.0",
            "_view_name": "LayoutView",
            "align_content": null,
            "align_items": null,
            "align_self": null,
            "border": null,
            "bottom": null,
            "display": null,
            "flex": null,
            "flex_flow": null,
            "grid_area": null,
            "grid_auto_columns": null,
            "grid_auto_flow": null,
            "grid_auto_rows": null,
            "grid_column": null,
            "grid_gap": null,
            "grid_row": null,
            "grid_template_areas": null,
            "grid_template_columns": null,
            "grid_template_rows": null,
            "height": null,
            "justify_content": null,
            "justify_items": null,
            "left": null,
            "margin": null,
            "max_height": null,
            "max_width": null,
            "min_height": null,
            "min_width": null,
            "object_fit": null,
            "object_position": null,
            "order": null,
            "overflow": null,
            "overflow_x": null,
            "overflow_y": null,
            "padding": null,
            "right": null,
            "top": null,
            "visibility": null,
            "width": null
          }
        },
        "9e013eabde084c249e80c5f2b0d2b53d": {
          "model_module": "@jupyter-widgets/base",
          "model_name": "LayoutModel",
          "model_module_version": "1.2.0",
          "state": {
            "_model_module": "@jupyter-widgets/base",
            "_model_module_version": "1.2.0",
            "_model_name": "LayoutModel",
            "_view_count": null,
            "_view_module": "@jupyter-widgets/base",
            "_view_module_version": "1.2.0",
            "_view_name": "LayoutView",
            "align_content": null,
            "align_items": null,
            "align_self": null,
            "border": null,
            "bottom": null,
            "display": null,
            "flex": null,
            "flex_flow": null,
            "grid_area": null,
            "grid_auto_columns": null,
            "grid_auto_flow": null,
            "grid_auto_rows": null,
            "grid_column": null,
            "grid_gap": null,
            "grid_row": null,
            "grid_template_areas": null,
            "grid_template_columns": null,
            "grid_template_rows": null,
            "height": null,
            "justify_content": null,
            "justify_items": null,
            "left": null,
            "margin": null,
            "max_height": null,
            "max_width": null,
            "min_height": null,
            "min_width": null,
            "object_fit": null,
            "object_position": null,
            "order": null,
            "overflow": null,
            "overflow_x": null,
            "overflow_y": null,
            "padding": null,
            "right": null,
            "top": null,
            "visibility": null,
            "width": null
          }
        },
        "14e0179a174a4581ace36ae0dbbf7b92": {
          "model_module": "@jupyter-widgets/controls",
          "model_name": "DescriptionStyleModel",
          "model_module_version": "1.5.0",
          "state": {
            "_model_module": "@jupyter-widgets/controls",
            "_model_module_version": "1.5.0",
            "_model_name": "DescriptionStyleModel",
            "_view_count": null,
            "_view_module": "@jupyter-widgets/base",
            "_view_module_version": "1.2.0",
            "_view_name": "StyleView",
            "description_width": ""
          }
        },
        "483fa2d1b983435c811e86b74ca70729": {
          "model_module": "@jupyter-widgets/base",
          "model_name": "LayoutModel",
          "model_module_version": "1.2.0",
          "state": {
            "_model_module": "@jupyter-widgets/base",
            "_model_module_version": "1.2.0",
            "_model_name": "LayoutModel",
            "_view_count": null,
            "_view_module": "@jupyter-widgets/base",
            "_view_module_version": "1.2.0",
            "_view_name": "LayoutView",
            "align_content": null,
            "align_items": null,
            "align_self": null,
            "border": null,
            "bottom": null,
            "display": null,
            "flex": null,
            "flex_flow": null,
            "grid_area": null,
            "grid_auto_columns": null,
            "grid_auto_flow": null,
            "grid_auto_rows": null,
            "grid_column": null,
            "grid_gap": null,
            "grid_row": null,
            "grid_template_areas": null,
            "grid_template_columns": null,
            "grid_template_rows": null,
            "height": null,
            "justify_content": null,
            "justify_items": null,
            "left": null,
            "margin": null,
            "max_height": null,
            "max_width": null,
            "min_height": null,
            "min_width": null,
            "object_fit": null,
            "object_position": null,
            "order": null,
            "overflow": null,
            "overflow_x": null,
            "overflow_y": null,
            "padding": null,
            "right": null,
            "top": null,
            "visibility": null,
            "width": null
          }
        },
        "27526bec3bc540c9985cf0a15311c319": {
          "model_module": "@jupyter-widgets/controls",
          "model_name": "ProgressStyleModel",
          "model_module_version": "1.5.0",
          "state": {
            "_model_module": "@jupyter-widgets/controls",
            "_model_module_version": "1.5.0",
            "_model_name": "ProgressStyleModel",
            "_view_count": null,
            "_view_module": "@jupyter-widgets/base",
            "_view_module_version": "1.2.0",
            "_view_name": "StyleView",
            "bar_color": null,
            "description_width": ""
          }
        },
        "d096e3e7d3b84188ac1591e458aca835": {
          "model_module": "@jupyter-widgets/base",
          "model_name": "LayoutModel",
          "model_module_version": "1.2.0",
          "state": {
            "_model_module": "@jupyter-widgets/base",
            "_model_module_version": "1.2.0",
            "_model_name": "LayoutModel",
            "_view_count": null,
            "_view_module": "@jupyter-widgets/base",
            "_view_module_version": "1.2.0",
            "_view_name": "LayoutView",
            "align_content": null,
            "align_items": null,
            "align_self": null,
            "border": null,
            "bottom": null,
            "display": null,
            "flex": null,
            "flex_flow": null,
            "grid_area": null,
            "grid_auto_columns": null,
            "grid_auto_flow": null,
            "grid_auto_rows": null,
            "grid_column": null,
            "grid_gap": null,
            "grid_row": null,
            "grid_template_areas": null,
            "grid_template_columns": null,
            "grid_template_rows": null,
            "height": null,
            "justify_content": null,
            "justify_items": null,
            "left": null,
            "margin": null,
            "max_height": null,
            "max_width": null,
            "min_height": null,
            "min_width": null,
            "object_fit": null,
            "object_position": null,
            "order": null,
            "overflow": null,
            "overflow_x": null,
            "overflow_y": null,
            "padding": null,
            "right": null,
            "top": null,
            "visibility": null,
            "width": null
          }
        },
        "b2d240a050eb4315ad22213285344a4a": {
          "model_module": "@jupyter-widgets/controls",
          "model_name": "DescriptionStyleModel",
          "model_module_version": "1.5.0",
          "state": {
            "_model_module": "@jupyter-widgets/controls",
            "_model_module_version": "1.5.0",
            "_model_name": "DescriptionStyleModel",
            "_view_count": null,
            "_view_module": "@jupyter-widgets/base",
            "_view_module_version": "1.2.0",
            "_view_name": "StyleView",
            "description_width": ""
          }
        },
        "94f10a28de9e4bbfba9242fc53a3e595": {
          "model_module": "@jupyter-widgets/controls",
          "model_name": "HBoxModel",
          "model_module_version": "1.5.0",
          "state": {
            "_dom_classes": [],
            "_model_module": "@jupyter-widgets/controls",
            "_model_module_version": "1.5.0",
            "_model_name": "HBoxModel",
            "_view_count": null,
            "_view_module": "@jupyter-widgets/controls",
            "_view_module_version": "1.5.0",
            "_view_name": "HBoxView",
            "box_style": "",
            "children": [
              "IPY_MODEL_819a1687db3042cc96758f96527ffef5",
              "IPY_MODEL_03cd24485f95470b9c2714be7a5d9106",
              "IPY_MODEL_3d63db797086464398f1eaca6ed0e75b"
            ],
            "layout": "IPY_MODEL_c762f9469eb54b55961ad9d13353b8fb"
          }
        },
        "819a1687db3042cc96758f96527ffef5": {
          "model_module": "@jupyter-widgets/controls",
          "model_name": "HTMLModel",
          "model_module_version": "1.5.0",
          "state": {
            "_dom_classes": [],
            "_model_module": "@jupyter-widgets/controls",
            "_model_module_version": "1.5.0",
            "_model_name": "HTMLModel",
            "_view_count": null,
            "_view_module": "@jupyter-widgets/controls",
            "_view_module_version": "1.5.0",
            "_view_name": "HTMLView",
            "description": "",
            "description_tooltip": null,
            "layout": "IPY_MODEL_2b69b714579c4e32abf25ed1b992d711",
            "placeholder": "​",
            "style": "IPY_MODEL_b7e644e79dd64934a213e9723168b721",
            "value": "100%"
          }
        },
        "03cd24485f95470b9c2714be7a5d9106": {
          "model_module": "@jupyter-widgets/controls",
          "model_name": "FloatProgressModel",
          "model_module_version": "1.5.0",
          "state": {
            "_dom_classes": [],
            "_model_module": "@jupyter-widgets/controls",
            "_model_module_version": "1.5.0",
            "_model_name": "FloatProgressModel",
            "_view_count": null,
            "_view_module": "@jupyter-widgets/controls",
            "_view_module_version": "1.5.0",
            "_view_name": "ProgressView",
            "bar_style": "success",
            "description": "",
            "description_tooltip": null,
            "layout": "IPY_MODEL_e02c7987ef044655b9214d0c6a7f3b22",
            "max": 1,
            "min": 0,
            "orientation": "horizontal",
            "style": "IPY_MODEL_3388b34a0913495aaa3167a494f6eee7",
            "value": 1
          }
        },
        "3d63db797086464398f1eaca6ed0e75b": {
          "model_module": "@jupyter-widgets/controls",
          "model_name": "HTMLModel",
          "model_module_version": "1.5.0",
          "state": {
            "_dom_classes": [],
            "_model_module": "@jupyter-widgets/controls",
            "_model_module_version": "1.5.0",
            "_model_name": "HTMLModel",
            "_view_count": null,
            "_view_module": "@jupyter-widgets/controls",
            "_view_module_version": "1.5.0",
            "_view_name": "HTMLView",
            "description": "",
            "description_tooltip": null,
            "layout": "IPY_MODEL_7b7ab6a8be834a7181ec91196e2919de",
            "placeholder": "​",
            "style": "IPY_MODEL_6f865f24f58f4cca84cadf805126399d",
            "value": " 1/1 [06:57&lt;00:00, 417.67s/it]"
          }
        },
        "c762f9469eb54b55961ad9d13353b8fb": {
          "model_module": "@jupyter-widgets/base",
          "model_name": "LayoutModel",
          "model_module_version": "1.2.0",
          "state": {
            "_model_module": "@jupyter-widgets/base",
            "_model_module_version": "1.2.0",
            "_model_name": "LayoutModel",
            "_view_count": null,
            "_view_module": "@jupyter-widgets/base",
            "_view_module_version": "1.2.0",
            "_view_name": "LayoutView",
            "align_content": null,
            "align_items": null,
            "align_self": null,
            "border": null,
            "bottom": null,
            "display": null,
            "flex": null,
            "flex_flow": null,
            "grid_area": null,
            "grid_auto_columns": null,
            "grid_auto_flow": null,
            "grid_auto_rows": null,
            "grid_column": null,
            "grid_gap": null,
            "grid_row": null,
            "grid_template_areas": null,
            "grid_template_columns": null,
            "grid_template_rows": null,
            "height": null,
            "justify_content": null,
            "justify_items": null,
            "left": null,
            "margin": null,
            "max_height": null,
            "max_width": null,
            "min_height": null,
            "min_width": null,
            "object_fit": null,
            "object_position": null,
            "order": null,
            "overflow": null,
            "overflow_x": null,
            "overflow_y": null,
            "padding": null,
            "right": null,
            "top": null,
            "visibility": null,
            "width": null
          }
        },
        "2b69b714579c4e32abf25ed1b992d711": {
          "model_module": "@jupyter-widgets/base",
          "model_name": "LayoutModel",
          "model_module_version": "1.2.0",
          "state": {
            "_model_module": "@jupyter-widgets/base",
            "_model_module_version": "1.2.0",
            "_model_name": "LayoutModel",
            "_view_count": null,
            "_view_module": "@jupyter-widgets/base",
            "_view_module_version": "1.2.0",
            "_view_name": "LayoutView",
            "align_content": null,
            "align_items": null,
            "align_self": null,
            "border": null,
            "bottom": null,
            "display": null,
            "flex": null,
            "flex_flow": null,
            "grid_area": null,
            "grid_auto_columns": null,
            "grid_auto_flow": null,
            "grid_auto_rows": null,
            "grid_column": null,
            "grid_gap": null,
            "grid_row": null,
            "grid_template_areas": null,
            "grid_template_columns": null,
            "grid_template_rows": null,
            "height": null,
            "justify_content": null,
            "justify_items": null,
            "left": null,
            "margin": null,
            "max_height": null,
            "max_width": null,
            "min_height": null,
            "min_width": null,
            "object_fit": null,
            "object_position": null,
            "order": null,
            "overflow": null,
            "overflow_x": null,
            "overflow_y": null,
            "padding": null,
            "right": null,
            "top": null,
            "visibility": null,
            "width": null
          }
        },
        "b7e644e79dd64934a213e9723168b721": {
          "model_module": "@jupyter-widgets/controls",
          "model_name": "DescriptionStyleModel",
          "model_module_version": "1.5.0",
          "state": {
            "_model_module": "@jupyter-widgets/controls",
            "_model_module_version": "1.5.0",
            "_model_name": "DescriptionStyleModel",
            "_view_count": null,
            "_view_module": "@jupyter-widgets/base",
            "_view_module_version": "1.2.0",
            "_view_name": "StyleView",
            "description_width": ""
          }
        },
        "e02c7987ef044655b9214d0c6a7f3b22": {
          "model_module": "@jupyter-widgets/base",
          "model_name": "LayoutModel",
          "model_module_version": "1.2.0",
          "state": {
            "_model_module": "@jupyter-widgets/base",
            "_model_module_version": "1.2.0",
            "_model_name": "LayoutModel",
            "_view_count": null,
            "_view_module": "@jupyter-widgets/base",
            "_view_module_version": "1.2.0",
            "_view_name": "LayoutView",
            "align_content": null,
            "align_items": null,
            "align_self": null,
            "border": null,
            "bottom": null,
            "display": null,
            "flex": null,
            "flex_flow": null,
            "grid_area": null,
            "grid_auto_columns": null,
            "grid_auto_flow": null,
            "grid_auto_rows": null,
            "grid_column": null,
            "grid_gap": null,
            "grid_row": null,
            "grid_template_areas": null,
            "grid_template_columns": null,
            "grid_template_rows": null,
            "height": null,
            "justify_content": null,
            "justify_items": null,
            "left": null,
            "margin": null,
            "max_height": null,
            "max_width": null,
            "min_height": null,
            "min_width": null,
            "object_fit": null,
            "object_position": null,
            "order": null,
            "overflow": null,
            "overflow_x": null,
            "overflow_y": null,
            "padding": null,
            "right": null,
            "top": null,
            "visibility": null,
            "width": null
          }
        },
        "3388b34a0913495aaa3167a494f6eee7": {
          "model_module": "@jupyter-widgets/controls",
          "model_name": "ProgressStyleModel",
          "model_module_version": "1.5.0",
          "state": {
            "_model_module": "@jupyter-widgets/controls",
            "_model_module_version": "1.5.0",
            "_model_name": "ProgressStyleModel",
            "_view_count": null,
            "_view_module": "@jupyter-widgets/base",
            "_view_module_version": "1.2.0",
            "_view_name": "StyleView",
            "bar_color": null,
            "description_width": ""
          }
        },
        "7b7ab6a8be834a7181ec91196e2919de": {
          "model_module": "@jupyter-widgets/base",
          "model_name": "LayoutModel",
          "model_module_version": "1.2.0",
          "state": {
            "_model_module": "@jupyter-widgets/base",
            "_model_module_version": "1.2.0",
            "_model_name": "LayoutModel",
            "_view_count": null,
            "_view_module": "@jupyter-widgets/base",
            "_view_module_version": "1.2.0",
            "_view_name": "LayoutView",
            "align_content": null,
            "align_items": null,
            "align_self": null,
            "border": null,
            "bottom": null,
            "display": null,
            "flex": null,
            "flex_flow": null,
            "grid_area": null,
            "grid_auto_columns": null,
            "grid_auto_flow": null,
            "grid_auto_rows": null,
            "grid_column": null,
            "grid_gap": null,
            "grid_row": null,
            "grid_template_areas": null,
            "grid_template_columns": null,
            "grid_template_rows": null,
            "height": null,
            "justify_content": null,
            "justify_items": null,
            "left": null,
            "margin": null,
            "max_height": null,
            "max_width": null,
            "min_height": null,
            "min_width": null,
            "object_fit": null,
            "object_position": null,
            "order": null,
            "overflow": null,
            "overflow_x": null,
            "overflow_y": null,
            "padding": null,
            "right": null,
            "top": null,
            "visibility": null,
            "width": null
          }
        },
        "6f865f24f58f4cca84cadf805126399d": {
          "model_module": "@jupyter-widgets/controls",
          "model_name": "DescriptionStyleModel",
          "model_module_version": "1.5.0",
          "state": {
            "_model_module": "@jupyter-widgets/controls",
            "_model_module_version": "1.5.0",
            "_model_name": "DescriptionStyleModel",
            "_view_count": null,
            "_view_module": "@jupyter-widgets/base",
            "_view_module_version": "1.2.0",
            "_view_name": "StyleView",
            "description_width": ""
          }
        },
        "3a11269db2c3487ea286695148c47668": {
          "model_module": "@jupyter-widgets/controls",
          "model_name": "HBoxModel",
          "model_module_version": "1.5.0",
          "state": {
            "_dom_classes": [],
            "_model_module": "@jupyter-widgets/controls",
            "_model_module_version": "1.5.0",
            "_model_name": "HBoxModel",
            "_view_count": null,
            "_view_module": "@jupyter-widgets/controls",
            "_view_module_version": "1.5.0",
            "_view_name": "HBoxView",
            "box_style": "",
            "children": [
              "IPY_MODEL_f3360cf85a774bd99c4c7350fef5ac94",
              "IPY_MODEL_cabf5f89c59f48ae8cf6724eb4c78f0d",
              "IPY_MODEL_1c4cbfa2be62490d9e9cd3785590336e"
            ],
            "layout": "IPY_MODEL_9b725839ec184718a3037055fbeec0aa"
          }
        },
        "f3360cf85a774bd99c4c7350fef5ac94": {
          "model_module": "@jupyter-widgets/controls",
          "model_name": "HTMLModel",
          "model_module_version": "1.5.0",
          "state": {
            "_dom_classes": [],
            "_model_module": "@jupyter-widgets/controls",
            "_model_module_version": "1.5.0",
            "_model_name": "HTMLModel",
            "_view_count": null,
            "_view_module": "@jupyter-widgets/controls",
            "_view_module_version": "1.5.0",
            "_view_name": "HTMLView",
            "description": "",
            "description_tooltip": null,
            "layout": "IPY_MODEL_d4f38355b5414f44880c07dfd2457886",
            "placeholder": "​",
            "style": "IPY_MODEL_cd65bd96efbb4514ba73cd57a687bfe8",
            "value": "100%"
          }
        },
        "cabf5f89c59f48ae8cf6724eb4c78f0d": {
          "model_module": "@jupyter-widgets/controls",
          "model_name": "FloatProgressModel",
          "model_module_version": "1.5.0",
          "state": {
            "_dom_classes": [],
            "_model_module": "@jupyter-widgets/controls",
            "_model_module_version": "1.5.0",
            "_model_name": "FloatProgressModel",
            "_view_count": null,
            "_view_module": "@jupyter-widgets/controls",
            "_view_module_version": "1.5.0",
            "_view_name": "ProgressView",
            "bar_style": "success",
            "description": "",
            "description_tooltip": null,
            "layout": "IPY_MODEL_233e3c525a6245728a83ba540f755ae8",
            "max": 6,
            "min": 0,
            "orientation": "horizontal",
            "style": "IPY_MODEL_43ad9cbd143845899be17f12afc59287",
            "value": 6
          }
        },
        "1c4cbfa2be62490d9e9cd3785590336e": {
          "model_module": "@jupyter-widgets/controls",
          "model_name": "HTMLModel",
          "model_module_version": "1.5.0",
          "state": {
            "_dom_classes": [],
            "_model_module": "@jupyter-widgets/controls",
            "_model_module_version": "1.5.0",
            "_model_name": "HTMLModel",
            "_view_count": null,
            "_view_module": "@jupyter-widgets/controls",
            "_view_module_version": "1.5.0",
            "_view_name": "HTMLView",
            "description": "",
            "description_tooltip": null,
            "layout": "IPY_MODEL_87668fe6f3ff458ba709bcfbb34a6aa9",
            "placeholder": "​",
            "style": "IPY_MODEL_25fcef136bd54b22a3a31ea383a1c4c0",
            "value": " 6/6 [04:08&lt;00:00, 33.36s/it]"
          }
        },
        "9b725839ec184718a3037055fbeec0aa": {
          "model_module": "@jupyter-widgets/base",
          "model_name": "LayoutModel",
          "model_module_version": "1.2.0",
          "state": {
            "_model_module": "@jupyter-widgets/base",
            "_model_module_version": "1.2.0",
            "_model_name": "LayoutModel",
            "_view_count": null,
            "_view_module": "@jupyter-widgets/base",
            "_view_module_version": "1.2.0",
            "_view_name": "LayoutView",
            "align_content": null,
            "align_items": null,
            "align_self": null,
            "border": null,
            "bottom": null,
            "display": null,
            "flex": null,
            "flex_flow": null,
            "grid_area": null,
            "grid_auto_columns": null,
            "grid_auto_flow": null,
            "grid_auto_rows": null,
            "grid_column": null,
            "grid_gap": null,
            "grid_row": null,
            "grid_template_areas": null,
            "grid_template_columns": null,
            "grid_template_rows": null,
            "height": null,
            "justify_content": null,
            "justify_items": null,
            "left": null,
            "margin": null,
            "max_height": null,
            "max_width": null,
            "min_height": null,
            "min_width": null,
            "object_fit": null,
            "object_position": null,
            "order": null,
            "overflow": null,
            "overflow_x": null,
            "overflow_y": null,
            "padding": null,
            "right": null,
            "top": null,
            "visibility": null,
            "width": null
          }
        },
        "d4f38355b5414f44880c07dfd2457886": {
          "model_module": "@jupyter-widgets/base",
          "model_name": "LayoutModel",
          "model_module_version": "1.2.0",
          "state": {
            "_model_module": "@jupyter-widgets/base",
            "_model_module_version": "1.2.0",
            "_model_name": "LayoutModel",
            "_view_count": null,
            "_view_module": "@jupyter-widgets/base",
            "_view_module_version": "1.2.0",
            "_view_name": "LayoutView",
            "align_content": null,
            "align_items": null,
            "align_self": null,
            "border": null,
            "bottom": null,
            "display": null,
            "flex": null,
            "flex_flow": null,
            "grid_area": null,
            "grid_auto_columns": null,
            "grid_auto_flow": null,
            "grid_auto_rows": null,
            "grid_column": null,
            "grid_gap": null,
            "grid_row": null,
            "grid_template_areas": null,
            "grid_template_columns": null,
            "grid_template_rows": null,
            "height": null,
            "justify_content": null,
            "justify_items": null,
            "left": null,
            "margin": null,
            "max_height": null,
            "max_width": null,
            "min_height": null,
            "min_width": null,
            "object_fit": null,
            "object_position": null,
            "order": null,
            "overflow": null,
            "overflow_x": null,
            "overflow_y": null,
            "padding": null,
            "right": null,
            "top": null,
            "visibility": null,
            "width": null
          }
        },
        "cd65bd96efbb4514ba73cd57a687bfe8": {
          "model_module": "@jupyter-widgets/controls",
          "model_name": "DescriptionStyleModel",
          "model_module_version": "1.5.0",
          "state": {
            "_model_module": "@jupyter-widgets/controls",
            "_model_module_version": "1.5.0",
            "_model_name": "DescriptionStyleModel",
            "_view_count": null,
            "_view_module": "@jupyter-widgets/base",
            "_view_module_version": "1.2.0",
            "_view_name": "StyleView",
            "description_width": ""
          }
        },
        "233e3c525a6245728a83ba540f755ae8": {
          "model_module": "@jupyter-widgets/base",
          "model_name": "LayoutModel",
          "model_module_version": "1.2.0",
          "state": {
            "_model_module": "@jupyter-widgets/base",
            "_model_module_version": "1.2.0",
            "_model_name": "LayoutModel",
            "_view_count": null,
            "_view_module": "@jupyter-widgets/base",
            "_view_module_version": "1.2.0",
            "_view_name": "LayoutView",
            "align_content": null,
            "align_items": null,
            "align_self": null,
            "border": null,
            "bottom": null,
            "display": null,
            "flex": null,
            "flex_flow": null,
            "grid_area": null,
            "grid_auto_columns": null,
            "grid_auto_flow": null,
            "grid_auto_rows": null,
            "grid_column": null,
            "grid_gap": null,
            "grid_row": null,
            "grid_template_areas": null,
            "grid_template_columns": null,
            "grid_template_rows": null,
            "height": null,
            "justify_content": null,
            "justify_items": null,
            "left": null,
            "margin": null,
            "max_height": null,
            "max_width": null,
            "min_height": null,
            "min_width": null,
            "object_fit": null,
            "object_position": null,
            "order": null,
            "overflow": null,
            "overflow_x": null,
            "overflow_y": null,
            "padding": null,
            "right": null,
            "top": null,
            "visibility": null,
            "width": null
          }
        },
        "43ad9cbd143845899be17f12afc59287": {
          "model_module": "@jupyter-widgets/controls",
          "model_name": "ProgressStyleModel",
          "model_module_version": "1.5.0",
          "state": {
            "_model_module": "@jupyter-widgets/controls",
            "_model_module_version": "1.5.0",
            "_model_name": "ProgressStyleModel",
            "_view_count": null,
            "_view_module": "@jupyter-widgets/base",
            "_view_module_version": "1.2.0",
            "_view_name": "StyleView",
            "bar_color": null,
            "description_width": ""
          }
        },
        "87668fe6f3ff458ba709bcfbb34a6aa9": {
          "model_module": "@jupyter-widgets/base",
          "model_name": "LayoutModel",
          "model_module_version": "1.2.0",
          "state": {
            "_model_module": "@jupyter-widgets/base",
            "_model_module_version": "1.2.0",
            "_model_name": "LayoutModel",
            "_view_count": null,
            "_view_module": "@jupyter-widgets/base",
            "_view_module_version": "1.2.0",
            "_view_name": "LayoutView",
            "align_content": null,
            "align_items": null,
            "align_self": null,
            "border": null,
            "bottom": null,
            "display": null,
            "flex": null,
            "flex_flow": null,
            "grid_area": null,
            "grid_auto_columns": null,
            "grid_auto_flow": null,
            "grid_auto_rows": null,
            "grid_column": null,
            "grid_gap": null,
            "grid_row": null,
            "grid_template_areas": null,
            "grid_template_columns": null,
            "grid_template_rows": null,
            "height": null,
            "justify_content": null,
            "justify_items": null,
            "left": null,
            "margin": null,
            "max_height": null,
            "max_width": null,
            "min_height": null,
            "min_width": null,
            "object_fit": null,
            "object_position": null,
            "order": null,
            "overflow": null,
            "overflow_x": null,
            "overflow_y": null,
            "padding": null,
            "right": null,
            "top": null,
            "visibility": null,
            "width": null
          }
        },
        "25fcef136bd54b22a3a31ea383a1c4c0": {
          "model_module": "@jupyter-widgets/controls",
          "model_name": "DescriptionStyleModel",
          "model_module_version": "1.5.0",
          "state": {
            "_model_module": "@jupyter-widgets/controls",
            "_model_module_version": "1.5.0",
            "_model_name": "DescriptionStyleModel",
            "_view_count": null,
            "_view_module": "@jupyter-widgets/base",
            "_view_module_version": "1.2.0",
            "_view_name": "StyleView",
            "description_width": ""
          }
        },
        "f95abd9ac8444d118a8ee2533a25fa18": {
          "model_module": "@jupyter-widgets/controls",
          "model_name": "HBoxModel",
          "model_module_version": "1.5.0",
          "state": {
            "_dom_classes": [],
            "_model_module": "@jupyter-widgets/controls",
            "_model_module_version": "1.5.0",
            "_model_name": "HBoxModel",
            "_view_count": null,
            "_view_module": "@jupyter-widgets/controls",
            "_view_module_version": "1.5.0",
            "_view_name": "HBoxView",
            "box_style": "",
            "children": [
              "IPY_MODEL_1ee63aa4d1bb44c3975c865de0bb5fa4",
              "IPY_MODEL_40d1c14249914f0f8e1f007183637ac1",
              "IPY_MODEL_dc04f9e49ae849fab2459a75a7962f88"
            ],
            "layout": "IPY_MODEL_a59371df45b849d8a9ab1c1f3287b725"
          }
        },
        "1ee63aa4d1bb44c3975c865de0bb5fa4": {
          "model_module": "@jupyter-widgets/controls",
          "model_name": "HTMLModel",
          "model_module_version": "1.5.0",
          "state": {
            "_dom_classes": [],
            "_model_module": "@jupyter-widgets/controls",
            "_model_module_version": "1.5.0",
            "_model_name": "HTMLModel",
            "_view_count": null,
            "_view_module": "@jupyter-widgets/controls",
            "_view_module_version": "1.5.0",
            "_view_name": "HTMLView",
            "description": "",
            "description_tooltip": null,
            "layout": "IPY_MODEL_ff5042e44727461eb5a089aa693330ae",
            "placeholder": "​",
            "style": "IPY_MODEL_9d8844b1f69840d9b79053c9dd237e41",
            "value": "100%"
          }
        },
        "40d1c14249914f0f8e1f007183637ac1": {
          "model_module": "@jupyter-widgets/controls",
          "model_name": "FloatProgressModel",
          "model_module_version": "1.5.0",
          "state": {
            "_dom_classes": [],
            "_model_module": "@jupyter-widgets/controls",
            "_model_module_version": "1.5.0",
            "_model_name": "FloatProgressModel",
            "_view_count": null,
            "_view_module": "@jupyter-widgets/controls",
            "_view_module_version": "1.5.0",
            "_view_name": "ProgressView",
            "bar_style": "success",
            "description": "",
            "description_tooltip": null,
            "layout": "IPY_MODEL_d94063ab37d54030bc0b05981ebe98d8",
            "max": 1,
            "min": 0,
            "orientation": "horizontal",
            "style": "IPY_MODEL_50dd89f23bba4c958ebbe1e7fef0bbc4",
            "value": 1
          }
        },
        "dc04f9e49ae849fab2459a75a7962f88": {
          "model_module": "@jupyter-widgets/controls",
          "model_name": "HTMLModel",
          "model_module_version": "1.5.0",
          "state": {
            "_dom_classes": [],
            "_model_module": "@jupyter-widgets/controls",
            "_model_module_version": "1.5.0",
            "_model_name": "HTMLModel",
            "_view_count": null,
            "_view_module": "@jupyter-widgets/controls",
            "_view_module_version": "1.5.0",
            "_view_name": "HTMLView",
            "description": "",
            "description_tooltip": null,
            "layout": "IPY_MODEL_6706d3f9ad9642068e9a24b7c2d1c35f",
            "placeholder": "​",
            "style": "IPY_MODEL_d6c066f124da45bdb1e2f3c2d3d24b15",
            "value": " 1/1 [06:28&lt;00:00, 388.99s/it]"
          }
        },
        "a59371df45b849d8a9ab1c1f3287b725": {
          "model_module": "@jupyter-widgets/base",
          "model_name": "LayoutModel",
          "model_module_version": "1.2.0",
          "state": {
            "_model_module": "@jupyter-widgets/base",
            "_model_module_version": "1.2.0",
            "_model_name": "LayoutModel",
            "_view_count": null,
            "_view_module": "@jupyter-widgets/base",
            "_view_module_version": "1.2.0",
            "_view_name": "LayoutView",
            "align_content": null,
            "align_items": null,
            "align_self": null,
            "border": null,
            "bottom": null,
            "display": null,
            "flex": null,
            "flex_flow": null,
            "grid_area": null,
            "grid_auto_columns": null,
            "grid_auto_flow": null,
            "grid_auto_rows": null,
            "grid_column": null,
            "grid_gap": null,
            "grid_row": null,
            "grid_template_areas": null,
            "grid_template_columns": null,
            "grid_template_rows": null,
            "height": null,
            "justify_content": null,
            "justify_items": null,
            "left": null,
            "margin": null,
            "max_height": null,
            "max_width": null,
            "min_height": null,
            "min_width": null,
            "object_fit": null,
            "object_position": null,
            "order": null,
            "overflow": null,
            "overflow_x": null,
            "overflow_y": null,
            "padding": null,
            "right": null,
            "top": null,
            "visibility": null,
            "width": null
          }
        },
        "ff5042e44727461eb5a089aa693330ae": {
          "model_module": "@jupyter-widgets/base",
          "model_name": "LayoutModel",
          "model_module_version": "1.2.0",
          "state": {
            "_model_module": "@jupyter-widgets/base",
            "_model_module_version": "1.2.0",
            "_model_name": "LayoutModel",
            "_view_count": null,
            "_view_module": "@jupyter-widgets/base",
            "_view_module_version": "1.2.0",
            "_view_name": "LayoutView",
            "align_content": null,
            "align_items": null,
            "align_self": null,
            "border": null,
            "bottom": null,
            "display": null,
            "flex": null,
            "flex_flow": null,
            "grid_area": null,
            "grid_auto_columns": null,
            "grid_auto_flow": null,
            "grid_auto_rows": null,
            "grid_column": null,
            "grid_gap": null,
            "grid_row": null,
            "grid_template_areas": null,
            "grid_template_columns": null,
            "grid_template_rows": null,
            "height": null,
            "justify_content": null,
            "justify_items": null,
            "left": null,
            "margin": null,
            "max_height": null,
            "max_width": null,
            "min_height": null,
            "min_width": null,
            "object_fit": null,
            "object_position": null,
            "order": null,
            "overflow": null,
            "overflow_x": null,
            "overflow_y": null,
            "padding": null,
            "right": null,
            "top": null,
            "visibility": null,
            "width": null
          }
        },
        "9d8844b1f69840d9b79053c9dd237e41": {
          "model_module": "@jupyter-widgets/controls",
          "model_name": "DescriptionStyleModel",
          "model_module_version": "1.5.0",
          "state": {
            "_model_module": "@jupyter-widgets/controls",
            "_model_module_version": "1.5.0",
            "_model_name": "DescriptionStyleModel",
            "_view_count": null,
            "_view_module": "@jupyter-widgets/base",
            "_view_module_version": "1.2.0",
            "_view_name": "StyleView",
            "description_width": ""
          }
        },
        "d94063ab37d54030bc0b05981ebe98d8": {
          "model_module": "@jupyter-widgets/base",
          "model_name": "LayoutModel",
          "model_module_version": "1.2.0",
          "state": {
            "_model_module": "@jupyter-widgets/base",
            "_model_module_version": "1.2.0",
            "_model_name": "LayoutModel",
            "_view_count": null,
            "_view_module": "@jupyter-widgets/base",
            "_view_module_version": "1.2.0",
            "_view_name": "LayoutView",
            "align_content": null,
            "align_items": null,
            "align_self": null,
            "border": null,
            "bottom": null,
            "display": null,
            "flex": null,
            "flex_flow": null,
            "grid_area": null,
            "grid_auto_columns": null,
            "grid_auto_flow": null,
            "grid_auto_rows": null,
            "grid_column": null,
            "grid_gap": null,
            "grid_row": null,
            "grid_template_areas": null,
            "grid_template_columns": null,
            "grid_template_rows": null,
            "height": null,
            "justify_content": null,
            "justify_items": null,
            "left": null,
            "margin": null,
            "max_height": null,
            "max_width": null,
            "min_height": null,
            "min_width": null,
            "object_fit": null,
            "object_position": null,
            "order": null,
            "overflow": null,
            "overflow_x": null,
            "overflow_y": null,
            "padding": null,
            "right": null,
            "top": null,
            "visibility": null,
            "width": null
          }
        },
        "50dd89f23bba4c958ebbe1e7fef0bbc4": {
          "model_module": "@jupyter-widgets/controls",
          "model_name": "ProgressStyleModel",
          "model_module_version": "1.5.0",
          "state": {
            "_model_module": "@jupyter-widgets/controls",
            "_model_module_version": "1.5.0",
            "_model_name": "ProgressStyleModel",
            "_view_count": null,
            "_view_module": "@jupyter-widgets/base",
            "_view_module_version": "1.2.0",
            "_view_name": "StyleView",
            "bar_color": null,
            "description_width": ""
          }
        },
        "6706d3f9ad9642068e9a24b7c2d1c35f": {
          "model_module": "@jupyter-widgets/base",
          "model_name": "LayoutModel",
          "model_module_version": "1.2.0",
          "state": {
            "_model_module": "@jupyter-widgets/base",
            "_model_module_version": "1.2.0",
            "_model_name": "LayoutModel",
            "_view_count": null,
            "_view_module": "@jupyter-widgets/base",
            "_view_module_version": "1.2.0",
            "_view_name": "LayoutView",
            "align_content": null,
            "align_items": null,
            "align_self": null,
            "border": null,
            "bottom": null,
            "display": null,
            "flex": null,
            "flex_flow": null,
            "grid_area": null,
            "grid_auto_columns": null,
            "grid_auto_flow": null,
            "grid_auto_rows": null,
            "grid_column": null,
            "grid_gap": null,
            "grid_row": null,
            "grid_template_areas": null,
            "grid_template_columns": null,
            "grid_template_rows": null,
            "height": null,
            "justify_content": null,
            "justify_items": null,
            "left": null,
            "margin": null,
            "max_height": null,
            "max_width": null,
            "min_height": null,
            "min_width": null,
            "object_fit": null,
            "object_position": null,
            "order": null,
            "overflow": null,
            "overflow_x": null,
            "overflow_y": null,
            "padding": null,
            "right": null,
            "top": null,
            "visibility": null,
            "width": null
          }
        },
        "d6c066f124da45bdb1e2f3c2d3d24b15": {
          "model_module": "@jupyter-widgets/controls",
          "model_name": "DescriptionStyleModel",
          "model_module_version": "1.5.0",
          "state": {
            "_model_module": "@jupyter-widgets/controls",
            "_model_module_version": "1.5.0",
            "_model_name": "DescriptionStyleModel",
            "_view_count": null,
            "_view_module": "@jupyter-widgets/base",
            "_view_module_version": "1.2.0",
            "_view_name": "StyleView",
            "description_width": ""
          }
        },
        "80c58d19a32b406585add84c87dc5f0d": {
          "model_module": "@jupyter-widgets/controls",
          "model_name": "HBoxModel",
          "model_module_version": "1.5.0",
          "state": {
            "_dom_classes": [],
            "_model_module": "@jupyter-widgets/controls",
            "_model_module_version": "1.5.0",
            "_model_name": "HBoxModel",
            "_view_count": null,
            "_view_module": "@jupyter-widgets/controls",
            "_view_module_version": "1.5.0",
            "_view_name": "HBoxView",
            "box_style": "",
            "children": [
              "IPY_MODEL_dccc2c01339e4bd88c2d157cf2639686",
              "IPY_MODEL_34a3850b73c84c24a460ad67e5c310d5",
              "IPY_MODEL_e536692ee7744933adbae66858d03899"
            ],
            "layout": "IPY_MODEL_ea996032d4d447d6a0a84f02671ce1eb"
          }
        },
        "dccc2c01339e4bd88c2d157cf2639686": {
          "model_module": "@jupyter-widgets/controls",
          "model_name": "HTMLModel",
          "model_module_version": "1.5.0",
          "state": {
            "_dom_classes": [],
            "_model_module": "@jupyter-widgets/controls",
            "_model_module_version": "1.5.0",
            "_model_name": "HTMLModel",
            "_view_count": null,
            "_view_module": "@jupyter-widgets/controls",
            "_view_module_version": "1.5.0",
            "_view_name": "HTMLView",
            "description": "",
            "description_tooltip": null,
            "layout": "IPY_MODEL_066fca39537d4283893ba509131c2884",
            "placeholder": "​",
            "style": "IPY_MODEL_45c1b8f0bcc646d3b44750a333d6441b",
            "value": "100%"
          }
        },
        "34a3850b73c84c24a460ad67e5c310d5": {
          "model_module": "@jupyter-widgets/controls",
          "model_name": "FloatProgressModel",
          "model_module_version": "1.5.0",
          "state": {
            "_dom_classes": [],
            "_model_module": "@jupyter-widgets/controls",
            "_model_module_version": "1.5.0",
            "_model_name": "FloatProgressModel",
            "_view_count": null,
            "_view_module": "@jupyter-widgets/controls",
            "_view_module_version": "1.5.0",
            "_view_name": "ProgressView",
            "bar_style": "success",
            "description": "",
            "description_tooltip": null,
            "layout": "IPY_MODEL_8b77d3702fa14e23a997c28eaf96c062",
            "max": 6,
            "min": 0,
            "orientation": "horizontal",
            "style": "IPY_MODEL_8a7e2a3a40ec44d69b359db9e8724bd8",
            "value": 6
          }
        },
        "e536692ee7744933adbae66858d03899": {
          "model_module": "@jupyter-widgets/controls",
          "model_name": "HTMLModel",
          "model_module_version": "1.5.0",
          "state": {
            "_dom_classes": [],
            "_model_module": "@jupyter-widgets/controls",
            "_model_module_version": "1.5.0",
            "_model_name": "HTMLModel",
            "_view_count": null,
            "_view_module": "@jupyter-widgets/controls",
            "_view_module_version": "1.5.0",
            "_view_name": "HTMLView",
            "description": "",
            "description_tooltip": null,
            "layout": "IPY_MODEL_4334d1471c2c4628ba42dd0ed1dba1ae",
            "placeholder": "​",
            "style": "IPY_MODEL_a70f7d01f3314fa6964fea582c577c7a",
            "value": " 6/6 [04:10&lt;00:00, 33.59s/it]"
          }
        },
        "ea996032d4d447d6a0a84f02671ce1eb": {
          "model_module": "@jupyter-widgets/base",
          "model_name": "LayoutModel",
          "model_module_version": "1.2.0",
          "state": {
            "_model_module": "@jupyter-widgets/base",
            "_model_module_version": "1.2.0",
            "_model_name": "LayoutModel",
            "_view_count": null,
            "_view_module": "@jupyter-widgets/base",
            "_view_module_version": "1.2.0",
            "_view_name": "LayoutView",
            "align_content": null,
            "align_items": null,
            "align_self": null,
            "border": null,
            "bottom": null,
            "display": null,
            "flex": null,
            "flex_flow": null,
            "grid_area": null,
            "grid_auto_columns": null,
            "grid_auto_flow": null,
            "grid_auto_rows": null,
            "grid_column": null,
            "grid_gap": null,
            "grid_row": null,
            "grid_template_areas": null,
            "grid_template_columns": null,
            "grid_template_rows": null,
            "height": null,
            "justify_content": null,
            "justify_items": null,
            "left": null,
            "margin": null,
            "max_height": null,
            "max_width": null,
            "min_height": null,
            "min_width": null,
            "object_fit": null,
            "object_position": null,
            "order": null,
            "overflow": null,
            "overflow_x": null,
            "overflow_y": null,
            "padding": null,
            "right": null,
            "top": null,
            "visibility": null,
            "width": null
          }
        },
        "066fca39537d4283893ba509131c2884": {
          "model_module": "@jupyter-widgets/base",
          "model_name": "LayoutModel",
          "model_module_version": "1.2.0",
          "state": {
            "_model_module": "@jupyter-widgets/base",
            "_model_module_version": "1.2.0",
            "_model_name": "LayoutModel",
            "_view_count": null,
            "_view_module": "@jupyter-widgets/base",
            "_view_module_version": "1.2.0",
            "_view_name": "LayoutView",
            "align_content": null,
            "align_items": null,
            "align_self": null,
            "border": null,
            "bottom": null,
            "display": null,
            "flex": null,
            "flex_flow": null,
            "grid_area": null,
            "grid_auto_columns": null,
            "grid_auto_flow": null,
            "grid_auto_rows": null,
            "grid_column": null,
            "grid_gap": null,
            "grid_row": null,
            "grid_template_areas": null,
            "grid_template_columns": null,
            "grid_template_rows": null,
            "height": null,
            "justify_content": null,
            "justify_items": null,
            "left": null,
            "margin": null,
            "max_height": null,
            "max_width": null,
            "min_height": null,
            "min_width": null,
            "object_fit": null,
            "object_position": null,
            "order": null,
            "overflow": null,
            "overflow_x": null,
            "overflow_y": null,
            "padding": null,
            "right": null,
            "top": null,
            "visibility": null,
            "width": null
          }
        },
        "45c1b8f0bcc646d3b44750a333d6441b": {
          "model_module": "@jupyter-widgets/controls",
          "model_name": "DescriptionStyleModel",
          "model_module_version": "1.5.0",
          "state": {
            "_model_module": "@jupyter-widgets/controls",
            "_model_module_version": "1.5.0",
            "_model_name": "DescriptionStyleModel",
            "_view_count": null,
            "_view_module": "@jupyter-widgets/base",
            "_view_module_version": "1.2.0",
            "_view_name": "StyleView",
            "description_width": ""
          }
        },
        "8b77d3702fa14e23a997c28eaf96c062": {
          "model_module": "@jupyter-widgets/base",
          "model_name": "LayoutModel",
          "model_module_version": "1.2.0",
          "state": {
            "_model_module": "@jupyter-widgets/base",
            "_model_module_version": "1.2.0",
            "_model_name": "LayoutModel",
            "_view_count": null,
            "_view_module": "@jupyter-widgets/base",
            "_view_module_version": "1.2.0",
            "_view_name": "LayoutView",
            "align_content": null,
            "align_items": null,
            "align_self": null,
            "border": null,
            "bottom": null,
            "display": null,
            "flex": null,
            "flex_flow": null,
            "grid_area": null,
            "grid_auto_columns": null,
            "grid_auto_flow": null,
            "grid_auto_rows": null,
            "grid_column": null,
            "grid_gap": null,
            "grid_row": null,
            "grid_template_areas": null,
            "grid_template_columns": null,
            "grid_template_rows": null,
            "height": null,
            "justify_content": null,
            "justify_items": null,
            "left": null,
            "margin": null,
            "max_height": null,
            "max_width": null,
            "min_height": null,
            "min_width": null,
            "object_fit": null,
            "object_position": null,
            "order": null,
            "overflow": null,
            "overflow_x": null,
            "overflow_y": null,
            "padding": null,
            "right": null,
            "top": null,
            "visibility": null,
            "width": null
          }
        },
        "8a7e2a3a40ec44d69b359db9e8724bd8": {
          "model_module": "@jupyter-widgets/controls",
          "model_name": "ProgressStyleModel",
          "model_module_version": "1.5.0",
          "state": {
            "_model_module": "@jupyter-widgets/controls",
            "_model_module_version": "1.5.0",
            "_model_name": "ProgressStyleModel",
            "_view_count": null,
            "_view_module": "@jupyter-widgets/base",
            "_view_module_version": "1.2.0",
            "_view_name": "StyleView",
            "bar_color": null,
            "description_width": ""
          }
        },
        "4334d1471c2c4628ba42dd0ed1dba1ae": {
          "model_module": "@jupyter-widgets/base",
          "model_name": "LayoutModel",
          "model_module_version": "1.2.0",
          "state": {
            "_model_module": "@jupyter-widgets/base",
            "_model_module_version": "1.2.0",
            "_model_name": "LayoutModel",
            "_view_count": null,
            "_view_module": "@jupyter-widgets/base",
            "_view_module_version": "1.2.0",
            "_view_name": "LayoutView",
            "align_content": null,
            "align_items": null,
            "align_self": null,
            "border": null,
            "bottom": null,
            "display": null,
            "flex": null,
            "flex_flow": null,
            "grid_area": null,
            "grid_auto_columns": null,
            "grid_auto_flow": null,
            "grid_auto_rows": null,
            "grid_column": null,
            "grid_gap": null,
            "grid_row": null,
            "grid_template_areas": null,
            "grid_template_columns": null,
            "grid_template_rows": null,
            "height": null,
            "justify_content": null,
            "justify_items": null,
            "left": null,
            "margin": null,
            "max_height": null,
            "max_width": null,
            "min_height": null,
            "min_width": null,
            "object_fit": null,
            "object_position": null,
            "order": null,
            "overflow": null,
            "overflow_x": null,
            "overflow_y": null,
            "padding": null,
            "right": null,
            "top": null,
            "visibility": null,
            "width": null
          }
        },
        "a70f7d01f3314fa6964fea582c577c7a": {
          "model_module": "@jupyter-widgets/controls",
          "model_name": "DescriptionStyleModel",
          "model_module_version": "1.5.0",
          "state": {
            "_model_module": "@jupyter-widgets/controls",
            "_model_module_version": "1.5.0",
            "_model_name": "DescriptionStyleModel",
            "_view_count": null,
            "_view_module": "@jupyter-widgets/base",
            "_view_module_version": "1.2.0",
            "_view_name": "StyleView",
            "description_width": ""
          }
        }
      }
    }
  },
  "nbformat": 4,
  "nbformat_minor": 0
}